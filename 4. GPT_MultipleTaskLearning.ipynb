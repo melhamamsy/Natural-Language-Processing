{
 "cells": [
  {
   "cell_type": "markdown",
   "metadata": {},
   "source": [
    "# Siamese BERT-networks for semantic searching"
   ]
  },
  {
   "cell_type": "code",
   "execution_count": 1,
   "metadata": {},
   "outputs": [
    {
     "name": "stderr",
     "output_type": "stream",
     "text": [
      "f:\\__ing\\llming_1\\.venv\\lib\\site-packages\\tqdm\\auto.py:21: TqdmWarning: IProgress not found. Please update jupyter and ipywidgets. See https://ipywidgets.readthedocs.io/en/stable/user_install.html\n",
      "  from .autonotebook import tqdm as notebook_tqdm\n"
     ]
    }
   ],
   "source": [
    "import requests\n",
    "from bs4 import BeautifulSoup\n",
    "from urllib.request import urlopen\n",
    "import numpy as np\n",
    "from datasets import load_dataset\n",
    "import torch\n",
    "\n",
    "from sentence_transformers import SentenceTransformer, util, InputExample, losses, evaluation\n",
    "from transformers import pipeline\n",
    "\n",
    "from random import sample, seed, shuffle\n",
    "from torch.utils.data import DataLoader"
   ]
  },
  {
   "cell_type": "code",
   "execution_count": 2,
   "metadata": {},
   "outputs": [
    {
     "name": "stderr",
     "output_type": "stream",
     "text": [
      "You are using a model of type roberta to instantiate a model of type bert. This is not supported for all configurations of models and can yield errors.\n"
     ]
    },
    {
     "data": {
      "text/plain": [
       "512"
      ]
     },
     "execution_count": 2,
     "metadata": {},
     "output_type": "execute_result"
    }
   ],
   "source": [
    "def get_max_input_size(model):\n",
    "    from transformers import BertConfig\n",
    "\n",
    "    # Load the configuration of the pre-trained BERT model\n",
    "    config = BertConfig.from_pretrained(model)\n",
    "\n",
    "    # Get the maximum input size\n",
    "    max_input_size = config.max_position_embeddings\n",
    "    return max_input_size - 2 # CLS & SEP\n",
    "\n",
    "get_max_input_size('deepset/roberta-base-squad2')"
   ]
  },
  {
   "cell_type": "code",
   "execution_count": 3,
   "metadata": {},
   "outputs": [
    {
     "name": "stdout",
     "output_type": "stream",
     "text": [
      "Mohammed Elhamamsy - Google SearchGoogle×Please click here if you are not redirected within a few seconds.    AllImagesNewsVideos Maps Books Search tools    Any timeAny timePast hourPast 24 hoursPast weekPast monthPast yearAll resultsAll resultsVerbatimIncluding results for Mohamed ElhamamsySearch only for Mohammed ElhamamsyMohammed Elhamamsy - Data Scientist - SAS - LinkedIneg.linkedin.com › melhamamsyA data scientist with a strong background in Mathematics, proficiency in Python language, in-depth knowledge of Statistics and Machine Learning, ...Mohamed Elhamamsy | LinkedIneg.linkedin.com › mohamed-elhamamsy-19950425“Mohamed is a dedicated person seeking perfection at every task he has the ability to multi-task and give a new solution for any problem, He is Organized, and ...Mohamed Elhamamsy, DDS - Harbor Health Serviceswww.hhsi.us › providers › mohamed-elhamamsyMohamed Elhamamsy, DDS. Job Title: Dentist Specialty/Focus: General Dentistry School of Degree(s): Alexandria University, EgyptMohamed Elhamamsy |\n"
     ]
    },
    {
     "data": {
      "text/plain": [
       "{'score': 0.34349820017814636,\n",
       " 'start': 347,\n",
       " 'end': 361,\n",
       " 'answer': 'Data Scientist'}"
      ]
     },
     "execution_count": 3,
     "metadata": {},
     "output_type": "execute_result"
    }
   ],
   "source": [
    "PERSON = 'Mohammed Elhamamsy'\n",
    "\n",
    "google_html = BeautifulSoup(\n",
    "    requests.get(\n",
    "        f'https://www.google.com/search?hl=en&q={PERSON}'\n",
    "    ).text\n",
    ").get_text().split(f\"_\".join(PERSON.split()))[-1][:1024]\n",
    "\n",
    "nlp = pipeline(\n",
    "    task='question-answering',\n",
    "    model='deepset/roberta-base-squad2',\n",
    "    tokenizer='deepset/roberta-base-squad2',\n",
    "    max_length=10\n",
    ")\n",
    "\n",
    "print(google_html)\n",
    "nlp(f'Who is {PERSON}?', google_html)"
   ]
  },
  {
   "cell_type": "code",
   "execution_count": 4,
   "metadata": {},
   "outputs": [
    {
     "name": "stdout",
     "output_type": "stream",
     "text": [
      "There are 70 documents/paragraphs\n"
     ]
    }
   ],
   "source": [
    "text = urlopen('https://www.gutenberg.org/cache/epub/10834/pg10834.txt').read().decode()\n",
    "\n",
    "documents = list(\n",
    "    filter(\n",
    "        lambda x: len(x)>100, text.split('\\r\\n\\r\\n')\n",
    "    )\n",
    ")\n",
    "documents = np.array(documents)\n",
    "\n",
    "print(f'There are {len(documents)} documents/paragraphs')"
   ]
  },
  {
   "cell_type": "code",
   "execution_count": 5,
   "metadata": {},
   "outputs": [
    {
     "data": {
      "text/plain": [
       "SentenceTransformer(\n",
       "  (0): Transformer({'max_seq_length': 256, 'do_lower_case': False}) with Transformer model: DistilBertModel \n",
       "  (1): Pooling({'word_embedding_dimension': 768, 'pooling_mode_cls_token': False, 'pooling_mode_mean_tokens': True, 'pooling_mode_max_tokens': False, 'pooling_mode_mean_sqrt_len_tokens': False})\n",
       ")"
      ]
     },
     "execution_count": 5,
     "metadata": {},
     "output_type": "execute_result"
    }
   ],
   "source": [
    "bi_encoder = SentenceTransformer('msmarco-distilbert-base-v4')\n",
    "bi_encoder.max_seq_length = 256\n",
    "\n",
    "bi_encoder"
   ]
  },
  {
   "cell_type": "code",
   "execution_count": 6,
   "metadata": {},
   "outputs": [
    {
     "name": "stderr",
     "output_type": "stream",
     "text": [
      "Batches: 100%|██████████| 3/3 [00:02<00:00,  1.09it/s]\n"
     ]
    },
    {
     "data": {
      "text/plain": [
       "torch.Size([70, 768])"
      ]
     },
     "execution_count": 6,
     "metadata": {},
     "output_type": "execute_result"
    }
   ],
   "source": [
    "document_embeddings = bi_encoder.encode(\n",
    "    documents, convert_to_tensor=True, show_progress_bar=True\n",
    ")\n",
    "\n",
    "document_embeddings.shape"
   ]
  },
  {
   "cell_type": "code",
   "execution_count": 7,
   "metadata": {},
   "outputs": [
    {
     "data": {
      "text/plain": [
       "torch.Size([768])"
      ]
     },
     "execution_count": 7,
     "metadata": {},
     "output_type": "execute_result"
    }
   ],
   "source": [
    "QUESTION = 'How many horns does a flea have?'\n",
    "\n",
    "question_embedding = bi_encoder.encode(QUESTION, convert_to_tensor=True)\n",
    "question_embedding.shape"
   ]
  },
  {
   "cell_type": "code",
   "execution_count": 8,
   "metadata": {},
   "outputs": [
    {
     "data": {
      "text/plain": [
       "[{'corpus_id': 15, 'score': 0.4899492859840393},\n",
       " {'corpus_id': 20, 'score': 0.24793772399425507},\n",
       " {'corpus_id': 22, 'score': 0.18478833138942719}]"
      ]
     },
     "execution_count": 8,
     "metadata": {},
     "output_type": "execute_result"
    }
   ],
   "source": [
    "hits = util.semantic_search(question_embedding,document_embeddings,top_k=3)[0]\n",
    "hits"
   ]
  },
  {
   "cell_type": "code",
   "execution_count": 9,
   "metadata": {},
   "outputs": [
    {
     "name": "stdout",
     "output_type": "stream",
     "text": [
      "Question: How many horns does a flea have?\n",
      "\n",
      "Document 1 Cos_Sim 0.490:\n",
      "\n",
      "When examined by a microscope, the flea is a pleasant object. The body\n",
      "is curiously adorned with a suit of polished armour, neatly jointed, and\n",
      "beset with a great number of sharp pins almost like the quills of a\n",
      "porcupine: it has a small head, large eyes, two horns, or feelers, which\n",
      "proceed from the head, and four long legs from the breast; they are very\n",
      "hairy and long, and have several joints, which fold as it were one\n",
      "within another.\n",
      "\n",
      "\n",
      "Document 2 Cos_Sim 0.248:\n",
      "\n",
      "The Chego is a very small animal, about one fourth the size of a common\n",
      "flea: it is very troublesome, in warm climates, to the poor blacks, such\n",
      "as go barefoot, and the slovenly: it penetrates the skin, under which it\n",
      "lays a bunch of eggs, which swell to the bigness of a small pea.\n",
      "\n",
      "\n",
      "Document 3 Cos_Sim 0.185:\n",
      "\n",
      "\n",
      "This is one of the largest of the insect tribe. It is met with in\n",
      "different countries, and of various sizes, from two or three inches to\n",
      "nearly a foot in length: it somewhat resembles a lobster, and casts its\n",
      "skin, as the lobster does its shell.\n",
      "\n",
      "\n"
     ]
    }
   ],
   "source": [
    "print(f\"Question: {QUESTION}\\n\")\n",
    "\n",
    "for i, hit in enumerate(hits):\n",
    "    print(f'Document {i + 1} Cos_Sim {hit[\"score\"]:.3f}:\\n\\n{documents[hit[\"corpus_id\"]]}\\n\\n')"
   ]
  },
  {
   "cell_type": "code",
   "execution_count": 10,
   "metadata": {},
   "outputs": [
    {
     "data": {
      "text/plain": [
       "{'score': 0.8524741530418396, 'start': 259, 'end': 262, 'answer': 'two'}"
      ]
     },
     "execution_count": 10,
     "metadata": {},
     "output_type": "execute_result"
    }
   ],
   "source": [
    "nlp(QUESTION, str(documents[hits[0]['corpus_id']]))"
   ]
  },
  {
   "cell_type": "code",
   "execution_count": 11,
   "metadata": {},
   "outputs": [],
   "source": [
    "# Load dataset to pretrain the open-book QA system:\n",
    "training_qa = load_dataset('adversarial_qa','adversarialQA',split='train')\n",
    "\n",
    "good_training_data = []\n",
    "bad_training_data = []\n",
    "\n",
    "last_example = None\n",
    "for example in training_qa:\n",
    "    if last_example and (example['context'] != last_example['context']):\n",
    "        bad_training_data.append((example['question'], example['context'], 0.0))\n",
    "\n",
    "    good_training_data.append((example['question'], example['context'], 1.0))\n",
    "    last_example = example"
   ]
  },
  {
   "cell_type": "code",
   "execution_count": 12,
   "metadata": {},
   "outputs": [
    {
     "data": {
      "text/plain": [
       "(30000, 2647)"
      ]
     },
     "execution_count": 12,
     "metadata": {},
     "output_type": "execute_result"
    }
   ],
   "source": [
    "len(good_training_data), len(bad_training_data)"
   ]
  },
  {
   "cell_type": "code",
   "execution_count": 13,
   "metadata": {},
   "outputs": [],
   "source": [
    "seed(42)\n",
    "\n",
    "sampled_training_data = sample(good_training_data, 500) + sample(bad_training_data, 500)\n",
    "\n",
    "shuffle(sampled_training_data)\n",
    "\n",
    "training_index = int(.8 * len(sampled_training_data))"
   ]
  },
  {
   "cell_type": "code",
   "execution_count": 14,
   "metadata": {},
   "outputs": [
    {
     "data": {
      "text/plain": [
       "{'guid': '',\n",
       " 'texts': ('What changed after the eigth century?',\n",
       "  'There is disagreement about the origin of the term, but general consensus that \"cardinalis\" from the word cardo (meaning \\'pivot\\' or \\'hinge\\') was first used in late antiquity to designate a bishop or priest who was incorporated into a church for which he had not originally been ordained. In Rome the first persons to be called cardinals were the deacons of the seven regions of the city at the beginning of the 6th century, when the word began to mean “principal,” “eminent,” or \"superior.\" The name was also given to the senior priest in each of the \"title\" churches (the parish churches) of Rome and to the bishops of the seven sees surrounding the city. By the 8th century the Roman cardinals constituted a privileged class among the Roman clergy. They took part in the administration of the church of Rome and in the papal liturgy. By decree of a synod of 769, only a cardinal was eligible to become pope. In 1059, during the pontificate of Nicholas II, cardinals were given the right to elect the pope under the Papal Bull In nomine Domini. For a time this power was assigned exclusively to the cardinal bishops, but the Third Lateran Council in 1179 gave back the right to the whole body of cardinals. Cardinals were granted the privilege of wearing the red hat by Pope Innocent IV in 1244.'),\n",
       " 'label': 1.0}"
      ]
     },
     "execution_count": 14,
     "metadata": {},
     "output_type": "execute_result"
    }
   ],
   "source": [
    "train_examples = [InputExample(\n",
    "    texts=t[:2], label=t[2]\n",
    ") for t in sampled_training_data[:training_index]]\n",
    "train_examples[0].__dict__"
   ]
  },
  {
   "cell_type": "code",
   "execution_count": 15,
   "metadata": {},
   "outputs": [],
   "source": [
    "train_dataloader = DataLoader(train_examples, shuffle=True, batch_size=32)\n",
    "train_loss = losses.CosineSimilarityLoss(bi_encoder)"
   ]
  },
  {
   "cell_type": "code",
   "execution_count": 18,
   "metadata": {},
   "outputs": [],
   "source": [
    "sentences1, sentences2, scores = zip(*sampled_training_data[training_index:])\n",
    "\n",
    "evaluator = evaluation.EmbeddingSimilarityEvaluator(sentences1=sentences1,sentences2=sentences2,scores=scores)"
   ]
  },
  {
   "cell_type": "code",
   "execution_count": 19,
   "metadata": {},
   "outputs": [
    {
     "data": {
      "text/plain": [
       "-0.06989261842320198"
      ]
     },
     "execution_count": 19,
     "metadata": {},
     "output_type": "execute_result"
    }
   ],
   "source": [
    "bi_encoder.evaluate(evaluator)"
   ]
  },
  {
   "cell_type": "code",
   "execution_count": 20,
   "metadata": {},
   "outputs": [
    {
     "name": "stderr",
     "output_type": "stream",
     "text": [
      "Iteration: 100%|██████████| 25/25 [02:26<00:00,  5.85s/it]\n",
      "Iteration: 100%|██████████| 25/25 [02:22<00:00,  5.70s/it]\n",
      "Epoch: 100%|██████████| 2/2 [05:14<00:00, 157.14s/it]\n"
     ]
    }
   ],
   "source": [
    "bi_encoder.fit(\n",
    "    train_objectives=[(train_dataloader,train_loss)],\n",
    "    output_path='ir/results',\n",
    "    epochs=2,\n",
    "    evaluator=evaluator\n",
    ")"
   ]
  },
  {
   "cell_type": "code",
   "execution_count": 21,
   "metadata": {},
   "outputs": [
    {
     "data": {
      "text/plain": [
       "-0.06971940251632912"
      ]
     },
     "execution_count": 21,
     "metadata": {},
     "output_type": "execute_result"
    }
   ],
   "source": [
    "bi_encoder.evaluate(evaluator=evaluator)"
   ]
  },
  {
   "cell_type": "code",
   "execution_count": 22,
   "metadata": {},
   "outputs": [],
   "source": [
    "finetuned_bi_encoder = SentenceTransformer('ir/results/')"
   ]
  },
  {
   "cell_type": "code",
   "execution_count": 23,
   "metadata": {},
   "outputs": [
    {
     "name": "stderr",
     "output_type": "stream",
     "text": [
      "Batches: 100%|██████████| 3/3 [00:03<00:00,  1.17s/it]"
     ]
    },
    {
     "name": "stdout",
     "output_type": "stream",
     "text": [
      "Question: How many horns does a flea have?\n",
      "\n",
      "Document 1 Cos_Sim 0.491:\n",
      "\n",
      "When examined by a microscope, the flea is a pleasant object. The body\n",
      "is curiously adorned with a suit of polished armour, neatly jointed, and\n",
      "beset with a great number of sharp pins almost like the quills of a\n",
      "porcupine: it has a small head, large eyes, two horns, or feelers, which\n",
      "proceed from the head, and four long legs from the breast; they are very\n",
      "hairy and long, and have several joints, which fold as it were one\n",
      "within another.\n",
      "\n",
      "\n",
      "Document 2 Cos_Sim 0.249:\n",
      "\n",
      "The Chego is a very small animal, about one fourth the size of a common\n",
      "flea: it is very troublesome, in warm climates, to the poor blacks, such\n",
      "as go barefoot, and the slovenly: it penetrates the skin, under which it\n",
      "lays a bunch of eggs, which swell to the bigness of a small pea.\n",
      "\n",
      "\n",
      "Document 3 Cos_Sim 0.186:\n",
      "\n",
      "\n",
      "This is one of the largest of the insect tribe. It is met with in\n",
      "different countries, and of various sizes, from two or three inches to\n",
      "nearly a foot in length: it somewhat resembles a lobster, and casts its\n",
      "skin, as the lobster does its shell.\n",
      "\n",
      "\n"
     ]
    },
    {
     "name": "stderr",
     "output_type": "stream",
     "text": [
      "\n"
     ]
    }
   ],
   "source": [
    "document_embeddings = finetuned_bi_encoder.encode(documents, convert_to_tensor=True, show_progress_bar=True)\n",
    "question_embedding = finetuned_bi_encoder.encode(QUESTION, convert_to_tensor=True)\n",
    "\n",
    "hits = util.semantic_search(question_embedding, document_embeddings, top_k=3)[0]\n",
    "\n",
    "\n",
    "print(f\"Question: {QUESTION}\\n\")\n",
    "\n",
    "for i, hit in enumerate(hits):\n",
    "    print(f'Document {i + 1} Cos_Sim {hit[\"score\"]:.3f}:\\n\\n{documents[hit[\"corpus_id\"]]}\\n\\n')"
   ]
  },
  {
   "cell_type": "markdown",
   "metadata": {},
   "source": [
    "# Teaching GPT Multiple tasks at once with prompt engineering"
   ]
  },
  {
   "cell_type": "code",
   "execution_count": 29,
   "metadata": {},
   "outputs": [],
   "source": [
    "from transformers import Trainer, TrainingArguments, DataCollatorForLanguageModeling, GPT2LMHeadModel, pipeline, \\\n",
    "        GPT2Tokenizer\n",
    "\n",
    "import pandas as pd\n",
    "from datasets import Dataset\n",
    "import matplotlib.pyplot as plt"
   ]
  },
  {
   "cell_type": "code",
   "execution_count": 25,
   "metadata": {},
   "outputs": [
    {
     "data": {
      "text/html": [
       "<div>\n",
       "<style scoped>\n",
       "    .dataframe tbody tr th:only-of-type {\n",
       "        vertical-align: middle;\n",
       "    }\n",
       "\n",
       "    .dataframe tbody tr th {\n",
       "        vertical-align: top;\n",
       "    }\n",
       "\n",
       "    .dataframe thead th {\n",
       "        text-align: right;\n",
       "    }\n",
       "</style>\n",
       "<table border=\"1\" class=\"dataframe\">\n",
       "  <thead>\n",
       "    <tr style=\"text-align: right;\">\n",
       "      <th></th>\n",
       "      <th>Text</th>\n",
       "      <th>Summary</th>\n",
       "      <th>Score</th>\n",
       "    </tr>\n",
       "  </thead>\n",
       "  <tbody>\n",
       "    <tr>\n",
       "      <th>0</th>\n",
       "      <td>Great taffy at a great price.  There was a wid...</td>\n",
       "      <td>Great taffy</td>\n",
       "      <td>5</td>\n",
       "    </tr>\n",
       "    <tr>\n",
       "      <th>1</th>\n",
       "      <td>This taffy is so good.  It is very soft and ch...</td>\n",
       "      <td>Wonderful, tasty taffy</td>\n",
       "      <td>5</td>\n",
       "    </tr>\n",
       "    <tr>\n",
       "      <th>2</th>\n",
       "      <td>Right now I'm mostly just sprouting this so my...</td>\n",
       "      <td>Yay Barley</td>\n",
       "      <td>5</td>\n",
       "    </tr>\n",
       "    <tr>\n",
       "      <th>3</th>\n",
       "      <td>This is a very healthy dog food. Good for thei...</td>\n",
       "      <td>Healthy Dog Food</td>\n",
       "      <td>5</td>\n",
       "    </tr>\n",
       "    <tr>\n",
       "      <th>4</th>\n",
       "      <td>good flavor! these came securely packed... the...</td>\n",
       "      <td>fresh and greasy!</td>\n",
       "      <td>4</td>\n",
       "    </tr>\n",
       "    <tr>\n",
       "      <th>...</th>\n",
       "      <td>...</td>\n",
       "      <td>...</td>\n",
       "      <td>...</td>\n",
       "    </tr>\n",
       "    <tr>\n",
       "      <th>96507</th>\n",
       "      <td>We need this for a recipe my wife is intereste...</td>\n",
       "      <td>a-ok</td>\n",
       "      <td>4</td>\n",
       "    </tr>\n",
       "    <tr>\n",
       "      <th>96508</th>\n",
       "      <td>This product is great.  Gives you so much ener...</td>\n",
       "      <td>Great Cafe Latte</td>\n",
       "      <td>5</td>\n",
       "    </tr>\n",
       "    <tr>\n",
       "      <th>96509</th>\n",
       "      <td>My only complaint is that there's so much of i...</td>\n",
       "      <td>Very large ground spice jars.</td>\n",
       "      <td>5</td>\n",
       "    </tr>\n",
       "    <tr>\n",
       "      <th>96510</th>\n",
       "      <td>Great for sesame chicken..this is a good if no...</td>\n",
       "      <td>Will not do without</td>\n",
       "      <td>5</td>\n",
       "    </tr>\n",
       "    <tr>\n",
       "      <th>96511</th>\n",
       "      <td>I am very satisfied ,product is as advertised,...</td>\n",
       "      <td>Great Honey</td>\n",
       "      <td>5</td>\n",
       "    </tr>\n",
       "  </tbody>\n",
       "</table>\n",
       "<p>96512 rows × 3 columns</p>\n",
       "</div>"
      ],
      "text/plain": [
       "                                                    Text  \\\n",
       "0      Great taffy at a great price.  There was a wid...   \n",
       "1      This taffy is so good.  It is very soft and ch...   \n",
       "2      Right now I'm mostly just sprouting this so my...   \n",
       "3      This is a very healthy dog food. Good for thei...   \n",
       "4      good flavor! these came securely packed... the...   \n",
       "...                                                  ...   \n",
       "96507  We need this for a recipe my wife is intereste...   \n",
       "96508  This product is great.  Gives you so much ener...   \n",
       "96509  My only complaint is that there's so much of i...   \n",
       "96510  Great for sesame chicken..this is a good if no...   \n",
       "96511  I am very satisfied ,product is as advertised,...   \n",
       "\n",
       "                             Summary  Score  \n",
       "0                        Great taffy      5  \n",
       "1             Wonderful, tasty taffy      5  \n",
       "2                         Yay Barley      5  \n",
       "3                   Healthy Dog Food      5  \n",
       "4                  fresh and greasy!      4  \n",
       "...                              ...    ...  \n",
       "96507                           a-ok      4  \n",
       "96508               Great Cafe Latte      5  \n",
       "96509  Very large ground spice jars.      5  \n",
       "96510            Will not do without      5  \n",
       "96511                    Great Honey      5  \n",
       "\n",
       "[96512 rows x 3 columns]"
      ]
     },
     "execution_count": 25,
     "metadata": {},
     "output_type": "execute_result"
    }
   ],
   "source": [
    "reviews = pd.read_csv('./data/reviews.csv')\n",
    "reviews"
   ]
  },
  {
   "cell_type": "code",
   "execution_count": 31,
   "metadata": {},
   "outputs": [
    {
     "data": {
      "image/png": "[encoded data removed]",
      "text/plain": [
       "<Figure size 640x480 with 1 Axes>"
      ]
     },
     "metadata": {},
     "output_type": "display_data"
    },
    {
     "data": {
      "image/png": "[encoded data removed]",
      "text/plain": [
       "<Figure size 640x480 with 1 Axes>"
      ]
     },
     "metadata": {},
     "output_type": "display_data"
    }
   ],
   "source": [
    "reviews['Text'].str.len().plot(kind='hist', title='Review Lengths'); plt.show()\n",
    "reviews['Summary'].str.len().plot(kind='hist', title='Summary Lengths'); plt.show()"
   ]
  },
  {
   "cell_type": "code",
   "execution_count": 39,
   "metadata": {},
   "outputs": [
    {
     "data": {
      "text/html": [
       "<div>\n",
       "<style scoped>\n",
       "    .dataframe tbody tr th:only-of-type {\n",
       "        vertical-align: middle;\n",
       "    }\n",
       "\n",
       "    .dataframe tbody tr th {\n",
       "        vertical-align: top;\n",
       "    }\n",
       "\n",
       "    .dataframe thead th {\n",
       "        text-align: right;\n",
       "    }\n",
       "</style>\n",
       "<table border=\"1\" class=\"dataframe\">\n",
       "  <thead>\n",
       "    <tr style=\"text-align: right;\">\n",
       "      <th></th>\n",
       "      <th>Text</th>\n",
       "      <th>Summary</th>\n",
       "      <th>Score</th>\n",
       "      <th>Sentiment</th>\n",
       "      <th>sentiment_task</th>\n",
       "      <th>summarize_task</th>\n",
       "    </tr>\n",
       "  </thead>\n",
       "  <tbody>\n",
       "    <tr>\n",
       "      <th>0</th>\n",
       "      <td>I found Jeremiah's Pick Kona Blend lacking fla...</td>\n",
       "      <td>Kona Blend lacks flavor.</td>\n",
       "      <td>2</td>\n",
       "      <td>negative</td>\n",
       "      <td>Sentiment Task\\nReview:I found Jeremiah's Pick...</td>\n",
       "      <td>Summarize Task\\nReview:I found Jeremiah's Pick...</td>\n",
       "    </tr>\n",
       "    <tr>\n",
       "      <th>1</th>\n",
       "      <td>my cat only looks at it if i throw it around. ...</td>\n",
       "      <td>Not for my cat</td>\n",
       "      <td>2</td>\n",
       "      <td>negative</td>\n",
       "      <td>Sentiment Task\\nReview:my cat only looks at it...</td>\n",
       "      <td>Summarize Task\\nReview:my cat only looks at it...</td>\n",
       "    </tr>\n",
       "    <tr>\n",
       "      <th>2</th>\n",
       "      <td>Buy something else. Hydrogenated fats are an u...</td>\n",
       "      <td>Hydrogenated oil</td>\n",
       "      <td>1</td>\n",
       "      <td>negative</td>\n",
       "      <td>Sentiment Task\\nReview:Buy something else. Hyd...</td>\n",
       "      <td>Summarize Task\\nReview:Buy something else. Hyd...</td>\n",
       "    </tr>\n",
       "    <tr>\n",
       "      <th>3</th>\n",
       "      <td>This coffee tastes like any other. I highly do...</td>\n",
       "      <td>Not worth it.</td>\n",
       "      <td>1</td>\n",
       "      <td>negative</td>\n",
       "      <td>Sentiment Task\\nReview:This coffee tastes like...</td>\n",
       "      <td>Summarize Task\\nReview:This coffee tastes like...</td>\n",
       "    </tr>\n",
       "    <tr>\n",
       "      <th>4</th>\n",
       "      <td>I just don't like the taste...Other people mig...</td>\n",
       "      <td>not very good!</td>\n",
       "      <td>1</td>\n",
       "      <td>negative</td>\n",
       "      <td>Sentiment Task\\nReview:I just don't like the t...</td>\n",
       "      <td>Summarize Task\\nReview:I just don't like the t...</td>\n",
       "    </tr>\n",
       "    <tr>\n",
       "      <th>...</th>\n",
       "      <td>...</td>\n",
       "      <td>...</td>\n",
       "      <td>...</td>\n",
       "      <td>...</td>\n",
       "      <td>...</td>\n",
       "      <td>...</td>\n",
       "    </tr>\n",
       "    <tr>\n",
       "      <th>2995</th>\n",
       "      <td>Love this stuff.  I use it as \"creamer\" in my ...</td>\n",
       "      <td>Some low-caloire sin</td>\n",
       "      <td>5</td>\n",
       "      <td>positive</td>\n",
       "      <td>Sentiment Task\\nReview:Love this stuff.  I use...</td>\n",
       "      <td>Summarize Task\\nReview:Love this stuff.  I use...</td>\n",
       "    </tr>\n",
       "    <tr>\n",
       "      <th>2996</th>\n",
       "      <td>Dark Chocolate cookies taste great!  I have ju...</td>\n",
       "      <td>Great Taste!</td>\n",
       "      <td>5</td>\n",
       "      <td>positive</td>\n",
       "      <td>Sentiment Task\\nReview:Dark Chocolate cookies ...</td>\n",
       "      <td>Summarize Task\\nReview:Dark Chocolate cookies ...</td>\n",
       "    </tr>\n",
       "    <tr>\n",
       "      <th>2997</th>\n",
       "      <td>Great service, as always, from Amazon.&lt;br /&gt;I ...</td>\n",
       "      <td>Excellent Maple Syrup!</td>\n",
       "      <td>5</td>\n",
       "      <td>positive</td>\n",
       "      <td>Sentiment Task\\nReview:Great service, as alway...</td>\n",
       "      <td>Summarize Task\\nReview:Great service, as alway...</td>\n",
       "    </tr>\n",
       "    <tr>\n",
       "      <th>2998</th>\n",
       "      <td>No filler ingredients, could be dryer but the ...</td>\n",
       "      <td>Our dog loves it</td>\n",
       "      <td>5</td>\n",
       "      <td>positive</td>\n",
       "      <td>Sentiment Task\\nReview:No filler ingredients, ...</td>\n",
       "      <td>Summarize Task\\nReview:No filler ingredients, ...</td>\n",
       "    </tr>\n",
       "    <tr>\n",
       "      <th>2999</th>\n",
       "      <td>the beans are good and i am in production of r...</td>\n",
       "      <td>vanilla beans</td>\n",
       "      <td>5</td>\n",
       "      <td>positive</td>\n",
       "      <td>Sentiment Task\\nReview:the beans are good and ...</td>\n",
       "      <td>Summarize Task\\nReview:the beans are good and ...</td>\n",
       "    </tr>\n",
       "  </tbody>\n",
       "</table>\n",
       "<p>3000 rows × 6 columns</p>\n",
       "</div>"
      ],
      "text/plain": [
       "                                                   Text  \\\n",
       "0     I found Jeremiah's Pick Kona Blend lacking fla...   \n",
       "1     my cat only looks at it if i throw it around. ...   \n",
       "2     Buy something else. Hydrogenated fats are an u...   \n",
       "3     This coffee tastes like any other. I highly do...   \n",
       "4     I just don't like the taste...Other people mig...   \n",
       "...                                                 ...   \n",
       "2995  Love this stuff.  I use it as \"creamer\" in my ...   \n",
       "2996  Dark Chocolate cookies taste great!  I have ju...   \n",
       "2997  Great service, as always, from Amazon.<br />I ...   \n",
       "2998  No filler ingredients, could be dryer but the ...   \n",
       "2999  the beans are good and i am in production of r...   \n",
       "\n",
       "                       Summary  Score Sentiment  \\\n",
       "0     Kona Blend lacks flavor.      2  negative   \n",
       "1               Not for my cat      2  negative   \n",
       "2             Hydrogenated oil      1  negative   \n",
       "3                Not worth it.      1  negative   \n",
       "4               not very good!      1  negative   \n",
       "...                        ...    ...       ...   \n",
       "2995      Some low-caloire sin      5  positive   \n",
       "2996              Great Taste!      5  positive   \n",
       "2997    Excellent Maple Syrup!      5  positive   \n",
       "2998          Our dog loves it      5  positive   \n",
       "2999             vanilla beans      5  positive   \n",
       "\n",
       "                                         sentiment_task  \\\n",
       "0     Sentiment Task\\nReview:I found Jeremiah's Pick...   \n",
       "1     Sentiment Task\\nReview:my cat only looks at it...   \n",
       "2     Sentiment Task\\nReview:Buy something else. Hyd...   \n",
       "3     Sentiment Task\\nReview:This coffee tastes like...   \n",
       "4     Sentiment Task\\nReview:I just don't like the t...   \n",
       "...                                                 ...   \n",
       "2995  Sentiment Task\\nReview:Love this stuff.  I use...   \n",
       "2996  Sentiment Task\\nReview:Dark Chocolate cookies ...   \n",
       "2997  Sentiment Task\\nReview:Great service, as alway...   \n",
       "2998  Sentiment Task\\nReview:No filler ingredients, ...   \n",
       "2999  Sentiment Task\\nReview:the beans are good and ...   \n",
       "\n",
       "                                         summarize_task  \n",
       "0     Summarize Task\\nReview:I found Jeremiah's Pick...  \n",
       "1     Summarize Task\\nReview:my cat only looks at it...  \n",
       "2     Summarize Task\\nReview:Buy something else. Hyd...  \n",
       "3     Summarize Task\\nReview:This coffee tastes like...  \n",
       "4     Summarize Task\\nReview:I just don't like the t...  \n",
       "...                                                 ...  \n",
       "2995  Summarize Task\\nReview:Love this stuff.  I use...  \n",
       "2996  Summarize Task\\nReview:Dark Chocolate cookies ...  \n",
       "2997  Summarize Task\\nReview:Great service, as alway...  \n",
       "2998  Summarize Task\\nReview:No filler ingredients, ...  \n",
       "2999  Summarize Task\\nReview:the beans are good and ...  \n",
       "\n",
       "[3000 rows x 6 columns]"
      ]
     },
     "execution_count": 39,
     "metadata": {},
     "output_type": "execute_result"
    }
   ],
   "source": [
    "reviews = reviews[(reviews['Summary'].str.len() >= 10) & (reviews['Summary'].str.len() < 25)]\n",
    "reviews['Sentiment'] = reviews['Score'].map(\n",
    "    lambda x: 'positive' if x >= 4 else 'neutral' if x == 3 else 'negative'\n",
    ")\n",
    "\n",
    "reviews = reviews.groupby('Sentiment', group_keys=False).apply(lambda x: x.sample(1000)).reset_index(drop=True)\n",
    "reviews"
   ]
  },
  {
   "cell_type": "code",
   "execution_count": 40,
   "metadata": {},
   "outputs": [],
   "source": [
    "MODEL = 'distilgpt2'\n",
    "\n",
    "tokenizer = GPT2Tokenizer.from_pretrained(MODEL)\n",
    "tokenizer.pad_token = tokenizer.eos_token\n",
    "\n",
    "#add two prompts, one for each task\n",
    "SENTIMENT_PROMPT = 'Sentiment Task'\n",
    "SUMMARIZE_PROMPT = 'Summarize Task'\n",
    "SENTIMENT_TOKEN = '\\nSentiment:'\n",
    "SUMMARIZE_TOKEN = '\\nSummarize:'"
   ]
  },
  {
   "cell_type": "code",
   "execution_count": 45,
   "metadata": {},
   "outputs": [],
   "source": [
    "reviews['sentiment_task'] = f'{SENTIMENT_PROMPT}\\nReview: ' + reviews['Text'] + SENTIMENT_TOKEN + ' ' + reviews['Sentiment']\n",
    "reviews['summarize_task'] = f'{SUMMARIZE_PROMPT}\\nReview: ' + reviews['Text'] + SUMMARIZE_TOKEN + ' ' + reviews['Summary']"
   ]
  },
  {
   "cell_type": "code",
   "execution_count": 46,
   "metadata": {},
   "outputs": [
    {
     "name": "stdout",
     "output_type": "stream",
     "text": [
      "Sentiment Task\n",
      "Review: I found Jeremiah's Pick Kona Blend lacking flavor. I tried every trick I know to bring out all the taste it had but still found it weak.\n",
      "Sentiment: negative\n",
      "Summarize Task\n",
      "Review: I found Jeremiah's Pick Kona Blend lacking flavor. I tried every trick I know to bring out all the taste it had but still found it weak.\n",
      "Summarize: Kona Blend lacks flavor.\n"
     ]
    }
   ],
   "source": [
    "print(reviews['sentiment_task'][0])\n",
    "print(reviews['summarize_task'][0])"
   ]
  },
  {
   "cell_type": "code",
   "execution_count": 47,
   "metadata": {},
   "outputs": [],
   "source": [
    "train_examples = reviews['summarize_task'].tolist() + reviews['sentiment_task'].tolist()"
   ]
  },
  {
   "cell_type": "code",
   "execution_count": 49,
   "metadata": {},
   "outputs": [
    {
     "data": {
      "text/html": [
       "<div>\n",
       "<style scoped>\n",
       "    .dataframe tbody tr th:only-of-type {\n",
       "        vertical-align: middle;\n",
       "    }\n",
       "\n",
       "    .dataframe tbody tr th {\n",
       "        vertical-align: top;\n",
       "    }\n",
       "\n",
       "    .dataframe thead th {\n",
       "        text-align: right;\n",
       "    }\n",
       "</style>\n",
       "<table border=\"1\" class=\"dataframe\">\n",
       "  <thead>\n",
       "    <tr style=\"text-align: right;\">\n",
       "      <th></th>\n",
       "      <th>text</th>\n",
       "    </tr>\n",
       "  </thead>\n",
       "  <tbody>\n",
       "    <tr>\n",
       "      <th>0</th>\n",
       "      <td>Sentiment Task\\nReview: Strong, salty taste wi...</td>\n",
       "    </tr>\n",
       "    <tr>\n",
       "      <th>1</th>\n",
       "      <td>Summarize Task\\nReview: A unique flavor that m...</td>\n",
       "    </tr>\n",
       "    <tr>\n",
       "      <th>2</th>\n",
       "      <td>Sentiment Task\\nReview: I usually like this br...</td>\n",
       "    </tr>\n",
       "    <tr>\n",
       "      <th>3</th>\n",
       "      <td>Sentiment Task\\nReview: I lived for my weekly ...</td>\n",
       "    </tr>\n",
       "    <tr>\n",
       "      <th>4</th>\n",
       "      <td>Sentiment Task\\nReview: These are not sturdy e...</td>\n",
       "    </tr>\n",
       "    <tr>\n",
       "      <th>...</th>\n",
       "      <td>...</td>\n",
       "    </tr>\n",
       "    <tr>\n",
       "      <th>5995</th>\n",
       "      <td>Sentiment Task\\nReview: We just bought Tassimo...</td>\n",
       "    </tr>\n",
       "    <tr>\n",
       "      <th>5996</th>\n",
       "      <td>Sentiment Task\\nReview: came with an expiratio...</td>\n",
       "    </tr>\n",
       "    <tr>\n",
       "      <th>5997</th>\n",
       "      <td>Summarize Task\\nReview: i ordered mint chocola...</td>\n",
       "    </tr>\n",
       "    <tr>\n",
       "      <th>5998</th>\n",
       "      <td>Summarize Task\\nReview: Arrived slightly thawe...</td>\n",
       "    </tr>\n",
       "    <tr>\n",
       "      <th>5999</th>\n",
       "      <td>Summarize Task\\nReview: These are a quick and ...</td>\n",
       "    </tr>\n",
       "  </tbody>\n",
       "</table>\n",
       "<p>6000 rows × 1 columns</p>\n",
       "</div>"
      ],
      "text/plain": [
       "                                                   text\n",
       "0     Sentiment Task\\nReview: Strong, salty taste wi...\n",
       "1     Summarize Task\\nReview: A unique flavor that m...\n",
       "2     Sentiment Task\\nReview: I usually like this br...\n",
       "3     Sentiment Task\\nReview: I lived for my weekly ...\n",
       "4     Sentiment Task\\nReview: These are not sturdy e...\n",
       "...                                                 ...\n",
       "5995  Sentiment Task\\nReview: We just bought Tassimo...\n",
       "5996  Sentiment Task\\nReview: came with an expiratio...\n",
       "5997  Summarize Task\\nReview: i ordered mint chocola...\n",
       "5998  Summarize Task\\nReview: Arrived slightly thawe...\n",
       "5999  Summarize Task\\nReview: These are a quick and ...\n",
       "\n",
       "[6000 rows x 1 columns]"
      ]
     },
     "execution_count": 49,
     "metadata": {},
     "output_type": "execute_result"
    }
   ],
   "source": [
    "multi_task_df = pd.DataFrame({'text':train_examples})\n",
    "multi_task_df = multi_task_df.sample(frac=1, replace=False).reset_index(drop=True)\n",
    "\n",
    "multi_task_df"
   ]
  },
  {
   "cell_type": "code",
   "execution_count": 50,
   "metadata": {},
   "outputs": [
    {
     "name": "stderr",
     "output_type": "stream",
     "text": [
      "Map: 100%|██████████| 6000/6000 [00:05<00:00, 1090.16 examples/s]\n"
     ]
    }
   ],
   "source": [
    "data = Dataset.from_pandas(multi_task_df)\n",
    "\n",
    "def preprocess(examples):\n",
    "    return tokenizer(examples['text'], truncation=True)\n",
    "\n",
    "data = data.map(preprocess, batched=True)\n",
    "data = data.train_test_split(train_size=.8)"
   ]
  },
  {
   "cell_type": "code",
   "execution_count": 51,
   "metadata": {},
   "outputs": [
    {
     "name": "stderr",
     "output_type": "stream",
     "text": [
      "Downloading model.safetensors: 100%|██████████| 353M/353M [01:15<00:00, 4.65MB/s] \n",
      "Downloading generation_config.json: 100%|██████████| 124/124 [00:00<00:00, 24.8kB/s]\n"
     ]
    }
   ],
   "source": [
    "model = GPT2LMHeadModel.from_pretrained(MODEL)"
   ]
  },
  {
   "cell_type": "code",
   "execution_count": 52,
   "metadata": {},
   "outputs": [],
   "source": [
    "data_collator = DataCollatorForLanguageModeling(tokenizer=tokenizer, mlm=False)"
   ]
  },
  {
   "cell_type": "code",
   "execution_count": 55,
   "metadata": {},
   "outputs": [
    {
     "name": "stderr",
     "output_type": "stream",
     "text": [
      "100%|██████████| 38/38 [00:05<00:00,  6.96it/s]\n"
     ]
    },
    {
     "data": {
      "text/plain": [
       "{'eval_loss': 5.002038478851318,\n",
       " 'eval_runtime': 7.7983,\n",
       " 'eval_samples_per_second': 153.88,\n",
       " 'eval_steps_per_second': 4.873}"
      ]
     },
     "execution_count": 55,
     "metadata": {},
     "output_type": "execute_result"
    }
   ],
   "source": [
    "training_args = TrainingArguments(\n",
    "    output_dir='./gpt2_multitask',\n",
    "    overwrite_output_dir=True, \n",
    "    num_train_epochs=2, # number of training epochs\n",
    "    per_device_train_batch_size=32, # batch size for training\n",
    "    per_device_eval_batch_size=32, # batch size for evaluation\n",
    "    logging_steps=50,\n",
    "    load_best_model_at_end=True,\n",
    "    evaluation_strategy='epoch',\n",
    "    save_strategy='epoch'\n",
    ")\n",
    "\n",
    "trainer = Trainer(\n",
    "    model=model,\n",
    "    args=training_args,\n",
    "    train_dataset=data['train'],\n",
    "    eval_dataset=data['test'],\n",
    "    data_collator=data_collator\n",
    ") \n",
    "\n",
    "trainer.evaluate()"
   ]
  },
  {
   "cell_type": "code",
   "execution_count": 56,
   "metadata": {},
   "outputs": [
    {
     "name": "stderr",
     "output_type": "stream",
     "text": [
      " 17%|█▋        | 50/300 [00:20<01:47,  2.33it/s]"
     ]
    },
    {
     "name": "stdout",
     "output_type": "stream",
     "text": [
      "{'loss': 3.4107, 'learning_rate': 4.166666666666667e-05, 'epoch': 0.33}\n"
     ]
    },
    {
     "name": "stderr",
     "output_type": "stream",
     "text": [
      " 33%|███▎      | 100/300 [01:58<09:11,  2.76s/it]"
     ]
    },
    {
     "name": "stdout",
     "output_type": "stream",
     "text": [
      "{'loss': 2.9692, 'learning_rate': 3.3333333333333335e-05, 'epoch': 0.67}\n"
     ]
    },
    {
     "name": "stderr",
     "output_type": "stream",
     "text": [
      " 50%|█████     | 150/300 [04:44<05:40,  2.27s/it]"
     ]
    },
    {
     "name": "stdout",
     "output_type": "stream",
     "text": [
      "{'loss': 2.892, 'learning_rate': 2.5e-05, 'epoch': 1.0}\n"
     ]
    },
    {
     "name": "stderr",
     "output_type": "stream",
     "text": [
      "\n",
      " 50%|█████     | 150/300 [05:15<05:40,  2.27s/it]"
     ]
    },
    {
     "name": "stdout",
     "output_type": "stream",
     "text": [
      "{'eval_loss': 2.7177278995513916, 'eval_runtime': 30.6851, 'eval_samples_per_second': 39.107, 'eval_steps_per_second': 1.238, 'epoch': 1.0}\n"
     ]
    },
    {
     "name": "stderr",
     "output_type": "stream",
     "text": [
      " 67%|██████▋   | 200/300 [08:21<06:06,  3.67s/it]"
     ]
    },
    {
     "name": "stdout",
     "output_type": "stream",
     "text": [
      "{'loss': 2.7966, 'learning_rate': 1.6666666666666667e-05, 'epoch': 1.33}\n"
     ]
    },
    {
     "name": "stderr",
     "output_type": "stream",
     "text": [
      " 83%|████████▎ | 250/300 [11:10<02:36,  3.14s/it]"
     ]
    },
    {
     "name": "stdout",
     "output_type": "stream",
     "text": [
      "{'loss': 2.7548, 'learning_rate': 8.333333333333334e-06, 'epoch': 1.67}\n"
     ]
    },
    {
     "name": "stderr",
     "output_type": "stream",
     "text": [
      "100%|██████████| 300/300 [13:47<00:00,  3.02s/it]"
     ]
    },
    {
     "name": "stdout",
     "output_type": "stream",
     "text": [
      "{'loss': 2.7371, 'learning_rate': 0.0, 'epoch': 2.0}\n"
     ]
    },
    {
     "name": "stderr",
     "output_type": "stream",
     "text": [
      "\n",
      "100%|██████████| 300/300 [14:23<00:00,  3.02s/it]"
     ]
    },
    {
     "name": "stdout",
     "output_type": "stream",
     "text": [
      "{'eval_loss': 2.66652250289917, 'eval_runtime': 36.028, 'eval_samples_per_second': 33.307, 'eval_steps_per_second': 1.055, 'epoch': 2.0}\n"
     ]
    },
    {
     "name": "stderr",
     "output_type": "stream",
     "text": [
      "There were missing keys in the checkpoint model loaded: ['lm_head.weight'].\n",
      "100%|██████████| 300/300 [14:33<00:00,  2.91s/it]"
     ]
    },
    {
     "name": "stdout",
     "output_type": "stream",
     "text": [
      "{'train_runtime': 873.3995, 'train_samples_per_second': 10.992, 'train_steps_per_second': 0.343, 'train_loss': 2.926726989746094, 'epoch': 2.0}\n"
     ]
    },
    {
     "name": "stderr",
     "output_type": "stream",
     "text": [
      "\n"
     ]
    },
    {
     "data": {
      "text/plain": [
       "TrainOutput(global_step=300, training_loss=2.926726989746094, metrics={'train_runtime': 873.3995, 'train_samples_per_second': 10.992, 'train_steps_per_second': 0.343, 'train_loss': 2.926726989746094, 'epoch': 2.0})"
      ]
     },
     "execution_count": 56,
     "metadata": {},
     "output_type": "execute_result"
    }
   ],
   "source": [
    "trainer.train()"
   ]
  },
  {
   "cell_type": "code",
   "execution_count": 57,
   "metadata": {},
   "outputs": [
    {
     "name": "stderr",
     "output_type": "stream",
     "text": [
      "100%|██████████| 38/38 [00:35<00:00,  1.06it/s]\n"
     ]
    },
    {
     "data": {
      "text/plain": [
       "{'eval_loss': 2.66652250289917,\n",
       " 'eval_runtime': 36.2401,\n",
       " 'eval_samples_per_second': 33.112,\n",
       " 'eval_steps_per_second': 1.049,\n",
       " 'epoch': 2.0}"
      ]
     },
     "execution_count": 57,
     "metadata": {},
     "output_type": "execute_result"
    }
   ],
   "source": [
    "trainer.evaluate()"
   ]
  },
  {
   "cell_type": "code",
   "execution_count": 58,
   "metadata": {},
   "outputs": [],
   "source": [
    "trainer.save_model()"
   ]
  },
  {
   "cell_type": "code",
   "execution_count": 59,
   "metadata": {},
   "outputs": [],
   "source": [
    "generator = pipeline(\n",
    "    task='text-generation',\n",
    "    model=GPT2LMHeadModel.from_pretrained('./gpt2_multitask'),\n",
    "    tokenizer=tokenizer\n",
    ")"
   ]
  },
  {
   "cell_type": "code",
   "execution_count": 61,
   "metadata": {},
   "outputs": [
    {
     "name": "stdout",
     "output_type": "stream",
     "text": [
      "These are great, they taste like the best apple pie you have ever eaten.  At 70 calories they are a healthy and low fat for adults too!\n",
      "positive\n",
      "Incredible!\n"
     ]
    },
    {
     "data": {
      "text/plain": [
       "31"
      ]
     },
     "execution_count": 61,
     "metadata": {},
     "output_type": "execute_result"
    }
   ],
   "source": [
    "text_sample, score, summary = reviews.sample(1)[['Text','Sentiment','Summary']].values[0]\n",
    "\n",
    "print(text_sample)\n",
    "print(score)\n",
    "print(summary)\n",
    "\n",
    "num_tokens = len(tokenizer(text_sample)['input_ids'])\n",
    "num_tokens"
   ]
  },
  {
   "cell_type": "code",
   "execution_count": 62,
   "metadata": {},
   "outputs": [],
   "source": [
    "sentiment_text_sample = f'{SENTIMENT_PROMPT}\\nReview: {text_sample}{SENTIMENT_TOKEN}'\n",
    "summarize_text_sample = f'{SUMMARIZE_PROMPT}\\nReview: {text_sample}{SUMMARIZE_TOKEN}'"
   ]
  },
  {
   "cell_type": "code",
   "execution_count": 63,
   "metadata": {},
   "outputs": [
    {
     "name": "stderr",
     "output_type": "stream",
     "text": [
      "Setting `pad_token_id` to `eos_token_id`:50256 for open-end generation.\n",
      "f:\\__ing\\llming_1\\.venv\\lib\\site-packages\\transformers\\generation\\utils.py:1281: UserWarning: Input length of input_ids is 41, but `max_length` is set to 32. This can lead to unexpected behavior. You should consider increasing `max_new_tokens`.\n",
      "  warnings.warn(\n"
     ]
    },
    {
     "name": "stdout",
     "output_type": "stream",
     "text": [
      "Sentiment Task\n",
      "Review: These are great, they taste like the best apple pie you have ever eaten.  At 70 calories they are a healthy and low fat for adults too!\n",
      "Sentiment: positive\n"
     ]
    }
   ],
   "source": [
    "for generated_text in generator(sentiment_text_sample, num_return_sequences=1, max_length=num_tokens + 1):\n",
    "    print(generated_text['generated_text'])"
   ]
  },
  {
   "cell_type": "code",
   "execution_count": 64,
   "metadata": {},
   "outputs": [
    {
     "name": "stderr",
     "output_type": "stream",
     "text": [
      "Setting `pad_token_id` to `eos_token_id`:50256 for open-end generation.\n"
     ]
    },
    {
     "name": "stdout",
     "output_type": "stream",
     "text": [
      "Summarize Task\n",
      "Review: These are great, they taste like the best apple pie you have ever eaten.  At 70 calories they are a healthy and low fat for adults too!\n",
      "Summarize: Great! Great!\n",
      "Summarize\n",
      "--------------\n",
      "Summarize Task\n",
      "Review: These are great, they taste like the best apple pie you have ever eaten.  At 70 calories they are a healthy and low fat for adults too!\n",
      "Summarize: Great apple pie made with apple! \n",
      "--------------\n",
      "Summarize Task\n",
      "Review: These are great, they taste like the best apple pie you have ever eaten.  At 70 calories they are a healthy and low fat for adults too!\n",
      "Summarize: A good mix to mix for adults!\n",
      "--------------\n"
     ]
    }
   ],
   "source": [
    "for generated_text in generator(summarize_text_sample, num_return_sequences=3, max_length=num_tokens + 20):\n",
    "    print(generated_text['generated_text'])\n",
    "    print('--------------')"
   ]
  },
  {
   "cell_type": "code",
   "execution_count": null,
   "metadata": {},
   "outputs": [],
   "source": []
  }
 ],
 "metadata": {
  "kernelspec": {
   "display_name": ".venv",
   "language": "python",
   "name": "python3"
  },
  "language_info": {
   "codemirror_mode": {
    "name": "ipython",
    "version": 3
   },
   "file_extension": ".py",
   "mimetype": "text/x-python",
   "name": "python",
   "nbconvert_exporter": "python",
   "pygments_lexer": "ipython3",
   "version": "3.9.13"
  }
 },
 "nbformat": 4,
 "nbformat_minor": 2
}
