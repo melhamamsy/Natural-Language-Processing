{
  "nbformat": 4,
  "nbformat_minor": 0,
  "metadata": {
    "colab": {
      "name": "Assignment6.ipynb",
      "provenance": [],
      "collapsed_sections": [
        "PBubFfiZYHsJ"
      ]
    },
    "kernelspec": {
      "name": "python3",
      "display_name": "Python 3"
    },
    "language_info": {
      "name": "python"
    }
  },
  "cells": [
    {
      "cell_type": "markdown",
      "metadata": {
        "id": "nYN7kTUhJKT7"
      },
      "source": [
        "# Importing Libraries and loading dataset"
      ]
    },
    {
      "cell_type": "code",
      "metadata": {
        "colab": {
          "base_uri": "https://localhost:8080/",
          "height": 35
        },
        "id": "Ie02l9yC_CWT",
        "outputId": "ed89b45c-af65-4527-ace3-4f8abdac142d"
      },
      "source": [
        "import keras\n",
        "keras.__version__"
      ],
      "execution_count": null,
      "outputs": [
        {
          "output_type": "execute_result",
          "data": {
            "application/vnd.google.colaboratory.intrinsic+json": {
              "type": "string"
            },
            "text/plain": [
              "'2.4.3'"
            ]
          },
          "metadata": {
            "tags": []
          },
          "execution_count": 1
        }
      ]
    },
    {
      "cell_type": "code",
      "metadata": {
        "id": "dGUDerGj_M0K"
      },
      "source": [
        "import os\n",
        "os.environ['KAGGLE_USERNAME'] = \"mohammedelhamamsy\"\n",
        "os.environ['KAGGLE_KEY'] = \"419252cb53c0bf05fa91e17d8969c445\""
      ],
      "execution_count": null,
      "outputs": []
    },
    {
      "cell_type": "code",
      "metadata": {
        "colab": {
          "base_uri": "https://localhost:8080/"
        },
        "id": "2YEUkgSn_P6O",
        "outputId": "c0378903-dde8-4795-c752-d83addb6cdff"
      },
      "source": [
        "!kaggle competitions download -c nlp-getting-started"
      ],
      "execution_count": null,
      "outputs": [
        {
          "output_type": "stream",
          "text": [
            "Warning: Looks like you're using an outdated API Version, please consider updating (server 1.5.12 / client 1.5.4)\n",
            "Downloading train.csv to /content\n",
            "  0% 0.00/965k [00:00<?, ?B/s]\n",
            "100% 965k/965k [00:00<00:00, 60.6MB/s]\n",
            "Downloading sample_submission.csv to /content\n",
            "  0% 0.00/22.2k [00:00<?, ?B/s]\n",
            "100% 22.2k/22.2k [00:00<00:00, 21.9MB/s]\n",
            "Downloading test.csv to /content\n",
            "  0% 0.00/411k [00:00<?, ?B/s]\n",
            "100% 411k/411k [00:00<00:00, 57.5MB/s]\n"
          ],
          "name": "stdout"
        }
      ]
    },
    {
      "cell_type": "code",
      "metadata": {
        "colab": {
          "base_uri": "https://localhost:8080/"
        },
        "id": "UXktWkd0FzAA",
        "outputId": "ada305ea-ec94-4077-8dcf-52a6edb71c69"
      },
      "source": [
        "from keras.preprocessing.text import text_to_word_sequence\n",
        "from keras.preprocessing.text import Tokenizer  \n",
        "from keras.preprocessing.sequence import pad_sequences\n",
        "from keras import models\n",
        "from keras import layers\n",
        "from keras import losses\n",
        "from keras import metrics\n",
        "from keras import optimizers\n",
        "from keras.utils import plot_model\n",
        "\n",
        "import numpy as np\n",
        "import matplotlib.pyplot as plt\n",
        "\n",
        "from sklearn.feature_extraction.text import CountVectorizer\n",
        "from sklearn.feature_extraction.text import TfidfVectorizer\n",
        "from sklearn.model_selection import train_test_split\n",
        "\n",
        "from collections import Counter\n",
        "from pathlib import Path\n",
        "import os\n",
        "import numpy as np\n",
        "import re\n",
        "import string\n",
        "import nltk\n",
        "nltk.download('punkt')\n",
        "from nltk.tokenize import word_tokenize\n",
        "from nltk.corpus import stopwords\n",
        "nltk.download('stopwords')\n",
        "from nltk.stem.porter import PorterStemmer\n",
        "from nltk.stem import WordNetLemmatizer\n",
        "nltk.download('wordnet')\n",
        "from nltk.corpus import wordnet\n",
        "import unicodedata\n",
        "import html\n",
        "stop_words = stopwords.words('english')"
      ],
      "execution_count": null,
      "outputs": [
        {
          "output_type": "stream",
          "text": [
            "[nltk_data] Downloading package punkt to /root/nltk_data...\n",
            "[nltk_data]   Unzipping tokenizers/punkt.zip.\n",
            "[nltk_data] Downloading package stopwords to /root/nltk_data...\n",
            "[nltk_data]   Unzipping corpora/stopwords.zip.\n",
            "[nltk_data] Downloading package wordnet to /root/nltk_data...\n",
            "[nltk_data]   Unzipping corpora/wordnet.zip.\n"
          ],
          "name": "stdout"
        }
      ]
    },
    {
      "cell_type": "code",
      "metadata": {
        "id": "wMm_3DmM_Znq"
      },
      "source": [
        "import numpy as np\n",
        "import pandas as pd\n",
        "train_data=pd.read_csv(\"./train.csv\")\n",
        "test_data=pd.read_csv(\"./test.csv\")"
      ],
      "execution_count": null,
      "outputs": []
    },
    {
      "cell_type": "code",
      "metadata": {
        "colab": {
          "base_uri": "https://localhost:8080/",
          "height": 197
        },
        "id": "qxVC4w4HAONB",
        "outputId": "ce34f92d-491f-4ca9-9963-5c7728751305"
      },
      "source": [
        "train_data = train_data.drop(['id', 'keyword', 'location'], axis=1)\n",
        "test_data = test_data.drop(['id', 'keyword', 'location'], axis=1)\n",
        "\n",
        "train_data.columns = ['text', 'sentiment']\n",
        "train_data.sentiment=train_data.sentiment.astype(np.object)\n",
        "train_data.head()"
      ],
      "execution_count": null,
      "outputs": [
        {
          "output_type": "execute_result",
          "data": {
            "text/html": [
              "<div>\n",
              "<style scoped>\n",
              "    .dataframe tbody tr th:only-of-type {\n",
              "        vertical-align: middle;\n",
              "    }\n",
              "\n",
              "    .dataframe tbody tr th {\n",
              "        vertical-align: top;\n",
              "    }\n",
              "\n",
              "    .dataframe thead th {\n",
              "        text-align: right;\n",
              "    }\n",
              "</style>\n",
              "<table border=\"1\" class=\"dataframe\">\n",
              "  <thead>\n",
              "    <tr style=\"text-align: right;\">\n",
              "      <th></th>\n",
              "      <th>text</th>\n",
              "      <th>sentiment</th>\n",
              "    </tr>\n",
              "  </thead>\n",
              "  <tbody>\n",
              "    <tr>\n",
              "      <th>0</th>\n",
              "      <td>Our Deeds are the Reason of this #earthquake M...</td>\n",
              "      <td>1</td>\n",
              "    </tr>\n",
              "    <tr>\n",
              "      <th>1</th>\n",
              "      <td>Forest fire near La Ronge Sask. Canada</td>\n",
              "      <td>1</td>\n",
              "    </tr>\n",
              "    <tr>\n",
              "      <th>2</th>\n",
              "      <td>All residents asked to 'shelter in place' are ...</td>\n",
              "      <td>1</td>\n",
              "    </tr>\n",
              "    <tr>\n",
              "      <th>3</th>\n",
              "      <td>13,000 people receive #wildfires evacuation or...</td>\n",
              "      <td>1</td>\n",
              "    </tr>\n",
              "    <tr>\n",
              "      <th>4</th>\n",
              "      <td>Just got sent this photo from Ruby #Alaska as ...</td>\n",
              "      <td>1</td>\n",
              "    </tr>\n",
              "  </tbody>\n",
              "</table>\n",
              "</div>"
            ],
            "text/plain": [
              "                                                text sentiment\n",
              "0  Our Deeds are the Reason of this #earthquake M...         1\n",
              "1             Forest fire near La Ronge Sask. Canada         1\n",
              "2  All residents asked to 'shelter in place' are ...         1\n",
              "3  13,000 people receive #wildfires evacuation or...         1\n",
              "4  Just got sent this photo from Ruby #Alaska as ...         1"
            ]
          },
          "metadata": {
            "tags": []
          },
          "execution_count": 8
        }
      ]
    },
    {
      "cell_type": "code",
      "metadata": {
        "colab": {
          "base_uri": "https://localhost:8080/"
        },
        "id": "VE4G2rfYHAYm",
        "outputId": "b39731b0-7835-4b61-ec17-2f07aec7a92a"
      },
      "source": [
        "train_data.info()"
      ],
      "execution_count": null,
      "outputs": [
        {
          "output_type": "stream",
          "text": [
            "<class 'pandas.core.frame.DataFrame'>\n",
            "RangeIndex: 7613 entries, 0 to 7612\n",
            "Data columns (total 2 columns):\n",
            " #   Column     Non-Null Count  Dtype \n",
            "---  ------     --------------  ----- \n",
            " 0   text       7613 non-null   object\n",
            " 1   sentiment  7613 non-null   object\n",
            "dtypes: object(2)\n",
            "memory usage: 119.1+ KB\n"
          ],
          "name": "stdout"
        }
      ]
    },
    {
      "cell_type": "code",
      "metadata": {
        "colab": {
          "base_uri": "https://localhost:8080/",
          "height": 297
        },
        "id": "FW1slhjAAPgH",
        "outputId": "dc586408-866e-4418-c65d-7c421977412a"
      },
      "source": [
        "val_count = train_data.sentiment.astype(np.character).value_counts()\n",
        "\n",
        "plt.figure(figsize=(8,4))\n",
        "plt.bar(val_count.index, val_count.values)\n",
        "plt.title(\"Sentiment Data Distribution\")"
      ],
      "execution_count": null,
      "outputs": [
        {
          "output_type": "execute_result",
          "data": {
            "text/plain": [
              "Text(0.5, 1.0, 'Sentiment Data Distribution')"
            ]
          },
          "metadata": {
            "tags": []
          },
          "execution_count": 10
        },
        {
          "output_type": "display_data",
          "data": {
            "image/png": "[encoded data removed]",
            "text/plain": [
              "<Figure size 576x288 with 1 Axes>"
            ]
          },
          "metadata": {
            "tags": [],
            "needs_background": "light"
          }
        }
      ]
    },
    {
      "cell_type": "code",
      "metadata": {
        "colab": {
          "base_uri": "https://localhost:8080/",
          "height": 346
        },
        "id": "qUkMcjTpIBCY",
        "outputId": "338edc6c-898e-4dd3-c913-3851792e666f"
      },
      "source": [
        "import random\n",
        "random_idx_list = [random.randint(1,len(train_data.text)) for i in range(10)]\n",
        "train_data.loc[random_idx_list,:].head(10)"
      ],
      "execution_count": null,
      "outputs": [
        {
          "output_type": "execute_result",
          "data": {
            "text/html": [
              "<div>\n",
              "<style scoped>\n",
              "    .dataframe tbody tr th:only-of-type {\n",
              "        vertical-align: middle;\n",
              "    }\n",
              "\n",
              "    .dataframe tbody tr th {\n",
              "        vertical-align: top;\n",
              "    }\n",
              "\n",
              "    .dataframe thead th {\n",
              "        text-align: right;\n",
              "    }\n",
              "</style>\n",
              "<table border=\"1\" class=\"dataframe\">\n",
              "  <thead>\n",
              "    <tr style=\"text-align: right;\">\n",
              "      <th></th>\n",
              "      <th>text</th>\n",
              "      <th>sentiment</th>\n",
              "    </tr>\n",
              "  </thead>\n",
              "  <tbody>\n",
              "    <tr>\n",
              "      <th>5989</th>\n",
              "      <td>@HimeRuisu I'm going to ram your ass so hard I...</td>\n",
              "      <td>0</td>\n",
              "    </tr>\n",
              "    <tr>\n",
              "      <th>5989</th>\n",
              "      <td>@HimeRuisu I'm going to ram your ass so hard I...</td>\n",
              "      <td>0</td>\n",
              "    </tr>\n",
              "    <tr>\n",
              "      <th>2649</th>\n",
              "      <td>Apollo Brown - Detonate (ft. M.O.P.) http://t....</td>\n",
              "      <td>0</td>\n",
              "    </tr>\n",
              "    <tr>\n",
              "      <th>1709</th>\n",
              "      <td>Mind blown by @GlassAnimals slithering viscous...</td>\n",
              "      <td>0</td>\n",
              "    </tr>\n",
              "    <tr>\n",
              "      <th>1414</th>\n",
              "      <td>Civilian Casualties in Afghanistan Reach Recor...</td>\n",
              "      <td>1</td>\n",
              "    </tr>\n",
              "    <tr>\n",
              "      <th>6499</th>\n",
              "      <td>Hank Williams Jr. - 'Country Boys Can Survive'...</td>\n",
              "      <td>0</td>\n",
              "    </tr>\n",
              "    <tr>\n",
              "      <th>6735</th>\n",
              "      <td>Thunderstorm in Helsinki\\n#thunder #lightning ...</td>\n",
              "      <td>1</td>\n",
              "    </tr>\n",
              "    <tr>\n",
              "      <th>3864</th>\n",
              "      <td>So Pardon me while I burst into flames. \\n\\nI'...</td>\n",
              "      <td>0</td>\n",
              "    </tr>\n",
              "    <tr>\n",
              "      <th>4718</th>\n",
              "      <td>@eles_kaylee @Jannellix0 so she puts on a diff...</td>\n",
              "      <td>0</td>\n",
              "    </tr>\n",
              "    <tr>\n",
              "      <th>5444</th>\n",
              "      <td>UNWANTED PERSON at 200 BLOCK OF SE 12TH AVE PO...</td>\n",
              "      <td>0</td>\n",
              "    </tr>\n",
              "  </tbody>\n",
              "</table>\n",
              "</div>"
            ],
            "text/plain": [
              "                                                   text sentiment\n",
              "5989  @HimeRuisu I'm going to ram your ass so hard I...         0\n",
              "5989  @HimeRuisu I'm going to ram your ass so hard I...         0\n",
              "2649  Apollo Brown - Detonate (ft. M.O.P.) http://t....         0\n",
              "1709  Mind blown by @GlassAnimals slithering viscous...         0\n",
              "1414  Civilian Casualties in Afghanistan Reach Recor...         1\n",
              "6499  Hank Williams Jr. - 'Country Boys Can Survive'...         0\n",
              "6735  Thunderstorm in Helsinki\\n#thunder #lightning ...         1\n",
              "3864  So Pardon me while I burst into flames. \\n\\nI'...         0\n",
              "4718  @eles_kaylee @Jannellix0 so she puts on a diff...         0\n",
              "5444  UNWANTED PERSON at 200 BLOCK OF SE 12TH AVE PO...         0"
            ]
          },
          "metadata": {
            "tags": []
          },
          "execution_count": 11
        }
      ]
    },
    {
      "cell_type": "markdown",
      "metadata": {
        "id": "PBubFfiZYHsJ"
      },
      "source": [
        "# Text Preprocessing Trial (Skipped)\n"
      ]
    },
    {
      "cell_type": "code",
      "metadata": {
        "id": "CI1FA6VoEjZd",
        "colab": {
          "base_uri": "https://localhost:8080/",
          "height": 35
        },
        "outputId": "3f2848df-04ec-4dda-b8d9-11d04eb4474c"
      },
      "source": [
        "import re\n",
        "import unicodedata\n",
        "import html\n",
        "def text_preprocessing(text):\n",
        "  #remove mentions; starting with @\n",
        "  text=' '.join(filter(lambda x:x[0]!='@', text.split()))\n",
        "\n",
        "  #Retain words like what's or human-like as one word\n",
        "  re_punc = re.compile('[%s]' % re.escape(string.punctuation))\n",
        "  text=' '.join([re_punc.sub('', w) for w in text.split()])\n",
        "\n",
        "  #Case Normalization\n",
        "  text=text.lower()\n",
        "\n",
        "  #Removing Stopwords\n",
        "  stop_words = stopwords.words('english')\n",
        "  text =' '.join([w for w in text.split() if w not in stop_words])\n",
        "\n",
        "  #Stemming the words using porter \n",
        "  porter = PorterStemmer()\n",
        "  text=' '.join([porter.stem(word) for word in text.split()])\n",
        "\n",
        "  #Decode Unicode characters into a normalized form\n",
        "  text=unicodedata.normalize('NFKD', text).encode('ascii', 'ignore').decode('utf-8', 'ignore')\n",
        "\n",
        "  #\n",
        "  text = text.replace('#39;', \"'\").replace('amp;', '&').replace('#146;', \"'\").replace(\n",
        "    'nbsp;', ' ').replace('#36;', '$').replace('\\\\n', \"\\n\").replace('quot;', \"'\").replace(\n",
        "    '<br />', \"\\n\").replace('\\\\\"', '\"').replace('<unk>','u_n').replace(' @.@ ','.').replace(\n",
        "    ' @-@ ','-').replace('\\\\', ' \\\\ ')\n",
        "  re1 = re.compile(r'  +')\n",
        "  text= re1.sub(' ', html.unescape(text))\n",
        "\n",
        "  return text\n",
        "\n",
        "text_preprocessing(\"@rami human-like robots are Dump, watch me playing 1\")"
      ],
      "execution_count": null,
      "outputs": [
        {
          "output_type": "execute_result",
          "data": {
            "application/vnd.google.colaboratory.intrinsic+json": {
              "type": "string"
            },
            "text/plain": [
              "'humanlik robot dump watch play 1'"
            ]
          },
          "metadata": {
            "tags": []
          },
          "execution_count": 10
        }
      ]
    },
    {
      "cell_type": "markdown",
      "metadata": {
        "id": "UuBN2rflhvq4"
      },
      "source": [
        "# Text Preprocessing"
      ]
    },
    {
      "cell_type": "markdown",
      "metadata": {
        "id": "LiTxkMhBh9GX"
      },
      "source": [
        "\n",
        "\n",
        "> ## Preprocessing Pipeline\n",
        "\n"
      ]
    },
    {
      "cell_type": "code",
      "metadata": {
        "id": "uaPvdSuRhwdV"
      },
      "source": [
        "def remove_mentions(text):\n",
        "  return ' '.join(filter(lambda x:x[0]!='@', text.split()))\n",
        "\n",
        "def remove_special_chars(text):\n",
        "    re1 = re.compile(r'  +')\n",
        "    x1 = text.lower().replace('#39;', \"'\").replace('amp;', '&').replace('#146;', \"'\").replace(\n",
        "        'nbsp;', ' ').replace('#36;', '$').replace('\\\\n', \"\\n\").replace('quot;', \"'\").replace(\n",
        "        '<br />', \"\\n\").replace('\\\\\"', '\"').replace('<unk>', 'u_n').replace(' @.@ ', '.').replace(\n",
        "        ' @-@ ', '-').replace('\\\\', ' \\\\ ')\n",
        "    return re1.sub(' ', html.unescape(x1))\n",
        "\n",
        "\n",
        "def remove_non_ascii(text):\n",
        "    \"\"\"Remove non-ASCII characters from list of tokenized words\"\"\"\n",
        "    return unicodedata.normalize('NFKD', text).encode('ascii', 'ignore').decode('utf-8', 'ignore')\n",
        "\n",
        "\n",
        "def to_lowercase(text):\n",
        "    return text.lower()\n",
        "\n",
        "\n",
        "\n",
        "def remove_punctuation(text):\n",
        "    \"\"\"Remove punctuation from list of tokenized words\"\"\"\n",
        "    translator = str.maketrans('', '', string.punctuation)\n",
        "    return text.translate(translator)\n",
        "\n",
        "\n",
        "def replace_numbers(text):\n",
        "    \"\"\"Replace all interger occurrences in list of tokenized words with textual representation\"\"\"\n",
        "    return re.sub(r'\\d+', '', text)\n",
        "\n",
        "\n",
        "def remove_whitespaces(text):\n",
        "    return text.strip()\n",
        "\n",
        "\n",
        "def remove_stopwords(words, stop_words):\n",
        "    \"\"\"\n",
        "    :param words:\n",
        "    :type words:\n",
        "    :param stop_words: from sklearn.feature_extraction.stop_words import ENGLISH_STOP_WORDS\n",
        "    or\n",
        "    from spacy.lang.en.stop_words import STOP_WORDS\n",
        "    :type stop_words:\n",
        "    :return:\n",
        "    :rtype:\n",
        "    \"\"\"\n",
        "    return [word for word in words if word not in stop_words]\n",
        "\n",
        "\n",
        "def stem_words(words):\n",
        "    \"\"\"Stem words in text\"\"\"\n",
        "    stemmer = PorterStemmer()\n",
        "    return [stemmer.stem(word) for word in words]\n",
        "\n",
        "def lemmatize_words(words):\n",
        "    \"\"\"Lemmatize words in text\"\"\"\n",
        "\n",
        "    lemmatizer = WordNetLemmatizer()\n",
        "    return [lemmatizer.lemmatize(word) for word in words]\n",
        "\n",
        "def lemmatize_verbs(words):\n",
        "    \"\"\"Lemmatize verbs in text\"\"\"\n",
        "\n",
        "    lemmatizer = WordNetLemmatizer()\n",
        "    return ' '.join([lemmatizer.lemmatize(word, pos='v') for word in words])\n",
        "\n",
        "def text2words(text):\n",
        "  return word_tokenize(text)\n",
        "\n",
        "def normalize_text( text):\n",
        "    text = remove_mentions(text)\n",
        "    text = remove_special_chars(text)\n",
        "    text = remove_non_ascii(text)\n",
        "    text = remove_punctuation(text)\n",
        "    text = to_lowercase(text)\n",
        "    text = replace_numbers(text)\n",
        "    words = text2words(text)\n",
        "    words = remove_stopwords(words, stop_words)\n",
        "    #words = stem_words(words)# Either stem ovocar lemmatize\n",
        "    words = lemmatize_words(words)\n",
        "    words = lemmatize_verbs(words)\n",
        "\n",
        "    return ''.join(words)"
      ],
      "execution_count": null,
      "outputs": []
    },
    {
      "cell_type": "code",
      "metadata": {
        "id": "CBag5aSaiEPp"
      },
      "source": [
        "trn_corpus=train_data.text.apply(normalize_text).tolist()\n",
        "tst_corpus=test_data.text.apply(normalize_text).tolist()\n",
        "full_corpus = (' '.join(trn_corpus) + ' ' + ' '.join(tst_corpus)).split()"
      ],
      "execution_count": null,
      "outputs": []
    },
    {
      "cell_type": "code",
      "metadata": {
        "id": "9OFpdSPVly86"
      },
      "source": [
        "# Creating the corpus with the word counts \n",
        "from collections import Counter\n",
        "word_counts = Counter(full_corpus)\n",
        "\n",
        "word_counts={k: v for k, v in sorted(word_counts.items(), key=lambda item: item[1], reverse=True)}\n",
        "\n",
        "str2idx = {key:val for key,val in word_counts.items()}\n",
        "idx2str = {val:key for key,val in word_counts.items()}"
      ],
      "execution_count": null,
      "outputs": []
    },
    {
      "cell_type": "code",
      "metadata": {
        "id": "DDdv62dlvyRD",
        "colab": {
          "base_uri": "https://localhost:8080/"
        },
        "outputId": "f4053c04-ccc3-48eb-aba3-a8c240c72dd9"
      },
      "source": [
        "str2idx"
      ],
      "execution_count": null,
      "outputs": [
        {
          "output_type": "execute_result",
          "data": {
            "text/plain": [
              "{'get': 639,\n",
              " 'like': 557,\n",
              " 'fire': 520,\n",
              " 'u': 458,\n",
              " 'im': 419,\n",
              " 'go': 397,\n",
              " 'new': 326,\n",
              " 'via': 325,\n",
              " 'bomb': 324,\n",
              " 'one': 293,\n",
              " 'news': 290,\n",
              " 'say': 284,\n",
              " 'people': 281,\n",
              " 'dont': 260,\n",
              " 'burn': 257,\n",
              " 'kill': 249,\n",
              " 'time': 245,\n",
              " 'make': 242,\n",
              " 'attack': 238,\n",
              " 'video': 237,\n",
              " 'flood': 231,\n",
              " 'crash': 229,\n",
              " 'emergency': 228,\n",
              " 'build': 227,\n",
              " 'come': 223,\n",
              " 'disaster': 220,\n",
              " 'think': 214,\n",
              " 'see': 213,\n",
              " 'year': 213,\n",
              " 'take': 212,\n",
              " 'would': 206,\n",
              " 'body': 201,\n",
              " 'police': 196,\n",
              " 'day': 193,\n",
              " 'look': 190,\n",
              " 'know': 189,\n",
              " 'watch': 187,\n",
              " 'life': 184,\n",
              " 'storm': 182,\n",
              " 'home': 181,\n",
              " 'still': 180,\n",
              " 'family': 180,\n",
              " 'love': 177,\n",
              " 'train': 176,\n",
              " 'suicide': 174,\n",
              " 'collapse': 167,\n",
              " 'first': 166,\n",
              " 'rt': 163,\n",
              " 'scream': 162,\n",
              " 'bag': 162,\n",
              " 'back': 161,\n",
              " 'world': 159,\n",
              " 'california': 158,\n",
              " 'want': 156,\n",
              " 'car': 155,\n",
              " 'death': 153,\n",
              " 'drown': 151,\n",
              " 'need': 150,\n",
              " 'cause': 149,\n",
              " 'man': 147,\n",
              " 'work': 147,\n",
              " 'two': 146,\n",
              " 'today': 146,\n",
              " 'pm': 144,\n",
              " 'cant': 142,\n",
              " 'hiroshima': 142,\n",
              " 'service': 141,\n",
              " 'nuclear': 141,\n",
              " 'full': 140,\n",
              " 'destroy': 137,\n",
              " 'feel': 137,\n",
              " 'let': 136,\n",
              " 'dead': 135,\n",
              " 'plan': 134,\n",
              " 'wind': 131,\n",
              " 'last': 130,\n",
              " 'accident': 130,\n",
              " 'woman': 130,\n",
              " 'war': 129,\n",
              " 'even': 126,\n",
              " 'break': 125,\n",
              " 'fuck': 125,\n",
              " 'survive': 125,\n",
              " 'wreck': 123,\n",
              " 'fear': 123,\n",
              " 'blow': 121,\n",
              " 'good': 120,\n",
              " 'way': 119,\n",
              " 'rescue': 119,\n",
              " 'help': 118,\n",
              " 'call': 118,\n",
              " 'live': 117,\n",
              " 'house': 116,\n",
              " 'weapon': 116,\n",
              " 'wildfire': 115,\n",
              " 'right': 115,\n",
              " 'could': 114,\n",
              " 'may': 113,\n",
              " 'injury': 113,\n",
              " 'many': 113,\n",
              " 'find': 113,\n",
              " 'run': 113,\n",
              " 'na': 111,\n",
              " 'try': 111,\n",
              " 'uo': 110,\n",
              " 'use': 110,\n",
              " 'panic': 109,\n",
              " 'explode': 109,\n",
              " 'report': 108,\n",
              " 'best': 108,\n",
              " 'save': 108,\n",
              " 'wave': 107,\n",
              " 'stop': 107,\n",
              " 'hear': 107,\n",
              " 'hostage': 106,\n",
              " 'riot': 106,\n",
              " 'forest': 105,\n",
              " 'army': 105,\n",
              " 'sink': 105,\n",
              " 'demolish': 104,\n",
              " 'mass': 103,\n",
              " 'shoot': 102,\n",
              " 'thing': 102,\n",
              " 'crush': 102,\n",
              " 'collide': 101,\n",
              " 'derail': 101,\n",
              " 'quarantine': 101,\n",
              " 'black': 100,\n",
              " 'water': 100,\n",
              " 'read': 99,\n",
              " 'really': 99,\n",
              " 'evacuate': 99,\n",
              " 'god': 98,\n",
              " 'obliterate': 98,\n",
              " 'w': 97,\n",
              " 'please': 97,\n",
              " 'another': 97,\n",
              " 'lol': 97,\n",
              " 'never': 96,\n",
              " 'miss': 96,\n",
              " 'mh': 96,\n",
              " 'bomber': 96,\n",
              " 'die': 95,\n",
              " 'electrocute': 95,\n",
              " 'hijack': 95,\n",
              " 'photo': 94,\n",
              " 'damage': 94,\n",
              " 'city': 94,\n",
              " 'fall': 94,\n",
              " 'show': 94,\n",
              " 'hot': 94,\n",
              " 'post': 93,\n",
              " 'detonate': 93,\n",
              " 'school': 92,\n",
              " 'deluge': 92,\n",
              " 'youre': 91,\n",
              " 'give': 91,\n",
              " 'set': 90,\n",
              " 'play': 90,\n",
              " 'happen': 89,\n",
              " 'warn': 89,\n",
              " 'northern': 89,\n",
              " 'old': 89,\n",
              " 'fatal': 89,\n",
              " 'state': 88,\n",
              " 'casualty': 87,\n",
              " 'near': 86,\n",
              " 'much': 86,\n",
              " 'leave': 85,\n",
              " 'obama': 85,\n",
              " 'release': 85,\n",
              " 'night': 84,\n",
              " 'hit': 84,\n",
              " 'fatality': 84,\n",
              " 'top': 83,\n",
              " 'great': 83,\n",
              " 'japan': 83,\n",
              " 'th': 82,\n",
              " 'issue': 82,\n",
              " 'wild': 82,\n",
              " 'start': 82,\n",
              " 'rain': 81,\n",
              " 'truck': 81,\n",
              " 'latest': 81,\n",
              " 'hope': 81,\n",
              " 'flame': 81,\n",
              " 'update': 80,\n",
              " 'story': 80,\n",
              " 'shit': 79,\n",
              " 'thank': 79,\n",
              " 'tell': 79,\n",
              " 'siren': 79,\n",
              " 'boy': 79,\n",
              " 'injure': 79,\n",
              " 'smoke': 78,\n",
              " 'end': 78,\n",
              " 'keep': 78,\n",
              " 'confirm': 78,\n",
              " 'thunderstorm': 78,\n",
              " 'legionnaire': 78,\n",
              " 'head': 77,\n",
              " 'game': 77,\n",
              " 'atomic': 77,\n",
              " 'ever': 76,\n",
              " 'suspect': 76,\n",
              " 'blaze': 75,\n",
              " 'earthquake': 74,\n",
              " 'send': 74,\n",
              " 'face': 74,\n",
              " 'girl': 74,\n",
              " 'charge': 74,\n",
              " 'as': 74,\n",
              " 'content': 74,\n",
              " 'every': 73,\n",
              " 'terrorist': 73,\n",
              " 'oil': 73,\n",
              " 'check': 72,\n",
              " 'cross': 72,\n",
              " 'murder': 72,\n",
              " 'well': 72,\n",
              " 'thats': 72,\n",
              " 'gon': 71,\n",
              " 'change': 71,\n",
              " 'trap': 71,\n",
              " 'sound': 71,\n",
              " 'severe': 71,\n",
              " 'evacuation': 70,\n",
              " 'since': 70,\n",
              " 'food': 70,\n",
              " 'sign': 70,\n",
              " 'military': 70,\n",
              " 'summer': 69,\n",
              " 'everyone': 69,\n",
              " 'debris': 69,\n",
              " 'fight': 69,\n",
              " 'weather': 69,\n",
              " 'movie': 69,\n",
              " 'pick': 69,\n",
              " 'put': 69,\n",
              " 'land': 69,\n",
              " 'migrant': 69,\n",
              " 'heat': 68,\n",
              " 'week': 68,\n",
              " 'without': 68,\n",
              " 'market': 67,\n",
              " 'always': 67,\n",
              " 'next': 67,\n",
              " 'also': 67,\n",
              " 'guy': 67,\n",
              " 'wound': 67,\n",
              " 'natural': 67,\n",
              " 'national': 66,\n",
              " 'spill': 65,\n",
              " 'drive': 65,\n",
              " 'official': 65,\n",
              " 'little': 65,\n",
              " 'lead': 65,\n",
              " 'fan': 65,\n",
              " 'lightning': 65,\n",
              " 'someone': 64,\n",
              " 'minute': 64,\n",
              " 'malaysia': 64,\n",
              " 'bring': 63,\n",
              " 'move': 63,\n",
              " 'ill': 63,\n",
              " 'free': 63,\n",
              " 'bloody': 63,\n",
              " 'child': 63,\n",
              " 'bad': 63,\n",
              " 'yr': 63,\n",
              " 'light': 63,\n",
              " 'failure': 63,\n",
              " 'ive': 62,\n",
              " 'bus': 62,\n",
              " 'st': 62,\n",
              " 'eye': 62,\n",
              " 'landslide': 62,\n",
              " 'loud': 62,\n",
              " 'thunder': 62,\n",
              " 'catch': 61,\n",
              " 'saudi': 61,\n",
              " 'oh': 61,\n",
              " 'baby': 61,\n",
              " 'ruin': 61,\n",
              " 'area': 60,\n",
              " 'around': 60,\n",
              " 'tonight': 60,\n",
              " 'remember': 60,\n",
              " 'air': 60,\n",
              " 'survivor': 60,\n",
              " 'red': 60,\n",
              " 'part': 60,\n",
              " 'business': 60,\n",
              " 'rise': 60,\n",
              " 'refugee': 60,\n",
              " 'bridge': 60,\n",
              " 'boat': 60,\n",
              " 'wait': 59,\n",
              " 'island': 59,\n",
              " 'hurricane': 59,\n",
              " 'affect': 59,\n",
              " 'there': 58,\n",
              " 'road': 58,\n",
              " 'reddit': 58,\n",
              " 'job': 57,\n",
              " 'blood': 57,\n",
              " 'he': 57,\n",
              " 'whole': 57,\n",
              " 'hail': 57,\n",
              " 'mosque': 57,\n",
              " 'battle': 57,\n",
              " 'hold': 57,\n",
              " 'drought': 57,\n",
              " 'responder': 57,\n",
              " 'hundred': 57,\n",
              " 'order': 56,\n",
              " 'kid': 56,\n",
              " 'past': 56,\n",
              " 'follow': 56,\n",
              " 'apocalypse': 56,\n",
              " 'big': 56,\n",
              " 'blast': 56,\n",
              " 'stock': 56,\n",
              " 'county': 55,\n",
              " 'second': 55,\n",
              " 'trauma': 55,\n",
              " 'ambulance': 55,\n",
              " 'violent': 55,\n",
              " 'terrorism': 55,\n",
              " 'group': 55,\n",
              " 'open': 55,\n",
              " 'close': 54,\n",
              " 'ok': 54,\n",
              " 'destruction': 54,\n",
              " 'river': 54,\n",
              " 'saw': 54,\n",
              " 'x': 54,\n",
              " 'rescuer': 54,\n",
              " 'dust': 54,\n",
              " 'massacre': 54,\n",
              " 'explosion': 53,\n",
              " 'wake': 53,\n",
              " 'white': 53,\n",
              " 'outbreak': 53,\n",
              " 'bleed': 53,\n",
              " 'tragedy': 53,\n",
              " 'displace': 53,\n",
              " 'catastrophic': 53,\n",
              " 'trouble': 53,\n",
              " 'sinkhole': 53,\n",
              " 'officer': 52,\n",
              " 'due': 52,\n",
              " 'heart': 52,\n",
              " 'phone': 52,\n",
              " 'hour': 52,\n",
              " 'lot': 52,\n",
              " 'away': 52,\n",
              " 'derailment': 52,\n",
              " 'catastrophe': 52,\n",
              " 'wreckage': 52,\n",
              " 'lava': 52,\n",
              " 'least': 51,\n",
              " 'talk': 51,\n",
              " 'airplane': 51,\n",
              " 'august': 51,\n",
              " 'calgary': 51,\n",
              " 'word': 51,\n",
              " 'effect': 51,\n",
              " 'hazard': 51,\n",
              " 'traumatise': 51,\n",
              " 'hazardous': 51,\n",
              " 'cliff': 51,\n",
              " 'china': 51,\n",
              " 'engulf': 51,\n",
              " 'bang': 51,\n",
              " 'structural': 51,\n",
              " 'lose': 50,\n",
              " 'better': 50,\n",
              " 'meltdown': 50,\n",
              " 'high': 50,\n",
              " 'real': 50,\n",
              " 'deal': 50,\n",
              " 'anniversary': 50,\n",
              " 'curfew': 50,\n",
              " 'investigator': 50,\n",
              " 'inundate': 50,\n",
              " 'mudslide': 50,\n",
              " 'tornado': 49,\n",
              " 'horrible': 49,\n",
              " 'begin': 49,\n",
              " 'drink': 49,\n",
              " 'must': 49,\n",
              " 'case': 49,\n",
              " 'power': 49,\n",
              " 'pic': 49,\n",
              " 'lady': 49,\n",
              " 'line': 49,\n",
              " 'search': 49,\n",
              " 'danger': 49,\n",
              " 'detonation': 49,\n",
              " 'sandstorm': 49,\n",
              " 'street': 48,\n",
              " 'site': 48,\n",
              " 'something': 48,\n",
              " 'turn': 48,\n",
              " 'park': 48,\n",
              " 'pay': 48,\n",
              " 'friend': 48,\n",
              " 'arson': 48,\n",
              " 'security': 48,\n",
              " 'volcano': 48,\n",
              " 'harm': 48,\n",
              " 'desolation': 48,\n",
              " 'devastation': 48,\n",
              " 'seismic': 48,\n",
              " 'flatten': 48,\n",
              " 'obliteration': 48,\n",
              " 'swallow': 48,\n",
              " 'twister': 48,\n",
              " 'place': 47,\n",
              " 'three': 47,\n",
              " 'stand': 47,\n",
              " 'airport': 47,\n",
              " 'annihilate': 47,\n",
              " 'id': 47,\n",
              " 'song': 47,\n",
              " 'sure': 47,\n",
              " 'ur': 47,\n",
              " 'pkk': 47,\n",
              " 'ban': 47,\n",
              " 'cyclone': 47,\n",
              " 'raze': 47,\n",
              " 'whirlwind': 47,\n",
              " 'mean': 46,\n",
              " 'government': 46,\n",
              " 'iran': 46,\n",
              " 'project': 46,\n",
              " 'zone': 46,\n",
              " 'long': 46,\n",
              " 'link': 46,\n",
              " 'shoulder': 46,\n",
              " 'stay': 46,\n",
              " 'person': 46,\n",
              " 'longer': 46,\n",
              " 'chemical': 46,\n",
              " 'typhoon': 46,\n",
              " 'eyewitness': 46,\n",
              " 'rubble': 46,\n",
              " 'snowstorm': 46,\n",
              " 'reason': 45,\n",
              " 'care': 45,\n",
              " 'didnt': 45,\n",
              " 'ship': 45,\n",
              " 'become': 45,\n",
              " 'tomorrow': 45,\n",
              " 'twitter': 45,\n",
              " 'fedex': 45,\n",
              " 'mark': 45,\n",
              " 'collision': 45,\n",
              " 'tsunami': 45,\n",
              " 'famine': 45,\n",
              " 'hijacker': 45,\n",
              " 'far': 44,\n",
              " 'block': 44,\n",
              " 'believe': 44,\n",
              " 'american': 44,\n",
              " 'yet': 44,\n",
              " 'turkey': 44,\n",
              " 'murderer': 44,\n",
              " 'rainstorm': 44,\n",
              " 'windstorm': 44,\n",
              " 'ask': 43,\n",
              " 'book': 43,\n",
              " 'plane': 43,\n",
              " 'medium': 43,\n",
              " 'star': 43,\n",
              " 'bioterror': 43,\n",
              " 'half': 43,\n",
              " 'isi': 43,\n",
              " 'cool': 42,\n",
              " 'n': 42,\n",
              " 'possible': 42,\n",
              " 'victim': 42,\n",
              " 'ebay': 42,\n",
              " 'hell': 42,\n",
              " 'soon': 42,\n",
              " 'doesnt': 42,\n",
              " 'level': 42,\n",
              " 'declare': 42,\n",
              " 'pandemonium': 42,\n",
              " 'west': 41,\n",
              " 'actually': 41,\n",
              " 'brown': 41,\n",
              " 'do': 41,\n",
              " 'reunion': 41,\n",
              " 'men': 41,\n",
              " 'dog': 41,\n",
              " 'horror': 41,\n",
              " 'v': 41,\n",
              " 'name': 41,\n",
              " 'learn': 41,\n",
              " 'india': 41,\n",
              " 'bioterrorism': 41,\n",
              " 'health': 41,\n",
              " 'yes': 41,\n",
              " 'wan': 41,\n",
              " 'hat': 41,\n",
              " 'nothing': 41,\n",
              " 'walk': 41,\n",
              " 'blight': 41,\n",
              " 'demolition': 41,\n",
              " 'prebreak': 41,\n",
              " 'south': 40,\n",
              " 'side': 40,\n",
              " 'sleep': 40,\n",
              " 'already': 40,\n",
              " 'annihilation': 40,\n",
              " 'armageddon': 40,\n",
              " 'rule': 40,\n",
              " 'b': 40,\n",
              " 'israeli': 40,\n",
              " 'avalanche': 40,\n",
              " 'music': 40,\n",
              " 'though': 40,\n",
              " 'aug': 40,\n",
              " 'bush': 40,\n",
              " 'upheaval': 40,\n",
              " 'whats': 39,\n",
              " 'ablaze': 39,\n",
              " 'grow': 39,\n",
              " 'fun': 39,\n",
              " 'bar': 39,\n",
              " 'listen': 39,\n",
              " 'computer': 39,\n",
              " 'low': 39,\n",
              " 'strike': 39,\n",
              " 'crew': 39,\n",
              " 'nearby': 39,\n",
              " 'expect': 38,\n",
              " 'support': 38,\n",
              " 'ago': 38,\n",
              " 'share': 38,\n",
              " 'add': 38,\n",
              " 'sit': 38,\n",
              " 'claim': 38,\n",
              " 'tweet': 38,\n",
              " 'memory': 38,\n",
              " 'continue': 38,\n",
              " 'north': 37,\n",
              " 'month': 37,\n",
              " 'america': 37,\n",
              " 'rd': 37,\n",
              " 'wont': 37,\n",
              " 'israel': 37,\n",
              " 'bc': 37,\n",
              " 'buy': 37,\n",
              " 'data': 37,\n",
              " 'control': 37,\n",
              " 'muslim': 37,\n",
              " 'transport': 37,\n",
              " 'lab': 37,\n",
              " 'problem': 37,\n",
              " 'firefighter': 37,\n",
              " 'reu': 37,\n",
              " 'policy': 37,\n",
              " 'sue': 37,\n",
              " 'abc': 37,\n",
              " 'desolate': 37,\n",
              " 'yearold': 37,\n",
              " 'hailstorm': 37,\n",
              " 'hellfire': 37,\n",
              " 'mayhem': 37,\n",
              " 'inside': 36,\n",
              " 'p': 36,\n",
              " 'meet': 36,\n",
              " 'country': 36,\n",
              " 'horse': 36,\n",
              " 'hand': 36,\n",
              " 'lie': 36,\n",
              " 'damn': 36,\n",
              " 'team': 36,\n",
              " 'cover': 36,\n",
              " 'pretty': 36,\n",
              " 'rock': 36,\n",
              " 'mp': 36,\n",
              " 'km': 36,\n",
              " 'reactor': 36,\n",
              " 'stretcher': 36,\n",
              " 'la': 35,\n",
              " 'r': 35,\n",
              " 'traffic': 35,\n",
              " 'win': 35,\n",
              " 'moment': 35,\n",
              " 'theyre': 35,\n",
              " 'almost': 35,\n",
              " 'omg': 35,\n",
              " 'helicopter': 35,\n",
              " 'nigga': 35,\n",
              " 'history': 35,\n",
              " 'gun': 35,\n",
              " 'force': 35,\n",
              " 'yeah': 35,\n",
              " 'australia': 35,\n",
              " 'money': 35,\n",
              " 'knock': 35,\n",
              " 'devastate': 35,\n",
              " 'tree': 35,\n",
              " 'saipan': 35,\n",
              " 'conclusively': 35,\n",
              " 'flag': 34,\n",
              " 'happy': 34,\n",
              " 'k': 34,\n",
              " 'mom': 34,\n",
              " 'finally': 34,\n",
              " 'aftershock': 34,\n",
              " 'anyone': 34,\n",
              " 'might': 34,\n",
              " 'crazy': 34,\n",
              " 'everything': 34,\n",
              " 'maybe': 34,\n",
              " 'isnt': 34,\n",
              " 'tv': 34,\n",
              " 'date': 34,\n",
              " 'anything': 34,\n",
              " 'interest': 34,\n",
              " 'action': 34,\n",
              " 'spot': 34,\n",
              " 'bigger': 34,\n",
              " 'trench': 34,\n",
              " 'member': 33,\n",
              " 'hate': 33,\n",
              " 'christian': 33,\n",
              " 'crisis': 33,\n",
              " 'militant': 33,\n",
              " 'act': 33,\n",
              " 'literally': 33,\n",
              " 'piece': 33,\n",
              " 'c': 33,\n",
              " 'probably': 33,\n",
              " 'giant': 33,\n",
              " 'village': 33,\n",
              " 'outside': 32,\n",
              " 'huge': 32,\n",
              " 'vehicle': 32,\n",
              " 'ball': 32,\n",
              " 'film': 32,\n",
              " 'peace': 32,\n",
              " 'pray': 32,\n",
              " 'seek': 32,\n",
              " 'beautiful': 32,\n",
              " 'gem': 32,\n",
              " 'throw': 32,\n",
              " 'wow': 32,\n",
              " 'handbag': 32,\n",
              " 'coach': 32,\n",
              " 'course': 32,\n",
              " 'soudelor': 32,\n",
              " 'typhoondevastated': 32,\n",
              " 'bestnaijamade': 32,\n",
              " 'thousand': 31,\n",
              " 'center': 31,\n",
              " 'cop': 31,\n",
              " 'sorry': 31,\n",
              " 'pile': 31,\n",
              " 'total': 31,\n",
              " 'salt': 31,\n",
              " 'human': 31,\n",
              " 'hey': 31,\n",
              " 'point': 31,\n",
              " 'track': 31,\n",
              " 'town': 31,\n",
              " 'fukushima': 31,\n",
              " 'carry': 31,\n",
              " 'public': 31,\n",
              " 'blizzard': 31,\n",
              " 'morning': 31,\n",
              " 'appear': 31,\n",
              " 'room': 31,\n",
              " 'likely': 31,\n",
              " 'wonder': 31,\n",
              " 'quiz': 31,\n",
              " 'secret': 30,\n",
              " 'nowplaying': 30,\n",
              " 'property': 30,\n",
              " 'reuters': 30,\n",
              " 'couple': 30,\n",
              " 'major': 30,\n",
              " 'mine': 30,\n",
              " 'prepare': 30,\n",
              " 'truth': 30,\n",
              " 'amid': 30,\n",
              " 'capture': 30,\n",
              " 'green': 30,\n",
              " 'hollywood': 30,\n",
              " 'result': 30,\n",
              " 'drop': 30,\n",
              " 'camp': 30,\n",
              " 'flight': 30,\n",
              " 'nw': 30,\n",
              " 'islam': 30,\n",
              " 'manslaughter': 30,\n",
              " 'offensive': 30,\n",
              " 'fast': 29,\n",
              " 'eat': 29,\n",
              " 'cry': 29,\n",
              " 'season': 29,\n",
              " 'arsonist': 29,\n",
              " 'expert': 29,\n",
              " 'aircraft': 29,\n",
              " 'bite': 29,\n",
              " 'target': 29,\n",
              " 'pakistan': 29,\n",
              " 'fact': 29,\n",
              " 'allow': 29,\n",
              " 'beat': 29,\n",
              " 'million': 29,\n",
              " 'shift': 29,\n",
              " 'king': 29,\n",
              " 'write': 29,\n",
              " 'anthrax': 29,\n",
              " 'idea': 29,\n",
              " 'russian': 29,\n",
              " 'alarm': 29,\n",
              " 'brother': 29,\n",
              " 'bbc': 29,\n",
              " 'passenger': 29,\n",
              " 'climate': 28,\n",
              " 'else': 28,\n",
              " 'number': 28,\n",
              " 'self': 28,\n",
              " 'leather': 28,\n",
              " 'ca': 28,\n",
              " 'favorite': 28,\n",
              " 'cut': 28,\n",
              " 'deliver': 28,\n",
              " 'mad': 28,\n",
              " 'cake': 28,\n",
              " 'thursday': 28,\n",
              " 'ignition': 28,\n",
              " 'virgin': 28,\n",
              " 'flash': 27,\n",
              " 'spring': 27,\n",
              " 'across': 27,\n",
              " 'lord': 27,\n",
              " 'others': 27,\n",
              " 'avoid': 27,\n",
              " 'worry': 27,\n",
              " 'safety': 27,\n",
              " 'join': 27,\n",
              " 'radio': 27,\n",
              " 'class': 27,\n",
              " 'mop': 27,\n",
              " 'hire': 27,\n",
              " 'texas': 27,\n",
              " 'mount': 27,\n",
              " 'mishap': 27,\n",
              " 'nearly': 27,\n",
              " 'agree': 27,\n",
              " 'wed': 27,\n",
              " 'foot': 27,\n",
              " 'aint': 27,\n",
              " 'mph': 27,\n",
              " 'return': 27,\n",
              " 'shape': 27,\n",
              " 'press': 27,\n",
              " 'exchange': 27,\n",
              " 'ancient': 27,\n",
              " 'refugio': 27,\n",
              " 'costlier': 27,\n",
              " 'heavy': 26,\n",
              " 'haha': 26,\n",
              " 'hard': 26,\n",
              " 'front': 26,\n",
              " 'involve': 26,\n",
              " 'scene': 26,\n",
              " 'travel': 26,\n",
              " 'comment': 26,\n",
              " 'wrong': 26,\n",
              " 'shes': 26,\n",
              " 'trust': 26,\n",
              " 'soul': 26,\n",
              " 'escape': 26,\n",
              " 'unite': 26,\n",
              " 'hero': 26,\n",
              " 'okay': 26,\n",
              " 'civilian': 26,\n",
              " 'temple': 26,\n",
              " 'worst': 26,\n",
              " 'create': 26,\n",
              " 'nd': 26,\n",
              " 'space': 26,\n",
              " 'germ': 26,\n",
              " 'test': 26,\n",
              " 'online': 26,\n",
              " 'entire': 26,\n",
              " 'large': 26,\n",
              " 'super': 26,\n",
              " 'drake': 26,\n",
              " 'record': 26,\n",
              " 'insurance': 26,\n",
              " 'account': 26,\n",
              " 'chance': 26,\n",
              " 'company': 26,\n",
              " 'utc': 26,\n",
              " 'funtenna': 26,\n",
              " 'unconfirmed': 26,\n",
              " 'neighbour': 26,\n",
              " 'galactic': 26,\n",
              " 'miner': 26,\n",
              " 'arrive': 25,\n",
              " 'daily': 25,\n",
              " 'four': 25,\n",
              " 'driver': 25,\n",
              " 'mention': 25,\n",
              " 'earth': 25,\n",
              " 'east': 25,\n",
              " 'arrest': 25,\n",
              " 'beach': 25,\n",
              " 'true': 25,\n",
              " 'youth': 25,\n",
              " 'view': 25,\n",
              " 'occur': 25,\n",
              " 'event': 25,\n",
              " 'e': 25,\n",
              " 'picture': 25,\n",
              " 'enough': 25,\n",
              " 'dude': 25,\n",
              " 'wall': 25,\n",
              " 'meek': 25,\n",
              " 'guide': 25,\n",
              " 'gbbo': 25,\n",
              " 'ppl': 25,\n",
              " 'seem': 25,\n",
              " 'strong': 25,\n",
              " 'apollo': 25,\n",
              " 'declaration': 25,\n",
              " 'nurse': 25,\n",
              " 'disea': 25,\n",
              " 'myanmar': 24,\n",
              " 'sky': 24,\n",
              " 'alone': 24,\n",
              " 'student': 24,\n",
              " 'risk': 24,\n",
              " 'wish': 24,\n",
              " 'guess': 24,\n",
              " 'global': 24,\n",
              " 'behind': 24,\n",
              " 'spend': 24,\n",
              " 'wasnt': 24,\n",
              " 'question': 24,\n",
              " 'toddler': 24,\n",
              " 'yesterday': 24,\n",
              " 'blue': 24,\n",
              " 'forget': 24,\n",
              " 'young': 24,\n",
              " 'bitch': 24,\n",
              " 'pain': 24,\n",
              " 'art': 24,\n",
              " 'investigate': 24,\n",
              " 'washington': 24,\n",
              " 'libya': 24,\n",
              " 'islamic': 24,\n",
              " 'ash': 24,\n",
              " 'sad': 24,\n",
              " 'emmerdale': 24,\n",
              " 'cnn': 24,\n",
              " 'nigerian': 24,\n",
              " 'cree': 24,\n",
              " 'reddits': 24,\n",
              " 'subreddits': 24,\n",
              " 'awesome': 23,\n",
              " 'single': 23,\n",
              " 'mile': 23,\n",
              " 'pull': 23,\n",
              " 'match': 23,\n",
              " 'grind': 23,\n",
              " 'usa': 23,\n",
              " 'poor': 23,\n",
              " 'scar': 23,\n",
              " 'theater': 23,\n",
              " 'terror': 23,\n",
              " 'answer': 23,\n",
              " 'party': 23,\n",
              " 'bless': 23,\n",
              " 'text': 23,\n",
              " 'mind': 23,\n",
              " 'fashion': 23,\n",
              " 'centre': 23,\n",
              " 'nagasaki': 23,\n",
              " 'threaten': 23,\n",
              " 'angry': 23,\n",
              " 'york': 23,\n",
              " 'lamp': 23,\n",
              " 'direction': 22,\n",
              " 'upon': 22,\n",
              " 'owner': 22,\n",
              " 'dance': 22,\n",
              " 'wednesday': 22,\n",
              " 'early': 22,\n",
              " 'em': 22,\n",
              " 'respond': 22,\n",
              " 'dad': 22,\n",
              " 'enjoy': 22,\n",
              " 'door': 22,\n",
              " 'struggle': 22,\n",
              " 'palestinian': 22,\n",
              " 'remove': 22,\n",
              " 'steal': 22,\n",
              " 'pamela': 22,\n",
              " 'fly': 22,\n",
              " 'research': 22,\n",
              " 'ebola': 22,\n",
              " 'threat': 22,\n",
              " 'experience': 22,\n",
              " 'character': 22,\n",
              " 'biggest': 22,\n",
              " 'player': 22,\n",
              " 'tote': 22,\n",
              " 'limit': 22,\n",
              " 'ross': 22,\n",
              " 'absolutely': 22,\n",
              " 'animal': 22,\n",
              " 'download': 22,\n",
              " 'patience': 22,\n",
              " 'former': 22,\n",
              " 'madhya': 22,\n",
              " 'pradesh': 22,\n",
              " 'cost': 22,\n",
              " 'offroad': 22,\n",
              " 'rly': 22,\n",
              " 'chile': 22,\n",
              " 'london': 21,\n",
              " 'aba': 21,\n",
              " 'wife': 21,\n",
              " 'michael': 21,\n",
              " 'double': 21,\n",
              " 'dream': 21,\n",
              " 'france': 21,\n",
              " 'g': 21,\n",
              " 'episode': 21,\n",
              " 'short': 21,\n",
              " 'ready': 21,\n",
              " 'disease': 21,\n",
              " 'mod': 21,\n",
              " 'series': 21,\n",
              " 'department': 21,\n",
              " 'till': 21,\n",
              " 'vote': 21,\n",
              " 'court': 21,\n",
              " 'udhampur': 21,\n",
              " 'geller': 21,\n",
              " 'album': 21,\n",
              " 'playlist': 21,\n",
              " 'ahead': 21,\n",
              " 'step': 21,\n",
              " 'community': 21,\n",
              " 'small': 21,\n",
              " 'co': 21,\n",
              " 'central': 21,\n",
              " 'outrage': 21,\n",
              " 'downtown': 21,\n",
              " 'social': 21,\n",
              " 'parent': 21,\n",
              " 'instead': 21,\n",
              " 'plant': 21,\n",
              " 'either': 21,\n",
              " 'uk': 21,\n",
              " 'cable': 21,\n",
              " 'internally': 21,\n",
              " 'information': 21,\n",
              " 'brooklyn': 21,\n",
              " 'abandon': 21,\n",
              " 'bayelsa': 21,\n",
              " 'lake': 20,\n",
              " 'colorado': 20,\n",
              " 'ave': 20,\n",
              " 'pakistani': 20,\n",
              " 'mountain': 20,\n",
              " 'imagine': 20,\n",
              " 'totally': 20,\n",
              " 'bed': 20,\n",
              " 'govt': 20,\n",
              " 'sport': 20,\n",
              " 'japanese': 20,\n",
              " 'f': 20,\n",
              " 'cold': 20,\n",
              " 'sun': 20,\n",
              " 'tear': 20,\n",
              " 'arent': 20,\n",
              " 'colour': 20,\n",
              " 'crane': 20,\n",
              " 'etc': 20,\n",
              " 'remain': 20,\n",
              " 'understand': 20,\n",
              " 'denver': 20,\n",
              " 'mix': 20,\n",
              " 'suffer': 20,\n",
              " 'repair': 20,\n",
              " 'british': 20,\n",
              " 'donuat': 20,\n",
              " ...}"
            ]
          },
          "metadata": {
            "tags": []
          },
          "execution_count": 15
        }
      ]
    },
    {
      "cell_type": "code",
      "metadata": {
        "colab": {
          "base_uri": "https://localhost:8080/"
        },
        "id": "8BOtDFComEn7",
        "outputId": "672fc5af-1688-4f25-9099-92af0ab70c39"
      },
      "source": [
        "from keras.preprocessing.text import Tokenizer\n",
        "\n",
        "texts = trn_corpus + tst_corpus\n",
        "texts[:10]"
      ],
      "execution_count": null,
      "outputs": [
        {
          "output_type": "execute_result",
          "data": {
            "text/plain": [
              "['deed reason earthquake may allah forgive u',\n",
              " 'forest fire near la ronge sask canada',\n",
              " 'resident ask shelter place notify officer evacuation shelter place order expect',\n",
              " 'people receive wildfire evacuation order california',\n",
              " 'get send photo ruby alaska smoke wildfire pour school',\n",
              " 'rockyfire update california hwy close direction due lake county fire cafire wildfire',\n",
              " 'flood disaster heavy rain cause flash flood street manitou colorado spring area',\n",
              " 'im top hill see fire wood',\n",
              " 'there emergency evacuation happen build across street',\n",
              " 'im afraid tornado come area']"
            ]
          },
          "metadata": {
            "tags": []
          },
          "execution_count": 16
        }
      ]
    },
    {
      "cell_type": "code",
      "metadata": {
        "id": "o1fXVuk0x4IH"
      },
      "source": [
        "tok = Tokenizer(oov_token='UNK')\n",
        "tok.fit_on_texts(texts)"
      ],
      "execution_count": null,
      "outputs": []
    },
    {
      "cell_type": "code",
      "metadata": {
        "colab": {
          "base_uri": "https://localhost:8080/"
        },
        "id": "JpwM2ptp9JJI",
        "outputId": "54e403b6-b0bc-4f76-8e92-930dd574f607"
      },
      "source": [
        "len(tok.word_index)"
      ],
      "execution_count": null,
      "outputs": [
        {
          "output_type": "execute_result",
          "data": {
            "text/plain": [
              "21901"
            ]
          },
          "metadata": {
            "tags": []
          },
          "execution_count": 19
        }
      ]
    },
    {
      "cell_type": "code",
      "metadata": {
        "id": "cER5BrPd9KLs"
      },
      "source": [
        "s = 'hbhjbhj World'\n",
        "l=tok.texts_to_sequences([s.split()])"
      ],
      "execution_count": null,
      "outputs": []
    },
    {
      "cell_type": "code",
      "metadata": {
        "colab": {
          "base_uri": "https://localhost:8080/"
        },
        "id": "v75zPdzF9WE5",
        "outputId": "76a91035-14fe-4f79-9091-ff09a715f4f6"
      },
      "source": [
        "from keras.preprocessing.sequence import pad_sequences\n",
        "maxlen = max([len(t) for t in texts])\n",
        "\n",
        "l = np.array(pad_sequences(l,\n",
        "                          maxlen=maxlen,\n",
        "                          padding='post',\n",
        "                          truncating='post'))\n",
        "l.shape"
      ],
      "execution_count": null,
      "outputs": [
        {
          "output_type": "execute_result",
          "data": {
            "text/plain": [
              "(1, 137)"
            ]
          },
          "metadata": {
            "tags": []
          },
          "execution_count": 21
        }
      ]
    },
    {
      "cell_type": "code",
      "metadata": {
        "colab": {
          "base_uri": "https://localhost:8080/"
        },
        "id": "z2pUXcUj9lNG",
        "outputId": "9a8f9db8-3818-43d5-fbea-c46a966f9ac4"
      },
      "source": [
        "l"
      ],
      "execution_count": null,
      "outputs": [
        {
          "output_type": "execute_result",
          "data": {
            "text/plain": [
              "array([[ 1, 53,  0,  0,  0,  0,  0,  0,  0,  0,  0,  0,  0,  0,  0,  0,\n",
              "         0,  0,  0,  0,  0,  0,  0,  0,  0,  0,  0,  0,  0,  0,  0,  0,\n",
              "         0,  0,  0,  0,  0,  0,  0,  0,  0,  0,  0,  0,  0,  0,  0,  0,\n",
              "         0,  0,  0,  0,  0,  0,  0,  0,  0,  0,  0,  0,  0,  0,  0,  0,\n",
              "         0,  0,  0,  0,  0,  0,  0,  0,  0,  0,  0,  0,  0,  0,  0,  0,\n",
              "         0,  0,  0,  0,  0,  0,  0,  0,  0,  0,  0,  0,  0,  0,  0,  0,\n",
              "         0,  0,  0,  0,  0,  0,  0,  0,  0,  0,  0,  0,  0,  0,  0,  0,\n",
              "         0,  0,  0,  0,  0,  0,  0,  0,  0,  0,  0,  0,  0,  0,  0,  0,\n",
              "         0,  0,  0,  0,  0,  0,  0,  0,  0]], dtype=int32)"
            ]
          },
          "metadata": {
            "tags": []
          },
          "execution_count": 22
        }
      ]
    },
    {
      "cell_type": "markdown",
      "metadata": {
        "id": "ogfPqMmE9l3s"
      },
      "source": [
        "# 2- Train 3 BoW models for the following features:"
      ]
    },
    {
      "cell_type": "markdown",
      "metadata": {
        "id": "np5ZENmrDvwk"
      },
      "source": [
        "\n",
        "\n",
        "> # Binary Features\n",
        "\n"
      ]
    },
    {
      "cell_type": "code",
      "metadata": {
        "id": "UDowoVDy9mNN"
      },
      "source": [
        "vocab_sz = 10000 \n",
        "tok = Tokenizer(num_words=vocab_sz, oov_token='UNK')\n",
        "#tok = Tokenizer(oov_token='UNK')\n",
        "tok.fit_on_texts(trn_corpus + tst_corpus)\n",
        "#vocab_sz = len(tok.word_index) # If all possible vocab, else, it's the predefine vocab_sz. Remember we cannot always use the len(tok.word_index), since it's always the max.\n",
        "\n",
        "# Extract binary BoW features\n",
        "x_train = tok.texts_to_matrix(trn_corpus, mode='binary')\n",
        "x_test = tok.texts_to_matrix(tst_corpus, mode='binary')\n",
        "\n",
        "y_train=train_data.sentiment"
      ],
      "execution_count": null,
      "outputs": []
    },
    {
      "cell_type": "code",
      "metadata": {
        "id": "oYufCZ-V9mVf",
        "colab": {
          "base_uri": "https://localhost:8080/"
        },
        "outputId": "499602d6-56b8-40c3-c29b-dafce1d3b4f8"
      },
      "source": [
        "from keras import models\n",
        "from keras import layers\n",
        "from keras.layers import Dropout\n",
        "from keras import regularizers\n",
        "\n",
        "model = models.Sequential()\n",
        "model.add(layers.Dense(\n",
        "    16\n",
        "    , activation='relu'\n",
        "    , input_shape=(10000,)\n",
        "    ,kernel_regularizer=regularizers.l1_l2(l1=1e-5, l2=1e-4),))\n",
        "model.add(Dropout(0.5))\n",
        "model.add(layers.Dense(16, activation='relu'))\n",
        "model.add(Dropout(0.5))\n",
        "model.add(layers.Dense(1, activation='sigmoid'))\n",
        "model.summary()"
      ],
      "execution_count": null,
      "outputs": [
        {
          "output_type": "stream",
          "text": [
            "Model: \"sequential\"\n",
            "_________________________________________________________________\n",
            "Layer (type)                 Output Shape              Param #   \n",
            "=================================================================\n",
            "dense (Dense)                (None, 16)                160016    \n",
            "_________________________________________________________________\n",
            "dropout (Dropout)            (None, 16)                0         \n",
            "_________________________________________________________________\n",
            "dense_1 (Dense)              (None, 16)                272       \n",
            "_________________________________________________________________\n",
            "dropout_1 (Dropout)          (None, 16)                0         \n",
            "_________________________________________________________________\n",
            "dense_2 (Dense)              (None, 1)                 17        \n",
            "=================================================================\n",
            "Total params: 160,305\n",
            "Trainable params: 160,305\n",
            "Non-trainable params: 0\n",
            "_________________________________________________________________\n"
          ],
          "name": "stdout"
        }
      ]
    },
    {
      "cell_type": "code",
      "metadata": {
        "id": "OinnCiIuFF-E"
      },
      "source": [
        "from keras import losses\n",
        "from keras import metrics\n",
        "from keras import optimizers\n",
        "\n",
        "model.compile(optimizer=optimizers.RMSprop(lr=0.0001),\n",
        "              loss=losses.binary_crossentropy,\n",
        "              metrics=[metrics.binary_accuracy])"
      ],
      "execution_count": null,
      "outputs": []
    },
    {
      "cell_type": "code",
      "metadata": {
        "id": "CyxqmLcvFJtM"
      },
      "source": [
        "from sklearn.model_selection import train_test_split\n",
        "\n",
        "x_train = np.asarray(x_train).astype('float32')\n",
        "y_train = np.asarray(y_train).astype('float32')\n",
        "\n",
        "partial_x_train, x_val, partial_y_train, y_val = train_test_split(\n",
        "    x_train, y_train, test_size=0.2, random_state=0)"
      ],
      "execution_count": null,
      "outputs": []
    },
    {
      "cell_type": "code",
      "metadata": {
        "id": "nXc_6FZhGJSL",
        "colab": {
          "base_uri": "https://localhost:8080/"
        },
        "outputId": "fd6d9a56-07d6-41f5-e7c6-9185a27767e5"
      },
      "source": [
        "history = model.fit(partial_x_train,\n",
        "                    partial_y_train,\n",
        "                    epochs=50,\n",
        "                    batch_size=128,\n",
        "                    validation_data=(x_val, y_val))"
      ],
      "execution_count": null,
      "outputs": [
        {
          "output_type": "stream",
          "text": [
            "Epoch 1/50\n",
            "48/48 [==============================] - 2s 24ms/step - loss: 0.7144 - binary_accuracy: 0.4782 - val_loss: 0.7077 - val_binary_accuracy: 0.5397\n",
            "Epoch 2/50\n",
            "48/48 [==============================] - 1s 14ms/step - loss: 0.7065 - binary_accuracy: 0.5289 - val_loss: 0.7025 - val_binary_accuracy: 0.6257\n",
            "Epoch 3/50\n",
            "48/48 [==============================] - 1s 13ms/step - loss: 0.7016 - binary_accuracy: 0.5724 - val_loss: 0.6985 - val_binary_accuracy: 0.6316\n",
            "Epoch 4/50\n",
            "48/48 [==============================] - 1s 13ms/step - loss: 0.6978 - binary_accuracy: 0.5982 - val_loss: 0.6953 - val_binary_accuracy: 0.6303\n",
            "Epoch 5/50\n",
            "48/48 [==============================] - 1s 13ms/step - loss: 0.6947 - binary_accuracy: 0.6082 - val_loss: 0.6926 - val_binary_accuracy: 0.6428\n",
            "Epoch 6/50\n",
            "48/48 [==============================] - 1s 13ms/step - loss: 0.6922 - binary_accuracy: 0.6306 - val_loss: 0.6902 - val_binary_accuracy: 0.6513\n",
            "Epoch 7/50\n",
            "48/48 [==============================] - 1s 13ms/step - loss: 0.6897 - binary_accuracy: 0.6457 - val_loss: 0.6876 - val_binary_accuracy: 0.6724\n",
            "Epoch 8/50\n",
            "48/48 [==============================] - 1s 13ms/step - loss: 0.6866 - binary_accuracy: 0.6547 - val_loss: 0.6849 - val_binary_accuracy: 0.6848\n",
            "Epoch 9/50\n",
            "48/48 [==============================] - 1s 13ms/step - loss: 0.6836 - binary_accuracy: 0.6666 - val_loss: 0.6820 - val_binary_accuracy: 0.6980\n",
            "Epoch 10/50\n",
            "48/48 [==============================] - 1s 13ms/step - loss: 0.6812 - binary_accuracy: 0.6645 - val_loss: 0.6789 - val_binary_accuracy: 0.7098\n",
            "Epoch 11/50\n",
            "48/48 [==============================] - 1s 13ms/step - loss: 0.6769 - binary_accuracy: 0.6825 - val_loss: 0.6755 - val_binary_accuracy: 0.7216\n",
            "Epoch 12/50\n",
            "48/48 [==============================] - 1s 14ms/step - loss: 0.6747 - binary_accuracy: 0.6801 - val_loss: 0.6721 - val_binary_accuracy: 0.7301\n",
            "Epoch 13/50\n",
            "48/48 [==============================] - 1s 13ms/step - loss: 0.6697 - binary_accuracy: 0.6978 - val_loss: 0.6684 - val_binary_accuracy: 0.7367\n",
            "Epoch 14/50\n",
            "48/48 [==============================] - 1s 13ms/step - loss: 0.6663 - binary_accuracy: 0.7122 - val_loss: 0.6646 - val_binary_accuracy: 0.7452\n",
            "Epoch 15/50\n",
            "48/48 [==============================] - 1s 13ms/step - loss: 0.6633 - binary_accuracy: 0.7039 - val_loss: 0.6606 - val_binary_accuracy: 0.7511\n",
            "Epoch 16/50\n",
            "48/48 [==============================] - 1s 13ms/step - loss: 0.6594 - binary_accuracy: 0.7099 - val_loss: 0.6565 - val_binary_accuracy: 0.7610\n",
            "Epoch 17/50\n",
            "48/48 [==============================] - 1s 14ms/step - loss: 0.6529 - binary_accuracy: 0.7239 - val_loss: 0.6522 - val_binary_accuracy: 0.7643\n",
            "Epoch 18/50\n",
            "48/48 [==============================] - 1s 13ms/step - loss: 0.6492 - binary_accuracy: 0.7347 - val_loss: 0.6477 - val_binary_accuracy: 0.7689\n",
            "Epoch 19/50\n",
            "48/48 [==============================] - 1s 13ms/step - loss: 0.6456 - binary_accuracy: 0.7264 - val_loss: 0.6433 - val_binary_accuracy: 0.7768\n",
            "Epoch 20/50\n",
            "48/48 [==============================] - 1s 13ms/step - loss: 0.6403 - binary_accuracy: 0.7373 - val_loss: 0.6385 - val_binary_accuracy: 0.7820\n",
            "Epoch 21/50\n",
            "48/48 [==============================] - 1s 13ms/step - loss: 0.6373 - binary_accuracy: 0.7388 - val_loss: 0.6337 - val_binary_accuracy: 0.7814\n",
            "Epoch 22/50\n",
            "48/48 [==============================] - 1s 14ms/step - loss: 0.6290 - binary_accuracy: 0.7497 - val_loss: 0.6286 - val_binary_accuracy: 0.7820\n",
            "Epoch 23/50\n",
            "48/48 [==============================] - 1s 14ms/step - loss: 0.6250 - binary_accuracy: 0.7560 - val_loss: 0.6233 - val_binary_accuracy: 0.7859\n",
            "Epoch 24/50\n",
            "48/48 [==============================] - 1s 15ms/step - loss: 0.6226 - binary_accuracy: 0.7543 - val_loss: 0.6180 - val_binary_accuracy: 0.7905\n",
            "Epoch 25/50\n",
            "48/48 [==============================] - 1s 14ms/step - loss: 0.6131 - binary_accuracy: 0.7589 - val_loss: 0.6124 - val_binary_accuracy: 0.7932\n",
            "Epoch 26/50\n",
            "48/48 [==============================] - 1s 13ms/step - loss: 0.6110 - binary_accuracy: 0.7635 - val_loss: 0.6067 - val_binary_accuracy: 0.7925\n",
            "Epoch 27/50\n",
            "48/48 [==============================] - 1s 14ms/step - loss: 0.6054 - binary_accuracy: 0.7644 - val_loss: 0.6009 - val_binary_accuracy: 0.7938\n",
            "Epoch 28/50\n",
            "48/48 [==============================] - 1s 14ms/step - loss: 0.6013 - binary_accuracy: 0.7623 - val_loss: 0.5950 - val_binary_accuracy: 0.7938\n",
            "Epoch 29/50\n",
            "48/48 [==============================] - 1s 14ms/step - loss: 0.5950 - binary_accuracy: 0.7726 - val_loss: 0.5890 - val_binary_accuracy: 0.7938\n",
            "Epoch 30/50\n",
            "48/48 [==============================] - 1s 14ms/step - loss: 0.5893 - binary_accuracy: 0.7718 - val_loss: 0.5829 - val_binary_accuracy: 0.7951\n",
            "Epoch 31/50\n",
            "48/48 [==============================] - 1s 14ms/step - loss: 0.5810 - binary_accuracy: 0.7801 - val_loss: 0.5769 - val_binary_accuracy: 0.7945\n",
            "Epoch 32/50\n",
            "48/48 [==============================] - 1s 14ms/step - loss: 0.5733 - binary_accuracy: 0.7746 - val_loss: 0.5707 - val_binary_accuracy: 0.7945\n",
            "Epoch 33/50\n",
            "48/48 [==============================] - 1s 15ms/step - loss: 0.5703 - binary_accuracy: 0.7741 - val_loss: 0.5644 - val_binary_accuracy: 0.7958\n",
            "Epoch 34/50\n",
            "48/48 [==============================] - 1s 14ms/step - loss: 0.5676 - binary_accuracy: 0.7799 - val_loss: 0.5583 - val_binary_accuracy: 0.7951\n",
            "Epoch 35/50\n",
            "48/48 [==============================] - 1s 14ms/step - loss: 0.5550 - binary_accuracy: 0.7846 - val_loss: 0.5523 - val_binary_accuracy: 0.7984\n",
            "Epoch 36/50\n",
            "48/48 [==============================] - 1s 13ms/step - loss: 0.5482 - binary_accuracy: 0.7859 - val_loss: 0.5463 - val_binary_accuracy: 0.7991\n",
            "Epoch 37/50\n",
            "48/48 [==============================] - 1s 13ms/step - loss: 0.5530 - binary_accuracy: 0.7819 - val_loss: 0.5405 - val_binary_accuracy: 0.7978\n",
            "Epoch 38/50\n",
            "48/48 [==============================] - 1s 13ms/step - loss: 0.5412 - binary_accuracy: 0.7881 - val_loss: 0.5346 - val_binary_accuracy: 0.7971\n",
            "Epoch 39/50\n",
            "48/48 [==============================] - 1s 14ms/step - loss: 0.5293 - binary_accuracy: 0.7974 - val_loss: 0.5290 - val_binary_accuracy: 0.7984\n",
            "Epoch 40/50\n",
            "48/48 [==============================] - 1s 14ms/step - loss: 0.5323 - binary_accuracy: 0.7975 - val_loss: 0.5235 - val_binary_accuracy: 0.8011\n",
            "Epoch 41/50\n",
            "48/48 [==============================] - 1s 14ms/step - loss: 0.5260 - binary_accuracy: 0.7988 - val_loss: 0.5181 - val_binary_accuracy: 0.8017\n",
            "Epoch 42/50\n",
            "48/48 [==============================] - 1s 14ms/step - loss: 0.5125 - binary_accuracy: 0.8023 - val_loss: 0.5129 - val_binary_accuracy: 0.8030\n",
            "Epoch 43/50\n",
            "48/48 [==============================] - 1s 13ms/step - loss: 0.5060 - binary_accuracy: 0.8074 - val_loss: 0.5081 - val_binary_accuracy: 0.8011\n",
            "Epoch 44/50\n",
            "48/48 [==============================] - 1s 14ms/step - loss: 0.5120 - binary_accuracy: 0.8003 - val_loss: 0.5032 - val_binary_accuracy: 0.8024\n",
            "Epoch 45/50\n",
            "48/48 [==============================] - 1s 14ms/step - loss: 0.5018 - binary_accuracy: 0.8045 - val_loss: 0.4987 - val_binary_accuracy: 0.8011\n",
            "Epoch 46/50\n",
            "48/48 [==============================] - 1s 14ms/step - loss: 0.4935 - binary_accuracy: 0.8098 - val_loss: 0.4942 - val_binary_accuracy: 0.8024\n",
            "Epoch 47/50\n",
            "48/48 [==============================] - 1s 15ms/step - loss: 0.4924 - binary_accuracy: 0.8052 - val_loss: 0.4901 - val_binary_accuracy: 0.8011\n",
            "Epoch 48/50\n",
            "48/48 [==============================] - 1s 14ms/step - loss: 0.4831 - binary_accuracy: 0.8092 - val_loss: 0.4861 - val_binary_accuracy: 0.8011\n",
            "Epoch 49/50\n",
            "48/48 [==============================] - 1s 14ms/step - loss: 0.4801 - binary_accuracy: 0.8114 - val_loss: 0.4825 - val_binary_accuracy: 0.8011\n",
            "Epoch 50/50\n",
            "48/48 [==============================] - 1s 14ms/step - loss: 0.4881 - binary_accuracy: 0.8042 - val_loss: 0.4789 - val_binary_accuracy: 0.8011\n"
          ],
          "name": "stdout"
        }
      ]
    },
    {
      "cell_type": "code",
      "metadata": {
        "colab": {
          "base_uri": "https://localhost:8080/",
          "height": 295
        },
        "id": "5LFbUZHpGM67",
        "outputId": "91e78d53-96af-4a0c-ce96-0bbd5af9be55"
      },
      "source": [
        "history_dict = history.history\n",
        "history_dict.keys()\n",
        "\n",
        "\n",
        "acc = history.history['binary_accuracy']\n",
        "val_acc = history.history['val_binary_accuracy']\n",
        "loss = history.history['loss']\n",
        "val_loss = history.history['val_loss']\n",
        "\n",
        "epochs = range(1, len(acc) + 1)\n",
        "\n",
        "# \"bo\" is for \"blue dot\"\n",
        "plt.plot(epochs, loss, 'bo', label='Training loss')\n",
        "# b is for \"solid blue line\"\n",
        "plt.plot(epochs, val_loss, 'b', label='Validation loss')\n",
        "plt.title('Training and validation loss')\n",
        "plt.xlabel('Epochs')\n",
        "plt.ylabel('Loss')\n",
        "plt.legend()\n",
        "\n",
        "plt.show()"
      ],
      "execution_count": null,
      "outputs": [
        {
          "output_type": "display_data",
          "data": {
            "image/png": "[encoded data removed]",
            "text/plain": [
              "<Figure size 432x288 with 1 Axes>"
            ]
          },
          "metadata": {
            "tags": [],
            "needs_background": "light"
          }
        }
      ]
    },
    {
      "cell_type": "code",
      "metadata": {
        "colab": {
          "base_uri": "https://localhost:8080/",
          "height": 295
        },
        "id": "UF_EIKUWIdPG",
        "outputId": "8a09979c-5023-4437-d5de-986f6c576402"
      },
      "source": [
        "plt.clf()   # clear figure\n",
        "acc_values = history_dict['binary_accuracy']\n",
        "val_acc_values = history_dict['val_binary_accuracy']\n",
        "\n",
        "plt.plot(epochs, acc, 'bo', label='Training acc')\n",
        "plt.plot(epochs, val_acc, 'b', label='Validation acc')\n",
        "plt.title('Training and validation accuracy')\n",
        "plt.xlabel('Epochs')\n",
        "plt.ylabel('Loss')\n",
        "plt.legend()\n",
        "\n",
        "plt.show()"
      ],
      "execution_count": null,
      "outputs": [
        {
          "output_type": "display_data",
          "data": {
            "image/png": "[encoded data removed]",
            "text/plain": [
              "<Figure size 432x288 with 1 Axes>"
            ]
          },
          "metadata": {
            "tags": [],
            "needs_background": "light"
          }
        }
      ]
    },
    {
      "cell_type": "markdown",
      "metadata": {
        "id": "UgaMJWtUMPcM"
      },
      "source": [
        "\n",
        "\n",
        "> # Counts Features\n",
        "\n"
      ]
    },
    {
      "cell_type": "code",
      "metadata": {
        "id": "0LXNqDgEMPcV"
      },
      "source": [
        "vocab_sz = 10000 \n",
        "tok = Tokenizer(num_words=vocab_sz, oov_token='UNK')\n",
        "#tok = Tokenizer(oov_token='UNK')\n",
        "tok.fit_on_texts(trn_corpus + tst_corpus)\n",
        "#vocab_sz = len(tok.word_index) # If all possible vocab, else, it's the predefine vocab_sz. Remember we cannot always use the len(tok.word_index), since it's always the max.\n",
        "\n",
        "# Extract binary BoW features\n",
        "x_train = tok.texts_to_matrix(trn_corpus, mode='count')\n",
        "x_test = tok.texts_to_matrix(tst_corpus, mode='count')\n",
        "\n",
        "y_train=train_data.sentiment"
      ],
      "execution_count": null,
      "outputs": []
    },
    {
      "cell_type": "code",
      "metadata": {
        "colab": {
          "base_uri": "https://localhost:8080/"
        },
        "id": "D_UQcT16MPcV",
        "outputId": "e0518f46-85aa-4b85-9d7f-c7145ce72f71"
      },
      "source": [
        "from keras import models\n",
        "from keras import layers\n",
        "from keras.layers import Dropout\n",
        "from keras import regularizers\n",
        "\n",
        "model = models.Sequential()\n",
        "model.add(layers.Dense(\n",
        "    16\n",
        "    , activation='relu'\n",
        "    , input_shape=(10000,)\n",
        "    ,kernel_regularizer=regularizers.l1_l2(l1=1e-5, l2=1e-4),))\n",
        "model.add(Dropout(0.5))\n",
        "model.add(layers.Dense(16, activation='relu'))\n",
        "model.add(Dropout(0.5))\n",
        "model.add(layers.Dense(1, activation='sigmoid'))\n",
        "model.summary()"
      ],
      "execution_count": null,
      "outputs": [
        {
          "output_type": "stream",
          "text": [
            "Model: \"sequential_1\"\n",
            "_________________________________________________________________\n",
            "Layer (type)                 Output Shape              Param #   \n",
            "=================================================================\n",
            "dense_3 (Dense)              (None, 16)                160016    \n",
            "_________________________________________________________________\n",
            "dropout_2 (Dropout)          (None, 16)                0         \n",
            "_________________________________________________________________\n",
            "dense_4 (Dense)              (None, 16)                272       \n",
            "_________________________________________________________________\n",
            "dropout_3 (Dropout)          (None, 16)                0         \n",
            "_________________________________________________________________\n",
            "dense_5 (Dense)              (None, 1)                 17        \n",
            "=================================================================\n",
            "Total params: 160,305\n",
            "Trainable params: 160,305\n",
            "Non-trainable params: 0\n",
            "_________________________________________________________________\n"
          ],
          "name": "stdout"
        }
      ]
    },
    {
      "cell_type": "code",
      "metadata": {
        "id": "C7_6ckLcMPcW"
      },
      "source": [
        "from keras import losses\n",
        "from keras import metrics\n",
        "from keras import optimizers\n",
        "\n",
        "model.compile(optimizer=optimizers.RMSprop(lr=0.0001),\n",
        "              loss=losses.binary_crossentropy,\n",
        "              metrics=[metrics.binary_accuracy])"
      ],
      "execution_count": null,
      "outputs": []
    },
    {
      "cell_type": "code",
      "metadata": {
        "id": "b7yUf1elMPcW"
      },
      "source": [
        "from sklearn.model_selection import train_test_split\n",
        "\n",
        "x_train = np.asarray(x_train).astype('float32')\n",
        "y_train = np.asarray(y_train).astype('float32')\n",
        "\n",
        "partial_x_train, x_val, partial_y_train, y_val = train_test_split(\n",
        "    x_train, y_train, test_size=0.2, random_state=0)"
      ],
      "execution_count": null,
      "outputs": []
    },
    {
      "cell_type": "code",
      "metadata": {
        "colab": {
          "base_uri": "https://localhost:8080/"
        },
        "id": "Q-65uW4kMPcW",
        "outputId": "de33c280-88df-492a-9e62-787f11b7fdcd"
      },
      "source": [
        "history = model.fit(partial_x_train,\n",
        "                    partial_y_train,\n",
        "                    epochs=50,\n",
        "                    batch_size=128,\n",
        "                    validation_data=(x_val, y_val))"
      ],
      "execution_count": null,
      "outputs": [
        {
          "output_type": "stream",
          "text": [
            "Epoch 1/50\n",
            "48/48 [==============================] - 1s 16ms/step - loss: 0.7129 - binary_accuracy: 0.5083 - val_loss: 0.7064 - val_binary_accuracy: 0.5758\n",
            "Epoch 2/50\n",
            "48/48 [==============================] - 1s 14ms/step - loss: 0.7058 - binary_accuracy: 0.5465 - val_loss: 0.7007 - val_binary_accuracy: 0.5942\n",
            "Epoch 3/50\n",
            "48/48 [==============================] - 1s 13ms/step - loss: 0.6998 - binary_accuracy: 0.5637 - val_loss: 0.6960 - val_binary_accuracy: 0.5870\n",
            "Epoch 4/50\n",
            "48/48 [==============================] - 1s 12ms/step - loss: 0.6962 - binary_accuracy: 0.5771 - val_loss: 0.6921 - val_binary_accuracy: 0.5883\n",
            "Epoch 5/50\n",
            "48/48 [==============================] - 1s 13ms/step - loss: 0.6931 - binary_accuracy: 0.5737 - val_loss: 0.6889 - val_binary_accuracy: 0.5857\n",
            "Epoch 6/50\n",
            "48/48 [==============================] - 1s 13ms/step - loss: 0.6897 - binary_accuracy: 0.5858 - val_loss: 0.6860 - val_binary_accuracy: 0.5844\n",
            "Epoch 7/50\n",
            "48/48 [==============================] - 1s 13ms/step - loss: 0.6868 - binary_accuracy: 0.5958 - val_loss: 0.6832 - val_binary_accuracy: 0.5844\n",
            "Epoch 8/50\n",
            "48/48 [==============================] - 1s 13ms/step - loss: 0.6859 - binary_accuracy: 0.5871 - val_loss: 0.6802 - val_binary_accuracy: 0.5883\n",
            "Epoch 9/50\n",
            "48/48 [==============================] - 1s 13ms/step - loss: 0.6825 - binary_accuracy: 0.5901 - val_loss: 0.6770 - val_binary_accuracy: 0.5890\n",
            "Epoch 10/50\n",
            "48/48 [==============================] - 1s 13ms/step - loss: 0.6780 - binary_accuracy: 0.6124 - val_loss: 0.6738 - val_binary_accuracy: 0.5962\n",
            "Epoch 11/50\n",
            "48/48 [==============================] - 1s 13ms/step - loss: 0.6748 - binary_accuracy: 0.6086 - val_loss: 0.6702 - val_binary_accuracy: 0.6001\n",
            "Epoch 12/50\n",
            "48/48 [==============================] - 1s 13ms/step - loss: 0.6718 - binary_accuracy: 0.6118 - val_loss: 0.6665 - val_binary_accuracy: 0.6087\n",
            "Epoch 13/50\n",
            "48/48 [==============================] - 1s 13ms/step - loss: 0.6661 - binary_accuracy: 0.6193 - val_loss: 0.6625 - val_binary_accuracy: 0.6133\n",
            "Epoch 14/50\n",
            "48/48 [==============================] - 1s 13ms/step - loss: 0.6657 - binary_accuracy: 0.6236 - val_loss: 0.6586 - val_binary_accuracy: 0.6303\n",
            "Epoch 15/50\n",
            "48/48 [==============================] - 1s 13ms/step - loss: 0.6638 - binary_accuracy: 0.6243 - val_loss: 0.6547 - val_binary_accuracy: 0.6389\n",
            "Epoch 16/50\n",
            "48/48 [==============================] - 1s 14ms/step - loss: 0.6591 - binary_accuracy: 0.6480 - val_loss: 0.6504 - val_binary_accuracy: 0.6507\n",
            "Epoch 17/50\n",
            "48/48 [==============================] - 1s 14ms/step - loss: 0.6504 - binary_accuracy: 0.6513 - val_loss: 0.6461 - val_binary_accuracy: 0.6586\n",
            "Epoch 18/50\n",
            "48/48 [==============================] - 1s 13ms/step - loss: 0.6467 - binary_accuracy: 0.6604 - val_loss: 0.6416 - val_binary_accuracy: 0.6724\n",
            "Epoch 19/50\n",
            "48/48 [==============================] - 1s 13ms/step - loss: 0.6411 - binary_accuracy: 0.6660 - val_loss: 0.6368 - val_binary_accuracy: 0.6855\n",
            "Epoch 20/50\n",
            "48/48 [==============================] - 1s 13ms/step - loss: 0.6373 - binary_accuracy: 0.6754 - val_loss: 0.6323 - val_binary_accuracy: 0.6947\n",
            "Epoch 21/50\n",
            "48/48 [==============================] - 1s 13ms/step - loss: 0.6383 - binary_accuracy: 0.6691 - val_loss: 0.6275 - val_binary_accuracy: 0.7039\n",
            "Epoch 22/50\n",
            "48/48 [==============================] - 1s 13ms/step - loss: 0.6319 - binary_accuracy: 0.6747 - val_loss: 0.6226 - val_binary_accuracy: 0.7124\n",
            "Epoch 23/50\n",
            "48/48 [==============================] - 1s 13ms/step - loss: 0.6262 - binary_accuracy: 0.6896 - val_loss: 0.6176 - val_binary_accuracy: 0.7236\n",
            "Epoch 24/50\n",
            "48/48 [==============================] - 1s 13ms/step - loss: 0.6224 - binary_accuracy: 0.6851 - val_loss: 0.6126 - val_binary_accuracy: 0.7295\n",
            "Epoch 25/50\n",
            "48/48 [==============================] - 1s 13ms/step - loss: 0.6104 - binary_accuracy: 0.7111 - val_loss: 0.6074 - val_binary_accuracy: 0.7341\n",
            "Epoch 26/50\n",
            "48/48 [==============================] - 1s 14ms/step - loss: 0.6095 - binary_accuracy: 0.7109 - val_loss: 0.6020 - val_binary_accuracy: 0.7393\n",
            "Epoch 27/50\n",
            "48/48 [==============================] - 1s 14ms/step - loss: 0.6054 - binary_accuracy: 0.7130 - val_loss: 0.5970 - val_binary_accuracy: 0.7433\n",
            "Epoch 28/50\n",
            "48/48 [==============================] - 1s 13ms/step - loss: 0.6030 - binary_accuracy: 0.7067 - val_loss: 0.5920 - val_binary_accuracy: 0.7505\n",
            "Epoch 29/50\n",
            "48/48 [==============================] - 1s 13ms/step - loss: 0.5988 - binary_accuracy: 0.7206 - val_loss: 0.5869 - val_binary_accuracy: 0.7571\n",
            "Epoch 30/50\n",
            "48/48 [==============================] - 1s 13ms/step - loss: 0.5974 - binary_accuracy: 0.7058 - val_loss: 0.5818 - val_binary_accuracy: 0.7630\n",
            "Epoch 31/50\n",
            "48/48 [==============================] - 1s 13ms/step - loss: 0.5919 - binary_accuracy: 0.7122 - val_loss: 0.5766 - val_binary_accuracy: 0.7682\n",
            "Epoch 32/50\n",
            "48/48 [==============================] - 1s 12ms/step - loss: 0.5868 - binary_accuracy: 0.7250 - val_loss: 0.5716 - val_binary_accuracy: 0.7735\n",
            "Epoch 33/50\n",
            "48/48 [==============================] - 1s 13ms/step - loss: 0.5828 - binary_accuracy: 0.7322 - val_loss: 0.5667 - val_binary_accuracy: 0.7741\n",
            "Epoch 34/50\n",
            "48/48 [==============================] - 1s 13ms/step - loss: 0.5757 - binary_accuracy: 0.7295 - val_loss: 0.5616 - val_binary_accuracy: 0.7761\n",
            "Epoch 35/50\n",
            "48/48 [==============================] - 1s 13ms/step - loss: 0.5723 - binary_accuracy: 0.7317 - val_loss: 0.5566 - val_binary_accuracy: 0.7794\n",
            "Epoch 36/50\n",
            "48/48 [==============================] - 1s 13ms/step - loss: 0.5624 - binary_accuracy: 0.7431 - val_loss: 0.5516 - val_binary_accuracy: 0.7807\n",
            "Epoch 37/50\n",
            "48/48 [==============================] - 1s 13ms/step - loss: 0.5655 - binary_accuracy: 0.7424 - val_loss: 0.5470 - val_binary_accuracy: 0.7859\n",
            "Epoch 38/50\n",
            "48/48 [==============================] - 1s 13ms/step - loss: 0.5572 - binary_accuracy: 0.7580 - val_loss: 0.5421 - val_binary_accuracy: 0.7886\n",
            "Epoch 39/50\n",
            "48/48 [==============================] - 1s 13ms/step - loss: 0.5522 - binary_accuracy: 0.7549 - val_loss: 0.5375 - val_binary_accuracy: 0.7905\n",
            "Epoch 40/50\n",
            "48/48 [==============================] - 1s 13ms/step - loss: 0.5451 - binary_accuracy: 0.7611 - val_loss: 0.5331 - val_binary_accuracy: 0.7932\n",
            "Epoch 41/50\n",
            "48/48 [==============================] - 1s 13ms/step - loss: 0.5495 - binary_accuracy: 0.7553 - val_loss: 0.5287 - val_binary_accuracy: 0.7965\n",
            "Epoch 42/50\n",
            "48/48 [==============================] - 1s 13ms/step - loss: 0.5405 - binary_accuracy: 0.7617 - val_loss: 0.5247 - val_binary_accuracy: 0.7958\n",
            "Epoch 43/50\n",
            "48/48 [==============================] - 1s 14ms/step - loss: 0.5280 - binary_accuracy: 0.7741 - val_loss: 0.5203 - val_binary_accuracy: 0.7978\n",
            "Epoch 44/50\n",
            "48/48 [==============================] - 1s 14ms/step - loss: 0.5353 - binary_accuracy: 0.7700 - val_loss: 0.5160 - val_binary_accuracy: 0.7965\n",
            "Epoch 45/50\n",
            "48/48 [==============================] - 1s 13ms/step - loss: 0.5309 - binary_accuracy: 0.7685 - val_loss: 0.5121 - val_binary_accuracy: 0.7971\n",
            "Epoch 46/50\n",
            "48/48 [==============================] - 1s 13ms/step - loss: 0.5156 - binary_accuracy: 0.7802 - val_loss: 0.5081 - val_binary_accuracy: 0.7991\n",
            "Epoch 47/50\n",
            "48/48 [==============================] - 1s 13ms/step - loss: 0.5165 - binary_accuracy: 0.7720 - val_loss: 0.5045 - val_binary_accuracy: 0.7984\n",
            "Epoch 48/50\n",
            "48/48 [==============================] - 1s 13ms/step - loss: 0.5199 - binary_accuracy: 0.7830 - val_loss: 0.5010 - val_binary_accuracy: 0.7971\n",
            "Epoch 49/50\n",
            "48/48 [==============================] - 1s 13ms/step - loss: 0.5018 - binary_accuracy: 0.7963 - val_loss: 0.4974 - val_binary_accuracy: 0.7997\n",
            "Epoch 50/50\n",
            "48/48 [==============================] - 1s 13ms/step - loss: 0.5029 - binary_accuracy: 0.7865 - val_loss: 0.4940 - val_binary_accuracy: 0.7991\n"
          ],
          "name": "stdout"
        }
      ]
    },
    {
      "cell_type": "code",
      "metadata": {
        "colab": {
          "base_uri": "https://localhost:8080/",
          "height": 295
        },
        "id": "Wc-tEK-pMPcW",
        "outputId": "2a85c8e5-5303-41da-95ae-3656c58e9889"
      },
      "source": [
        "history_dict = history.history\n",
        "history_dict.keys()\n",
        "\n",
        "\n",
        "acc = history.history['binary_accuracy']\n",
        "val_acc = history.history['val_binary_accuracy']\n",
        "loss = history.history['loss']\n",
        "val_loss = history.history['val_loss']\n",
        "\n",
        "epochs = range(1, len(acc) + 1)\n",
        "\n",
        "# \"bo\" is for \"blue dot\"\n",
        "plt.plot(epochs, loss, 'bo', label='Training loss')\n",
        "# b is for \"solid blue line\"\n",
        "plt.plot(epochs, val_loss, 'b', label='Validation loss')\n",
        "plt.title('Training and validation loss')\n",
        "plt.xlabel('Epochs')\n",
        "plt.ylabel('Loss')\n",
        "plt.legend()\n",
        "\n",
        "plt.show()"
      ],
      "execution_count": null,
      "outputs": [
        {
          "output_type": "display_data",
          "data": {
            "image/png": "[encoded data removed]",
            "text/plain": [
              "<Figure size 432x288 with 1 Axes>"
            ]
          },
          "metadata": {
            "tags": [],
            "needs_background": "light"
          }
        }
      ]
    },
    {
      "cell_type": "code",
      "metadata": {
        "colab": {
          "base_uri": "https://localhost:8080/",
          "height": 295
        },
        "id": "BS_x1JYdMPcX",
        "outputId": "ccbb097d-0395-4598-dae4-00175cbd0ba4"
      },
      "source": [
        "plt.clf()   # clear figure\n",
        "acc_values = history_dict['binary_accuracy']\n",
        "val_acc_values = history_dict['val_binary_accuracy']\n",
        "\n",
        "plt.plot(epochs, acc, 'bo', label='Training acc')\n",
        "plt.plot(epochs, val_acc, 'b', label='Validation acc')\n",
        "plt.title('Training and validation accuracy')\n",
        "plt.xlabel('Epochs')\n",
        "plt.ylabel('Loss')\n",
        "plt.legend()\n",
        "\n",
        "plt.show()"
      ],
      "execution_count": null,
      "outputs": [
        {
          "output_type": "display_data",
          "data": {
            "image/png": "[encoded data removed]",
            "text/plain": [
              "<Figure size 432x288 with 1 Axes>"
            ]
          },
          "metadata": {
            "tags": [],
            "needs_background": "light"
          }
        }
      ]
    },
    {
      "cell_type": "markdown",
      "metadata": {
        "id": "vgYJN-m1MPcX"
      },
      "source": [
        "\n",
        "\n",
        "> # Freq Features\n",
        "\n"
      ]
    },
    {
      "cell_type": "code",
      "metadata": {
        "id": "jqPXfLrUNMgj"
      },
      "source": [
        "vocab_sz = 10000 \n",
        "tok = Tokenizer(num_words=vocab_sz, oov_token='UNK')\n",
        "#tok = Tokenizer(oov_token='UNK')\n",
        "tok.fit_on_texts(trn_corpus + tst_corpus)\n",
        "#vocab_sz = len(tok.word_index) # If all possible vocab, else, it's the predefine vocab_sz. Remember we cannot always use the len(tok.word_index), since it's always the max.\n",
        "\n",
        "# Extract binary BoW features\n",
        "x_train = tok.texts_to_matrix(trn_corpus, mode='freq')\n",
        "x_test = tok.texts_to_matrix(tst_corpus, mode='freq')\n",
        "\n",
        "y_train=train_data.sentiment"
      ],
      "execution_count": null,
      "outputs": []
    },
    {
      "cell_type": "code",
      "metadata": {
        "colab": {
          "base_uri": "https://localhost:8080/"
        },
        "id": "ZUK_xYxaNMgj",
        "outputId": "0ba51113-454f-4659-e961-955600d24675"
      },
      "source": [
        "from keras import models\n",
        "from keras import layers\n",
        "from keras.layers import Dropout\n",
        "from keras import regularizers\n",
        "\n",
        "model = models.Sequential()\n",
        "model.add(layers.Dense(\n",
        "    16\n",
        "    , activation='relu'\n",
        "    , input_shape=(10000,)\n",
        "    ,kernel_regularizer=regularizers.l1_l2(l1=1e-5, l2=1e-4),))\n",
        "model.add(Dropout(0.5))\n",
        "model.add(layers.Dense(16, activation='relu'))\n",
        "model.add(Dropout(0.5))\n",
        "model.add(layers.Dense(1, activation='sigmoid'))\n",
        "model.summary()"
      ],
      "execution_count": null,
      "outputs": [
        {
          "output_type": "stream",
          "text": [
            "Model: \"sequential_2\"\n",
            "_________________________________________________________________\n",
            "Layer (type)                 Output Shape              Param #   \n",
            "=================================================================\n",
            "dense_6 (Dense)              (None, 16)                160016    \n",
            "_________________________________________________________________\n",
            "dropout_4 (Dropout)          (None, 16)                0         \n",
            "_________________________________________________________________\n",
            "dense_7 (Dense)              (None, 16)                272       \n",
            "_________________________________________________________________\n",
            "dropout_5 (Dropout)          (None, 16)                0         \n",
            "_________________________________________________________________\n",
            "dense_8 (Dense)              (None, 1)                 17        \n",
            "=================================================================\n",
            "Total params: 160,305\n",
            "Trainable params: 160,305\n",
            "Non-trainable params: 0\n",
            "_________________________________________________________________\n"
          ],
          "name": "stdout"
        }
      ]
    },
    {
      "cell_type": "code",
      "metadata": {
        "id": "4lX9xTbgNMgk"
      },
      "source": [
        "from keras import losses\n",
        "from keras import metrics\n",
        "from keras import optimizers\n",
        "\n",
        "model.compile(optimizer=optimizers.RMSprop(lr=0.01),\n",
        "              loss=losses.binary_crossentropy,\n",
        "              metrics=[metrics.binary_accuracy])"
      ],
      "execution_count": null,
      "outputs": []
    },
    {
      "cell_type": "code",
      "metadata": {
        "id": "RZcx34A6NMgk"
      },
      "source": [
        "from sklearn.model_selection import train_test_split\n",
        "\n",
        "x_train = np.asarray(x_train).astype('float32')\n",
        "y_train = np.asarray(y_train).astype('float32')\n",
        "\n",
        "partial_x_train, x_val, partial_y_train, y_val = train_test_split(\n",
        "    x_train, y_train, test_size=0.2, random_state=0)"
      ],
      "execution_count": null,
      "outputs": []
    },
    {
      "cell_type": "code",
      "metadata": {
        "colab": {
          "base_uri": "https://localhost:8080/"
        },
        "id": "yqlZ7pZWNMgk",
        "outputId": "400aa133-d355-4e34-f76a-c6b235ef5b26"
      },
      "source": [
        "history = model.fit(partial_x_train,\n",
        "                    partial_y_train,\n",
        "                    epochs=50,\n",
        "                    batch_size=128,\n",
        "                    validation_data=(x_val, y_val))"
      ],
      "execution_count": null,
      "outputs": [
        {
          "output_type": "stream",
          "text": [
            "Epoch 1/50\n",
            "48/48 [==============================] - 1s 16ms/step - loss: 0.6960 - binary_accuracy: 0.5473 - val_loss: 0.6302 - val_binary_accuracy: 0.5817\n",
            "Epoch 2/50\n",
            "48/48 [==============================] - 1s 12ms/step - loss: 0.6264 - binary_accuracy: 0.6930 - val_loss: 0.5701 - val_binary_accuracy: 0.7676\n",
            "Epoch 3/50\n",
            "48/48 [==============================] - 1s 12ms/step - loss: 0.5743 - binary_accuracy: 0.7850 - val_loss: 0.5557 - val_binary_accuracy: 0.7741\n",
            "Epoch 4/50\n",
            "48/48 [==============================] - 1s 13ms/step - loss: 0.5423 - binary_accuracy: 0.7927 - val_loss: 0.5535 - val_binary_accuracy: 0.7669\n",
            "Epoch 5/50\n",
            "48/48 [==============================] - 1s 12ms/step - loss: 0.5387 - binary_accuracy: 0.7827 - val_loss: 0.5599 - val_binary_accuracy: 0.7807\n",
            "Epoch 6/50\n",
            "48/48 [==============================] - 1s 14ms/step - loss: 0.5204 - binary_accuracy: 0.8026 - val_loss: 0.5746 - val_binary_accuracy: 0.7708\n",
            "Epoch 7/50\n",
            "48/48 [==============================] - 1s 13ms/step - loss: 0.5312 - binary_accuracy: 0.7941 - val_loss: 0.5651 - val_binary_accuracy: 0.7669\n",
            "Epoch 8/50\n",
            "48/48 [==============================] - 1s 13ms/step - loss: 0.5171 - binary_accuracy: 0.8047 - val_loss: 0.5817 - val_binary_accuracy: 0.7663\n",
            "Epoch 9/50\n",
            "48/48 [==============================] - 1s 13ms/step - loss: 0.5346 - binary_accuracy: 0.7897 - val_loss: 0.5913 - val_binary_accuracy: 0.7308\n",
            "Epoch 10/50\n",
            "48/48 [==============================] - 1s 13ms/step - loss: 0.5438 - binary_accuracy: 0.7895 - val_loss: 0.5855 - val_binary_accuracy: 0.7492\n",
            "Epoch 11/50\n",
            "48/48 [==============================] - 1s 12ms/step - loss: 0.5170 - binary_accuracy: 0.8021 - val_loss: 0.5999 - val_binary_accuracy: 0.7557\n",
            "Epoch 12/50\n",
            "48/48 [==============================] - 1s 12ms/step - loss: 0.5408 - binary_accuracy: 0.7954 - val_loss: 0.6003 - val_binary_accuracy: 0.7603\n",
            "Epoch 13/50\n",
            "48/48 [==============================] - 1s 12ms/step - loss: 0.5305 - binary_accuracy: 0.7886 - val_loss: 0.6062 - val_binary_accuracy: 0.7557\n",
            "Epoch 14/50\n",
            "48/48 [==============================] - 1s 12ms/step - loss: 0.5185 - binary_accuracy: 0.8018 - val_loss: 0.6113 - val_binary_accuracy: 0.7656\n",
            "Epoch 15/50\n",
            "48/48 [==============================] - 1s 12ms/step - loss: 0.5216 - binary_accuracy: 0.8022 - val_loss: 0.6170 - val_binary_accuracy: 0.7577\n",
            "Epoch 16/50\n",
            "48/48 [==============================] - 1s 12ms/step - loss: 0.5366 - binary_accuracy: 0.7977 - val_loss: 0.6333 - val_binary_accuracy: 0.7630\n",
            "Epoch 17/50\n",
            "48/48 [==============================] - 1s 13ms/step - loss: 0.5300 - binary_accuracy: 0.7962 - val_loss: 0.6204 - val_binary_accuracy: 0.7275\n",
            "Epoch 18/50\n",
            "48/48 [==============================] - 1s 12ms/step - loss: 0.5363 - binary_accuracy: 0.7868 - val_loss: 0.6162 - val_binary_accuracy: 0.7459\n",
            "Epoch 19/50\n",
            "48/48 [==============================] - 1s 11ms/step - loss: 0.5278 - binary_accuracy: 0.8019 - val_loss: 0.6259 - val_binary_accuracy: 0.7420\n",
            "Epoch 20/50\n",
            "48/48 [==============================] - 1s 12ms/step - loss: 0.5481 - binary_accuracy: 0.7886 - val_loss: 0.6269 - val_binary_accuracy: 0.7571\n",
            "Epoch 21/50\n",
            "48/48 [==============================] - 1s 12ms/step - loss: 0.5429 - binary_accuracy: 0.7888 - val_loss: 0.6315 - val_binary_accuracy: 0.7262\n",
            "Epoch 22/50\n",
            "48/48 [==============================] - 1s 12ms/step - loss: 0.5514 - binary_accuracy: 0.7837 - val_loss: 0.6304 - val_binary_accuracy: 0.7209\n",
            "Epoch 23/50\n",
            "48/48 [==============================] - 1s 12ms/step - loss: 0.5380 - binary_accuracy: 0.7963 - val_loss: 0.6302 - val_binary_accuracy: 0.7341\n",
            "Epoch 24/50\n",
            "48/48 [==============================] - 1s 13ms/step - loss: 0.5591 - binary_accuracy: 0.7808 - val_loss: 0.6534 - val_binary_accuracy: 0.7479\n",
            "Epoch 25/50\n",
            "48/48 [==============================] - 1s 12ms/step - loss: 0.5438 - binary_accuracy: 0.7947 - val_loss: 0.6377 - val_binary_accuracy: 0.7282\n",
            "Epoch 26/50\n",
            "48/48 [==============================] - 1s 13ms/step - loss: 0.5547 - binary_accuracy: 0.7769 - val_loss: 0.6388 - val_binary_accuracy: 0.7295\n",
            "Epoch 27/50\n",
            "48/48 [==============================] - 1s 13ms/step - loss: 0.5467 - binary_accuracy: 0.7915 - val_loss: 0.6431 - val_binary_accuracy: 0.7249\n",
            "Epoch 28/50\n",
            "48/48 [==============================] - 1s 12ms/step - loss: 0.5390 - binary_accuracy: 0.7926 - val_loss: 0.6537 - val_binary_accuracy: 0.6815\n",
            "Epoch 29/50\n",
            "48/48 [==============================] - 1s 12ms/step - loss: 0.5321 - binary_accuracy: 0.7963 - val_loss: 0.6431 - val_binary_accuracy: 0.7334\n",
            "Epoch 30/50\n",
            "48/48 [==============================] - 1s 11ms/step - loss: 0.5528 - binary_accuracy: 0.7928 - val_loss: 0.6861 - val_binary_accuracy: 0.7492\n",
            "Epoch 31/50\n",
            "48/48 [==============================] - 1s 12ms/step - loss: 0.5506 - binary_accuracy: 0.7933 - val_loss: 0.6446 - val_binary_accuracy: 0.7229\n",
            "Epoch 32/50\n",
            "48/48 [==============================] - 1s 11ms/step - loss: 0.5680 - binary_accuracy: 0.7844 - val_loss: 0.6392 - val_binary_accuracy: 0.7308\n",
            "Epoch 33/50\n",
            "48/48 [==============================] - 1s 12ms/step - loss: 0.5607 - binary_accuracy: 0.7822 - val_loss: 0.6465 - val_binary_accuracy: 0.7387\n",
            "Epoch 34/50\n",
            "48/48 [==============================] - 1s 12ms/step - loss: 0.5387 - binary_accuracy: 0.8010 - val_loss: 0.6452 - val_binary_accuracy: 0.7380\n",
            "Epoch 35/50\n",
            "48/48 [==============================] - 1s 12ms/step - loss: 0.5702 - binary_accuracy: 0.7802 - val_loss: 0.6479 - val_binary_accuracy: 0.7209\n",
            "Epoch 36/50\n",
            "48/48 [==============================] - 1s 12ms/step - loss: 0.5601 - binary_accuracy: 0.7830 - val_loss: 0.6416 - val_binary_accuracy: 0.7249\n",
            "Epoch 37/50\n",
            "48/48 [==============================] - 1s 12ms/step - loss: 0.5371 - binary_accuracy: 0.7911 - val_loss: 0.6376 - val_binary_accuracy: 0.7275\n",
            "Epoch 38/50\n",
            "48/48 [==============================] - 1s 13ms/step - loss: 0.5417 - binary_accuracy: 0.7938 - val_loss: 0.6460 - val_binary_accuracy: 0.7301\n",
            "Epoch 39/50\n",
            "48/48 [==============================] - 1s 13ms/step - loss: 0.5611 - binary_accuracy: 0.7846 - val_loss: 0.6529 - val_binary_accuracy: 0.7433\n",
            "Epoch 40/50\n",
            "48/48 [==============================] - 1s 12ms/step - loss: 0.5567 - binary_accuracy: 0.7934 - val_loss: 0.6369 - val_binary_accuracy: 0.7393\n",
            "Epoch 41/50\n",
            "48/48 [==============================] - 1s 13ms/step - loss: 0.5494 - binary_accuracy: 0.7872 - val_loss: 0.6421 - val_binary_accuracy: 0.7347\n",
            "Epoch 42/50\n",
            "48/48 [==============================] - 1s 12ms/step - loss: 0.5541 - binary_accuracy: 0.7922 - val_loss: 0.6383 - val_binary_accuracy: 0.7295\n",
            "Epoch 43/50\n",
            "48/48 [==============================] - 1s 12ms/step - loss: 0.5707 - binary_accuracy: 0.7837 - val_loss: 0.6361 - val_binary_accuracy: 0.7334\n",
            "Epoch 44/50\n",
            "48/48 [==============================] - 1s 12ms/step - loss: 0.5774 - binary_accuracy: 0.7777 - val_loss: 0.6509 - val_binary_accuracy: 0.7400\n",
            "Epoch 45/50\n",
            "48/48 [==============================] - 1s 13ms/step - loss: 0.5461 - binary_accuracy: 0.7904 - val_loss: 0.6397 - val_binary_accuracy: 0.7288\n",
            "Epoch 46/50\n",
            "48/48 [==============================] - 1s 13ms/step - loss: 0.5559 - binary_accuracy: 0.7930 - val_loss: 0.6341 - val_binary_accuracy: 0.7255\n",
            "Epoch 47/50\n",
            "48/48 [==============================] - 1s 12ms/step - loss: 0.5521 - binary_accuracy: 0.7865 - val_loss: 0.6468 - val_binary_accuracy: 0.7137\n",
            "Epoch 48/50\n",
            "48/48 [==============================] - 1s 12ms/step - loss: 0.5592 - binary_accuracy: 0.7769 - val_loss: 0.6445 - val_binary_accuracy: 0.7380\n",
            "Epoch 49/50\n",
            "48/48 [==============================] - 1s 12ms/step - loss: 0.5626 - binary_accuracy: 0.7737 - val_loss: 0.6502 - val_binary_accuracy: 0.7255\n",
            "Epoch 50/50\n",
            "48/48 [==============================] - 1s 13ms/step - loss: 0.5559 - binary_accuracy: 0.7863 - val_loss: 0.6564 - val_binary_accuracy: 0.7367\n"
          ],
          "name": "stdout"
        }
      ]
    },
    {
      "cell_type": "code",
      "metadata": {
        "colab": {
          "base_uri": "https://localhost:8080/",
          "height": 295
        },
        "id": "rSV7TE7ZNMgk",
        "outputId": "3f48551d-d8a0-4acb-eceb-5031a3dec9e1"
      },
      "source": [
        "history_dict = history.history\n",
        "history_dict.keys()\n",
        "\n",
        "\n",
        "acc = history.history['binary_accuracy']\n",
        "val_acc = history.history['val_binary_accuracy']\n",
        "loss = history.history['loss']\n",
        "val_loss = history.history['val_loss']\n",
        "\n",
        "epochs = range(1, len(acc) + 1)\n",
        "\n",
        "# \"bo\" is for \"blue dot\"\n",
        "plt.plot(epochs, loss, 'bo', label='Training loss')\n",
        "# b is for \"solid blue line\"\n",
        "plt.plot(epochs, val_loss, 'b', label='Validation loss')\n",
        "plt.title('Training and validation loss')\n",
        "plt.xlabel('Epochs')\n",
        "plt.ylabel('Loss')\n",
        "plt.legend()\n",
        "\n",
        "plt.show()"
      ],
      "execution_count": null,
      "outputs": [
        {
          "output_type": "display_data",
          "data": {
            "image/png": "[encoded data removed]",
            "text/plain": [
              "<Figure size 432x288 with 1 Axes>"
            ]
          },
          "metadata": {
            "tags": [],
            "needs_background": "light"
          }
        }
      ]
    },
    {
      "cell_type": "code",
      "metadata": {
        "colab": {
          "base_uri": "https://localhost:8080/",
          "height": 295
        },
        "id": "tM0o9XbpNMgl",
        "outputId": "c7a393cc-20b7-4eee-e48f-b8d3c5e1a7ed"
      },
      "source": [
        "plt.clf()   # clear figure\n",
        "acc_values = history_dict['binary_accuracy']\n",
        "val_acc_values = history_dict['val_binary_accuracy']\n",
        "\n",
        "plt.plot(epochs, acc, 'bo', label='Training acc')\n",
        "plt.plot(epochs, val_acc, 'b', label='Validation acc')\n",
        "plt.title('Training and validation accuracy')\n",
        "plt.xlabel('Epochs')\n",
        "plt.ylabel('Loss')\n",
        "plt.legend()\n",
        "\n",
        "plt.show()"
      ],
      "execution_count": null,
      "outputs": [
        {
          "output_type": "display_data",
          "data": {
            "image/png": "[encoded data removed]",
            "text/plain": [
              "<Figure size 432x288 with 1 Axes>"
            ]
          },
          "metadata": {
            "tags": [],
            "needs_background": "light"
          }
        }
      ]
    },
    {
      "cell_type": "code",
      "metadata": {
        "id": "OAfd-IoANMgl"
      },
      "source": [
        ""
      ],
      "execution_count": null,
      "outputs": []
    },
    {
      "cell_type": "markdown",
      "metadata": {
        "id": "fNKYYa6rN4Zh"
      },
      "source": [
        "\n",
        "\n",
        "> # TF-IDF Features\n",
        "\n"
      ]
    },
    {
      "cell_type": "code",
      "metadata": {
        "id": "BqQzTK25N4Zk"
      },
      "source": [
        "vocab_sz = 10000 \n",
        "tok = Tokenizer(num_words=vocab_sz, oov_token='UNK')\n",
        "#tok = Tokenizer(oov_token='UNK')\n",
        "tok.fit_on_texts(trn_corpus + tst_corpus)\n",
        "#vocab_sz = len(tok.word_index) # If all possible vocab, else, it's the predefine vocab_sz. Remember we cannot always use the len(tok.word_index), since it's always the max.\n",
        "\n",
        "# Extract binary BoW features\n",
        "x_train = tok.texts_to_matrix(trn_corpus, mode='tfidf')\n",
        "x_test = tok.texts_to_matrix(tst_corpus, mode='tfidf')\n",
        "\n",
        "y_train=train_data.sentiment"
      ],
      "execution_count": null,
      "outputs": []
    },
    {
      "cell_type": "code",
      "metadata": {
        "colab": {
          "base_uri": "https://localhost:8080/"
        },
        "id": "591y4zeMN4Zl",
        "outputId": "f37be4e6-346b-4d92-f3a4-8615d1f3ab88"
      },
      "source": [
        "from keras import models\n",
        "from keras import layers\n",
        "from keras.layers import Dropout\n",
        "from keras import regularizers\n",
        "\n",
        "model = models.Sequential()\n",
        "model.add(layers.Dense(\n",
        "    16\n",
        "    , activation='relu'\n",
        "    , input_shape=(10000,)\n",
        "    ,kernel_regularizer=regularizers.l1_l2(l1=1e-5, l2=1e-4),))\n",
        "model.add(layers.Dense(64, activation='relu'))\n",
        "model.add(Dropout(0.5))\n",
        "model.add(layers.Dense(64, activation='relu'))\n",
        "model.add(Dropout(0.5))\n",
        "model.add(layers.Dense(16, activation='relu'))\n",
        "model.add(Dropout(0.5))\n",
        "model.add(layers.Dense(1, activation='sigmoid'))\n",
        "model.summary()"
      ],
      "execution_count": null,
      "outputs": [
        {
          "output_type": "stream",
          "text": [
            "Model: \"sequential_3\"\n",
            "_________________________________________________________________\n",
            "Layer (type)                 Output Shape              Param #   \n",
            "=================================================================\n",
            "dense_9 (Dense)              (None, 16)                160016    \n",
            "_________________________________________________________________\n",
            "dense_10 (Dense)             (None, 64)                1088      \n",
            "_________________________________________________________________\n",
            "dropout_6 (Dropout)          (None, 64)                0         \n",
            "_________________________________________________________________\n",
            "dense_11 (Dense)             (None, 64)                4160      \n",
            "_________________________________________________________________\n",
            "dropout_7 (Dropout)          (None, 64)                0         \n",
            "_________________________________________________________________\n",
            "dense_12 (Dense)             (None, 16)                1040      \n",
            "_________________________________________________________________\n",
            "dropout_8 (Dropout)          (None, 16)                0         \n",
            "_________________________________________________________________\n",
            "dense_13 (Dense)             (None, 1)                 17        \n",
            "=================================================================\n",
            "Total params: 166,321\n",
            "Trainable params: 166,321\n",
            "Non-trainable params: 0\n",
            "_________________________________________________________________\n"
          ],
          "name": "stdout"
        }
      ]
    },
    {
      "cell_type": "code",
      "metadata": {
        "id": "59KqEMoON4Zl"
      },
      "source": [
        "from keras import losses\n",
        "from keras import metrics\n",
        "from keras import optimizers\n",
        "\n",
        "model.compile(optimizer=optimizers.RMSprop(lr=0.0001),\n",
        "              loss=losses.binary_crossentropy,\n",
        "              metrics=[metrics.binary_accuracy])"
      ],
      "execution_count": null,
      "outputs": []
    },
    {
      "cell_type": "code",
      "metadata": {
        "id": "v74ktTM_N4Zl"
      },
      "source": [
        "from sklearn.model_selection import train_test_split\n",
        "\n",
        "x_train = np.asarray(x_train).astype('float32')\n",
        "y_train = np.asarray(y_train).astype('float32')\n",
        "\n",
        "partial_x_train, x_val, partial_y_train, y_val = train_test_split(\n",
        "    x_train, y_train, test_size=0.2, random_state=0)"
      ],
      "execution_count": null,
      "outputs": []
    },
    {
      "cell_type": "code",
      "metadata": {
        "colab": {
          "base_uri": "https://localhost:8080/"
        },
        "id": "k-Jse0iPN4Zl",
        "outputId": "13638641-409b-40d8-e048-b6a11f08be10"
      },
      "source": [
        "history = model.fit(partial_x_train,\n",
        "                    partial_y_train,\n",
        "                    epochs=50,\n",
        "                    batch_size=128,\n",
        "                    validation_data=(x_val, y_val))"
      ],
      "execution_count": null,
      "outputs": [
        {
          "output_type": "stream",
          "text": [
            "Epoch 1/50\n",
            "48/48 [==============================] - 2s 17ms/step - loss: 0.7128 - binary_accuracy: 0.5493 - val_loss: 0.7059 - val_binary_accuracy: 0.5831\n",
            "Epoch 2/50\n",
            "48/48 [==============================] - 1s 13ms/step - loss: 0.7032 - binary_accuracy: 0.5655 - val_loss: 0.7017 - val_binary_accuracy: 0.5824\n",
            "Epoch 3/50\n",
            "48/48 [==============================] - 1s 13ms/step - loss: 0.6982 - binary_accuracy: 0.5592 - val_loss: 0.6978 - val_binary_accuracy: 0.5817\n",
            "Epoch 4/50\n",
            "48/48 [==============================] - 1s 13ms/step - loss: 0.6966 - binary_accuracy: 0.5485 - val_loss: 0.6945 - val_binary_accuracy: 0.5817\n",
            "Epoch 5/50\n",
            "48/48 [==============================] - 1s 13ms/step - loss: 0.6895 - binary_accuracy: 0.5640 - val_loss: 0.6904 - val_binary_accuracy: 0.5817\n",
            "Epoch 6/50\n",
            "48/48 [==============================] - 1s 13ms/step - loss: 0.6820 - binary_accuracy: 0.5692 - val_loss: 0.6855 - val_binary_accuracy: 0.5817\n",
            "Epoch 7/50\n",
            "48/48 [==============================] - 1s 13ms/step - loss: 0.6765 - binary_accuracy: 0.5651 - val_loss: 0.6794 - val_binary_accuracy: 0.5817\n",
            "Epoch 8/50\n",
            "48/48 [==============================] - 1s 13ms/step - loss: 0.6712 - binary_accuracy: 0.5669 - val_loss: 0.6711 - val_binary_accuracy: 0.5817\n",
            "Epoch 9/50\n",
            "48/48 [==============================] - 1s 13ms/step - loss: 0.6620 - binary_accuracy: 0.5673 - val_loss: 0.6615 - val_binary_accuracy: 0.5817\n",
            "Epoch 10/50\n",
            "48/48 [==============================] - 1s 13ms/step - loss: 0.6481 - binary_accuracy: 0.5641 - val_loss: 0.6503 - val_binary_accuracy: 0.5817\n",
            "Epoch 11/50\n",
            "48/48 [==============================] - 1s 13ms/step - loss: 0.6388 - binary_accuracy: 0.5624 - val_loss: 0.6373 - val_binary_accuracy: 0.5817\n",
            "Epoch 12/50\n",
            "48/48 [==============================] - 1s 12ms/step - loss: 0.6249 - binary_accuracy: 0.5630 - val_loss: 0.6255 - val_binary_accuracy: 0.5817\n",
            "Epoch 13/50\n",
            "48/48 [==============================] - 1s 12ms/step - loss: 0.6107 - binary_accuracy: 0.5644 - val_loss: 0.6142 - val_binary_accuracy: 0.5817\n",
            "Epoch 14/50\n",
            "48/48 [==============================] - 1s 13ms/step - loss: 0.6060 - binary_accuracy: 0.5579 - val_loss: 0.6043 - val_binary_accuracy: 0.5817\n",
            "Epoch 15/50\n",
            "48/48 [==============================] - 1s 13ms/step - loss: 0.5824 - binary_accuracy: 0.5794 - val_loss: 0.5963 - val_binary_accuracy: 0.6894\n",
            "Epoch 16/50\n",
            "48/48 [==============================] - 1s 13ms/step - loss: 0.5647 - binary_accuracy: 0.6323 - val_loss: 0.5898 - val_binary_accuracy: 0.7170\n",
            "Epoch 17/50\n",
            "48/48 [==============================] - 1s 13ms/step - loss: 0.5425 - binary_accuracy: 0.6990 - val_loss: 0.5853 - val_binary_accuracy: 0.7354\n",
            "Epoch 18/50\n",
            "48/48 [==============================] - 1s 13ms/step - loss: 0.5369 - binary_accuracy: 0.7333 - val_loss: 0.5828 - val_binary_accuracy: 0.7380\n",
            "Epoch 19/50\n",
            "48/48 [==============================] - 1s 14ms/step - loss: 0.5303 - binary_accuracy: 0.7635 - val_loss: 0.5817 - val_binary_accuracy: 0.7485\n",
            "Epoch 20/50\n",
            "48/48 [==============================] - 1s 13ms/step - loss: 0.5128 - binary_accuracy: 0.8029 - val_loss: 0.5809 - val_binary_accuracy: 0.7518\n",
            "Epoch 21/50\n",
            "48/48 [==============================] - 1s 13ms/step - loss: 0.5155 - binary_accuracy: 0.8248 - val_loss: 0.5830 - val_binary_accuracy: 0.7584\n",
            "Epoch 22/50\n",
            "48/48 [==============================] - 1s 13ms/step - loss: 0.5020 - binary_accuracy: 0.8378 - val_loss: 0.5838 - val_binary_accuracy: 0.7584\n",
            "Epoch 23/50\n",
            "48/48 [==============================] - 1s 13ms/step - loss: 0.4942 - binary_accuracy: 0.8570 - val_loss: 0.5907 - val_binary_accuracy: 0.7584\n",
            "Epoch 24/50\n",
            "48/48 [==============================] - 1s 13ms/step - loss: 0.4796 - binary_accuracy: 0.8678 - val_loss: 0.5932 - val_binary_accuracy: 0.7597\n",
            "Epoch 25/50\n",
            "48/48 [==============================] - 1s 13ms/step - loss: 0.4748 - binary_accuracy: 0.8816 - val_loss: 0.5944 - val_binary_accuracy: 0.7623\n",
            "Epoch 26/50\n",
            "48/48 [==============================] - 1s 13ms/step - loss: 0.4619 - binary_accuracy: 0.8801 - val_loss: 0.6015 - val_binary_accuracy: 0.7603\n",
            "Epoch 27/50\n",
            "48/48 [==============================] - 1s 13ms/step - loss: 0.4513 - binary_accuracy: 0.8944 - val_loss: 0.6050 - val_binary_accuracy: 0.7649\n",
            "Epoch 28/50\n",
            "48/48 [==============================] - 1s 13ms/step - loss: 0.4365 - binary_accuracy: 0.9001 - val_loss: 0.6123 - val_binary_accuracy: 0.7636\n",
            "Epoch 29/50\n",
            "48/48 [==============================] - 1s 13ms/step - loss: 0.4266 - binary_accuracy: 0.9084 - val_loss: 0.6174 - val_binary_accuracy: 0.7663\n",
            "Epoch 30/50\n",
            "48/48 [==============================] - 1s 13ms/step - loss: 0.4355 - binary_accuracy: 0.9104 - val_loss: 0.6266 - val_binary_accuracy: 0.7676\n",
            "Epoch 31/50\n",
            "48/48 [==============================] - 1s 13ms/step - loss: 0.4274 - binary_accuracy: 0.9185 - val_loss: 0.6374 - val_binary_accuracy: 0.7722\n",
            "Epoch 32/50\n",
            "48/48 [==============================] - 1s 13ms/step - loss: 0.4091 - binary_accuracy: 0.9176 - val_loss: 0.6468 - val_binary_accuracy: 0.7702\n",
            "Epoch 33/50\n",
            "48/48 [==============================] - 1s 13ms/step - loss: 0.4093 - binary_accuracy: 0.9210 - val_loss: 0.6531 - val_binary_accuracy: 0.7676\n",
            "Epoch 34/50\n",
            "48/48 [==============================] - 1s 13ms/step - loss: 0.3955 - binary_accuracy: 0.9196 - val_loss: 0.6621 - val_binary_accuracy: 0.7656\n",
            "Epoch 35/50\n",
            "48/48 [==============================] - 1s 13ms/step - loss: 0.3895 - binary_accuracy: 0.9275 - val_loss: 0.6705 - val_binary_accuracy: 0.7656\n",
            "Epoch 36/50\n",
            "48/48 [==============================] - 1s 13ms/step - loss: 0.3671 - binary_accuracy: 0.9374 - val_loss: 0.6750 - val_binary_accuracy: 0.7656\n",
            "Epoch 37/50\n",
            "48/48 [==============================] - 1s 13ms/step - loss: 0.3754 - binary_accuracy: 0.9287 - val_loss: 0.6853 - val_binary_accuracy: 0.7708\n",
            "Epoch 38/50\n",
            "48/48 [==============================] - 1s 13ms/step - loss: 0.3592 - binary_accuracy: 0.9397 - val_loss: 0.6964 - val_binary_accuracy: 0.7702\n",
            "Epoch 39/50\n",
            "48/48 [==============================] - 1s 13ms/step - loss: 0.3510 - binary_accuracy: 0.9363 - val_loss: 0.7063 - val_binary_accuracy: 0.7689\n",
            "Epoch 40/50\n",
            "48/48 [==============================] - 1s 12ms/step - loss: 0.3301 - binary_accuracy: 0.9446 - val_loss: 0.7046 - val_binary_accuracy: 0.7682\n",
            "Epoch 41/50\n",
            "48/48 [==============================] - 1s 13ms/step - loss: 0.3224 - binary_accuracy: 0.9423 - val_loss: 0.7119 - val_binary_accuracy: 0.7643\n",
            "Epoch 42/50\n",
            "48/48 [==============================] - 1s 13ms/step - loss: 0.3015 - binary_accuracy: 0.9484 - val_loss: 0.7197 - val_binary_accuracy: 0.7656\n",
            "Epoch 43/50\n",
            "48/48 [==============================] - 1s 13ms/step - loss: 0.3024 - binary_accuracy: 0.9458 - val_loss: 0.7229 - val_binary_accuracy: 0.7630\n",
            "Epoch 44/50\n",
            "48/48 [==============================] - 1s 13ms/step - loss: 0.2900 - binary_accuracy: 0.9434 - val_loss: 0.7398 - val_binary_accuracy: 0.7676\n",
            "Epoch 45/50\n",
            "48/48 [==============================] - 1s 14ms/step - loss: 0.2771 - binary_accuracy: 0.9498 - val_loss: 0.7394 - val_binary_accuracy: 0.7689\n",
            "Epoch 46/50\n",
            "48/48 [==============================] - 1s 13ms/step - loss: 0.2615 - binary_accuracy: 0.9498 - val_loss: 0.7407 - val_binary_accuracy: 0.7663\n",
            "Epoch 47/50\n",
            "48/48 [==============================] - 1s 13ms/step - loss: 0.2482 - binary_accuracy: 0.9478 - val_loss: 0.7433 - val_binary_accuracy: 0.7623\n",
            "Epoch 48/50\n",
            "48/48 [==============================] - 1s 12ms/step - loss: 0.2593 - binary_accuracy: 0.9489 - val_loss: 0.7539 - val_binary_accuracy: 0.7630\n",
            "Epoch 49/50\n",
            "48/48 [==============================] - 1s 13ms/step - loss: 0.2314 - binary_accuracy: 0.9497 - val_loss: 0.7622 - val_binary_accuracy: 0.7597\n",
            "Epoch 50/50\n",
            "48/48 [==============================] - 1s 13ms/step - loss: 0.2237 - binary_accuracy: 0.9521 - val_loss: 0.7700 - val_binary_accuracy: 0.7571\n"
          ],
          "name": "stdout"
        }
      ]
    },
    {
      "cell_type": "code",
      "metadata": {
        "colab": {
          "base_uri": "https://localhost:8080/",
          "height": 295
        },
        "id": "GJ2DRy7bN4Zm",
        "outputId": "5a46fd6a-d762-4415-af7f-d6468a22bd0b"
      },
      "source": [
        "history_dict = history.history\n",
        "history_dict.keys()\n",
        "\n",
        "\n",
        "acc = history.history['binary_accuracy']\n",
        "val_acc = history.history['val_binary_accuracy']\n",
        "loss = history.history['loss']\n",
        "val_loss = history.history['val_loss']\n",
        "\n",
        "epochs = range(1, len(acc) + 1)\n",
        "\n",
        "# \"bo\" is for \"blue dot\"\n",
        "plt.plot(epochs, loss, 'bo', label='Training loss')\n",
        "# b is for \"solid blue line\"\n",
        "plt.plot(epochs, val_loss, 'b', label='Validation loss')\n",
        "plt.title('Training and validation loss')\n",
        "plt.xlabel('Epochs')\n",
        "plt.ylabel('Loss')\n",
        "plt.legend()\n",
        "\n",
        "plt.show()"
      ],
      "execution_count": null,
      "outputs": [
        {
          "output_type": "display_data",
          "data": {
            "image/png": "[encoded data removed]",
            "text/plain": [
              "<Figure size 432x288 with 1 Axes>"
            ]
          },
          "metadata": {
            "tags": [],
            "needs_background": "light"
          }
        }
      ]
    },
    {
      "cell_type": "code",
      "metadata": {
        "colab": {
          "base_uri": "https://localhost:8080/",
          "height": 295
        },
        "id": "JcSTQuDEN4Zm",
        "outputId": "89f83034-83e7-4d68-dec1-e2438a8ce688"
      },
      "source": [
        "plt.clf()   # clear figure\n",
        "acc_values = history_dict['binary_accuracy']\n",
        "val_acc_values = history_dict['val_binary_accuracy']\n",
        "\n",
        "plt.plot(epochs, acc, 'bo', label='Training acc')\n",
        "plt.plot(epochs, val_acc, 'b', label='Validation acc')\n",
        "plt.title('Training and validation accuracy')\n",
        "plt.xlabel('Epochs')\n",
        "plt.ylabel('Loss')\n",
        "plt.legend()\n",
        "\n",
        "plt.show()"
      ],
      "execution_count": null,
      "outputs": [
        {
          "output_type": "display_data",
          "data": {
            "image/png": "[encoded data removed]",
            "text/plain": [
              "<Figure size 432x288 with 1 Axes>"
            ]
          },
          "metadata": {
            "tags": [],
            "needs_background": "light"
          }
        }
      ]
    },
    {
      "cell_type": "markdown",
      "metadata": {
        "id": "-8WMr3sSN4Zm"
      },
      "source": [
        "\n",
        "\n",
        "> > #### TFIDF yields the best accuracy for validation set.\n",
        "> > #### Strangely, count features yiels better accuracy than frequency features. Although the other way around should be the case as the features are between 0 and 1. "
      ]
    },
    {
      "cell_type": "markdown",
      "metadata": {
        "id": "Mz-YTFsSqGIA"
      },
      "source": [
        "\n",
        "\n",
        "# Using TFIDF without the data preprocessing pipeline\n",
        "\n",
        "\n",
        "\n",
        "\n",
        "\n"
      ]
    },
    {
      "cell_type": "code",
      "metadata": {
        "id": "glvvNaDnseJ-"
      },
      "source": [
        "trn_no_prep=train_data.text.tolist()\n",
        "tst_no_prep=test_data.text.tolist()\n",
        "no_prep_text = (' '.join(trn_no_prep) + ' ' + ' '.join(tst_no_prep)).split()\n",
        "\n",
        "# Creating the corpus with the word counts \n",
        "from collections import Counter\n",
        "no_prep_counts = Counter(no_prep_text)\n",
        "\n",
        "no_prep_counts={k: v for k, v in sorted(no_prep_counts.items(), key=lambda item: item[1], reverse=True)}\n",
        "\n",
        "str2idx_no_prep = {key:val for key,val in no_prep_counts.items()}\n",
        "idx2str_no_prep = {val:key for key,val in no_prep_counts.items()}"
      ],
      "execution_count": null,
      "outputs": []
    },
    {
      "cell_type": "code",
      "metadata": {
        "id": "wQtQw-0dtGT5"
      },
      "source": [
        "vocab_sz = 10000 \n",
        "tok = Tokenizer(num_words=vocab_sz, oov_token='UNK')\n",
        "#tok = Tokenizer(oov_token='UNK')\n",
        "tok.fit_on_texts(trn_no_prep + tst_no_prep)\n",
        "#vocab_sz = len(tok.word_index) # If all possible vocab, else, it's the predefine vocab_sz. Remember we cannot always use the len(tok.word_index), since it's always the max.\n",
        "\n",
        "# Extract binary BoW features\n",
        "x_train = tok.texts_to_matrix(trn_no_prep, mode='tfidf')\n",
        "x_test = tok.texts_to_matrix(tst_no_prep, mode='tfidf')\n",
        "\n",
        "y_train=train_data.sentiment"
      ],
      "execution_count": null,
      "outputs": []
    },
    {
      "cell_type": "code",
      "metadata": {
        "colab": {
          "base_uri": "https://localhost:8080/"
        },
        "id": "i-Lidnx2tGT7",
        "outputId": "9d5c92f6-8a18-44f4-90ce-e2f0dddafb59"
      },
      "source": [
        "from keras import models\n",
        "from keras import layers\n",
        "from keras.layers import Dropout\n",
        "from keras import regularizers\n",
        "\n",
        "model = models.Sequential()\n",
        "model.add(layers.Dense(\n",
        "    16\n",
        "    , activation='relu'\n",
        "    , input_shape=(10000,)\n",
        "    ,kernel_regularizer=regularizers.l1_l2(l1=1e-5, l2=1e-4),))\n",
        "model.add(layers.Dense(64, activation='relu'))\n",
        "model.add(Dropout(0.5))\n",
        "model.add(layers.Dense(64, activation='relu'))\n",
        "model.add(Dropout(0.5))\n",
        "model.add(layers.Dense(16, activation='relu'))\n",
        "model.add(Dropout(0.5))\n",
        "model.add(layers.Dense(1, activation='sigmoid'))\n",
        "model.summary()"
      ],
      "execution_count": null,
      "outputs": [
        {
          "output_type": "stream",
          "text": [
            "Model: \"sequential_4\"\n",
            "_________________________________________________________________\n",
            "Layer (type)                 Output Shape              Param #   \n",
            "=================================================================\n",
            "dense_14 (Dense)             (None, 16)                160016    \n",
            "_________________________________________________________________\n",
            "dense_15 (Dense)             (None, 64)                1088      \n",
            "_________________________________________________________________\n",
            "dropout_9 (Dropout)          (None, 64)                0         \n",
            "_________________________________________________________________\n",
            "dense_16 (Dense)             (None, 64)                4160      \n",
            "_________________________________________________________________\n",
            "dropout_10 (Dropout)         (None, 64)                0         \n",
            "_________________________________________________________________\n",
            "dense_17 (Dense)             (None, 16)                1040      \n",
            "_________________________________________________________________\n",
            "dropout_11 (Dropout)         (None, 16)                0         \n",
            "_________________________________________________________________\n",
            "dense_18 (Dense)             (None, 1)                 17        \n",
            "=================================================================\n",
            "Total params: 166,321\n",
            "Trainable params: 166,321\n",
            "Non-trainable params: 0\n",
            "_________________________________________________________________\n"
          ],
          "name": "stdout"
        }
      ]
    },
    {
      "cell_type": "code",
      "metadata": {
        "id": "0V8QhIoJtGT9"
      },
      "source": [
        "from keras import losses\n",
        "from keras import metrics\n",
        "from keras import optimizers\n",
        "\n",
        "model.compile(optimizer=optimizers.RMSprop(lr=0.0001),\n",
        "              loss=losses.binary_crossentropy,\n",
        "              metrics=[metrics.binary_accuracy])"
      ],
      "execution_count": null,
      "outputs": []
    },
    {
      "cell_type": "code",
      "metadata": {
        "id": "58r4IPnttGT-"
      },
      "source": [
        "from sklearn.model_selection import train_test_split\n",
        "\n",
        "x_train = np.asarray(x_train).astype('float32')\n",
        "y_train = np.asarray(y_train).astype('float32')\n",
        "\n",
        "partial_x_train, x_val, partial_y_train, y_val = train_test_split(\n",
        "    x_train, y_train, test_size=0.2, random_state=0)"
      ],
      "execution_count": null,
      "outputs": []
    },
    {
      "cell_type": "code",
      "metadata": {
        "colab": {
          "base_uri": "https://localhost:8080/"
        },
        "id": "OA1mPCSstGT_",
        "outputId": "245e0be9-f6c3-4144-cf4e-ad6689383731"
      },
      "source": [
        "history = model.fit(partial_x_train,\n",
        "                    partial_y_train,\n",
        "                    epochs=50,\n",
        "                    batch_size=512,\n",
        "                    validation_data=(x_val, y_val))"
      ],
      "execution_count": null,
      "outputs": [
        {
          "output_type": "stream",
          "text": [
            "Epoch 1/50\n",
            "12/12 [==============================] - 2s 55ms/step - loss: 0.7271 - binary_accuracy: 0.4801 - val_loss: 0.7145 - val_binary_accuracy: 0.4997\n",
            "Epoch 2/50\n",
            "12/12 [==============================] - 0s 38ms/step - loss: 0.7186 - binary_accuracy: 0.4950 - val_loss: 0.7105 - val_binary_accuracy: 0.5568\n",
            "Epoch 3/50\n",
            "12/12 [==============================] - 0s 41ms/step - loss: 0.7138 - binary_accuracy: 0.5187 - val_loss: 0.7075 - val_binary_accuracy: 0.5968\n",
            "Epoch 4/50\n",
            "12/12 [==============================] - 0s 39ms/step - loss: 0.7127 - binary_accuracy: 0.5156 - val_loss: 0.7050 - val_binary_accuracy: 0.6106\n",
            "Epoch 5/50\n",
            "12/12 [==============================] - 1s 43ms/step - loss: 0.7105 - binary_accuracy: 0.5236 - val_loss: 0.7026 - val_binary_accuracy: 0.6225\n",
            "Epoch 6/50\n",
            "12/12 [==============================] - 0s 39ms/step - loss: 0.7064 - binary_accuracy: 0.5429 - val_loss: 0.7001 - val_binary_accuracy: 0.6369\n",
            "Epoch 7/50\n",
            "12/12 [==============================] - 1s 43ms/step - loss: 0.7036 - binary_accuracy: 0.5529 - val_loss: 0.6979 - val_binary_accuracy: 0.6474\n",
            "Epoch 8/50\n",
            "12/12 [==============================] - 0s 40ms/step - loss: 0.7035 - binary_accuracy: 0.5518 - val_loss: 0.6955 - val_binary_accuracy: 0.6448\n",
            "Epoch 9/50\n",
            "12/12 [==============================] - 0s 41ms/step - loss: 0.6999 - binary_accuracy: 0.5742 - val_loss: 0.6928 - val_binary_accuracy: 0.6546\n",
            "Epoch 10/50\n",
            "12/12 [==============================] - 0s 41ms/step - loss: 0.6947 - binary_accuracy: 0.5805 - val_loss: 0.6898 - val_binary_accuracy: 0.6612\n",
            "Epoch 11/50\n",
            "12/12 [==============================] - 0s 40ms/step - loss: 0.6914 - binary_accuracy: 0.5869 - val_loss: 0.6862 - val_binary_accuracy: 0.6717\n",
            "Epoch 12/50\n",
            "12/12 [==============================] - 0s 38ms/step - loss: 0.6885 - binary_accuracy: 0.5979 - val_loss: 0.6823 - val_binary_accuracy: 0.6881\n",
            "Epoch 13/50\n",
            "12/12 [==============================] - 0s 39ms/step - loss: 0.6848 - binary_accuracy: 0.6115 - val_loss: 0.6778 - val_binary_accuracy: 0.6999\n",
            "Epoch 14/50\n",
            "12/12 [==============================] - 0s 41ms/step - loss: 0.6818 - binary_accuracy: 0.6050 - val_loss: 0.6731 - val_binary_accuracy: 0.7111\n",
            "Epoch 15/50\n",
            "12/12 [==============================] - 0s 40ms/step - loss: 0.6764 - binary_accuracy: 0.6281 - val_loss: 0.6677 - val_binary_accuracy: 0.7216\n",
            "Epoch 16/50\n",
            "12/12 [==============================] - 0s 39ms/step - loss: 0.6761 - binary_accuracy: 0.6193 - val_loss: 0.6620 - val_binary_accuracy: 0.7354\n",
            "Epoch 17/50\n",
            "12/12 [==============================] - 0s 39ms/step - loss: 0.6639 - binary_accuracy: 0.6467 - val_loss: 0.6553 - val_binary_accuracy: 0.7413\n",
            "Epoch 18/50\n",
            "12/12 [==============================] - 0s 40ms/step - loss: 0.6596 - binary_accuracy: 0.6553 - val_loss: 0.6480 - val_binary_accuracy: 0.7505\n",
            "Epoch 19/50\n",
            "12/12 [==============================] - 0s 41ms/step - loss: 0.6537 - binary_accuracy: 0.6583 - val_loss: 0.6404 - val_binary_accuracy: 0.7571\n",
            "Epoch 20/50\n",
            "12/12 [==============================] - 1s 43ms/step - loss: 0.6434 - binary_accuracy: 0.6702 - val_loss: 0.6321 - val_binary_accuracy: 0.7623\n",
            "Epoch 21/50\n",
            "12/12 [==============================] - 0s 41ms/step - loss: 0.6357 - binary_accuracy: 0.6851 - val_loss: 0.6229 - val_binary_accuracy: 0.7702\n",
            "Epoch 22/50\n",
            "12/12 [==============================] - 1s 43ms/step - loss: 0.6297 - binary_accuracy: 0.6970 - val_loss: 0.6144 - val_binary_accuracy: 0.7768\n",
            "Epoch 23/50\n",
            "12/12 [==============================] - 0s 41ms/step - loss: 0.6167 - binary_accuracy: 0.7122 - val_loss: 0.6045 - val_binary_accuracy: 0.7787\n",
            "Epoch 24/50\n",
            "12/12 [==============================] - 0s 41ms/step - loss: 0.6057 - binary_accuracy: 0.7135 - val_loss: 0.5952 - val_binary_accuracy: 0.7794\n",
            "Epoch 25/50\n",
            "12/12 [==============================] - 0s 39ms/step - loss: 0.5966 - binary_accuracy: 0.7264 - val_loss: 0.5859 - val_binary_accuracy: 0.7833\n",
            "Epoch 26/50\n",
            "12/12 [==============================] - 0s 40ms/step - loss: 0.5841 - binary_accuracy: 0.7454 - val_loss: 0.5761 - val_binary_accuracy: 0.7873\n",
            "Epoch 27/50\n",
            "12/12 [==============================] - 0s 40ms/step - loss: 0.5736 - binary_accuracy: 0.7453 - val_loss: 0.5669 - val_binary_accuracy: 0.7886\n",
            "Epoch 28/50\n",
            "12/12 [==============================] - 0s 40ms/step - loss: 0.5661 - binary_accuracy: 0.7586 - val_loss: 0.5574 - val_binary_accuracy: 0.7912\n",
            "Epoch 29/50\n",
            "12/12 [==============================] - 0s 41ms/step - loss: 0.5575 - binary_accuracy: 0.7518 - val_loss: 0.5480 - val_binary_accuracy: 0.7932\n",
            "Epoch 30/50\n",
            "12/12 [==============================] - 0s 40ms/step - loss: 0.5467 - binary_accuracy: 0.7611 - val_loss: 0.5397 - val_binary_accuracy: 0.7945\n",
            "Epoch 31/50\n",
            "12/12 [==============================] - 0s 40ms/step - loss: 0.5269 - binary_accuracy: 0.7883 - val_loss: 0.5302 - val_binary_accuracy: 0.7938\n",
            "Epoch 32/50\n",
            "12/12 [==============================] - 0s 41ms/step - loss: 0.5278 - binary_accuracy: 0.7739 - val_loss: 0.5221 - val_binary_accuracy: 0.7958\n",
            "Epoch 33/50\n",
            "12/12 [==============================] - 0s 39ms/step - loss: 0.5065 - binary_accuracy: 0.8066 - val_loss: 0.5150 - val_binary_accuracy: 0.7971\n",
            "Epoch 34/50\n",
            "12/12 [==============================] - 0s 41ms/step - loss: 0.5008 - binary_accuracy: 0.7912 - val_loss: 0.5081 - val_binary_accuracy: 0.7965\n",
            "Epoch 35/50\n",
            "12/12 [==============================] - 0s 41ms/step - loss: 0.4832 - binary_accuracy: 0.8076 - val_loss: 0.5009 - val_binary_accuracy: 0.7965\n",
            "Epoch 36/50\n",
            "12/12 [==============================] - 0s 41ms/step - loss: 0.4758 - binary_accuracy: 0.8102 - val_loss: 0.4948 - val_binary_accuracy: 0.7958\n",
            "Epoch 37/50\n",
            "12/12 [==============================] - 0s 39ms/step - loss: 0.4711 - binary_accuracy: 0.8237 - val_loss: 0.4891 - val_binary_accuracy: 0.7958\n",
            "Epoch 38/50\n",
            "12/12 [==============================] - 0s 40ms/step - loss: 0.4605 - binary_accuracy: 0.8207 - val_loss: 0.4843 - val_binary_accuracy: 0.7978\n",
            "Epoch 39/50\n",
            "12/12 [==============================] - 0s 40ms/step - loss: 0.4537 - binary_accuracy: 0.8239 - val_loss: 0.4809 - val_binary_accuracy: 0.7958\n",
            "Epoch 40/50\n",
            "12/12 [==============================] - 0s 39ms/step - loss: 0.4343 - binary_accuracy: 0.8333 - val_loss: 0.4763 - val_binary_accuracy: 0.7978\n",
            "Epoch 41/50\n",
            "12/12 [==============================] - 0s 40ms/step - loss: 0.4269 - binary_accuracy: 0.8509 - val_loss: 0.4738 - val_binary_accuracy: 0.7951\n",
            "Epoch 42/50\n",
            "12/12 [==============================] - 0s 41ms/step - loss: 0.4154 - binary_accuracy: 0.8502 - val_loss: 0.4706 - val_binary_accuracy: 0.7965\n",
            "Epoch 43/50\n",
            "12/12 [==============================] - 1s 42ms/step - loss: 0.4102 - binary_accuracy: 0.8573 - val_loss: 0.4690 - val_binary_accuracy: 0.7984\n",
            "Epoch 44/50\n",
            "12/12 [==============================] - 0s 41ms/step - loss: 0.3954 - binary_accuracy: 0.8619 - val_loss: 0.4667 - val_binary_accuracy: 0.7971\n",
            "Epoch 45/50\n",
            "12/12 [==============================] - 0s 41ms/step - loss: 0.3872 - binary_accuracy: 0.8610 - val_loss: 0.4674 - val_binary_accuracy: 0.7971\n",
            "Epoch 46/50\n",
            "12/12 [==============================] - 0s 40ms/step - loss: 0.3740 - binary_accuracy: 0.8709 - val_loss: 0.4656 - val_binary_accuracy: 0.7991\n",
            "Epoch 47/50\n",
            "12/12 [==============================] - 1s 42ms/step - loss: 0.3683 - binary_accuracy: 0.8780 - val_loss: 0.4655 - val_binary_accuracy: 0.7978\n",
            "Epoch 48/50\n",
            "12/12 [==============================] - 0s 40ms/step - loss: 0.3621 - binary_accuracy: 0.8855 - val_loss: 0.4666 - val_binary_accuracy: 0.7965\n",
            "Epoch 49/50\n",
            "12/12 [==============================] - 0s 40ms/step - loss: 0.3499 - binary_accuracy: 0.8889 - val_loss: 0.4679 - val_binary_accuracy: 0.7965\n",
            "Epoch 50/50\n",
            "12/12 [==============================] - 0s 38ms/step - loss: 0.3396 - binary_accuracy: 0.8953 - val_loss: 0.4706 - val_binary_accuracy: 0.7984\n"
          ],
          "name": "stdout"
        }
      ]
    },
    {
      "cell_type": "code",
      "metadata": {
        "colab": {
          "base_uri": "https://localhost:8080/",
          "height": 295
        },
        "id": "qx8Zplw2tGUA",
        "outputId": "641e3341-07f1-4c9c-f567-4e2ab2fc30bd"
      },
      "source": [
        "history_dict = history.history\n",
        "history_dict.keys()\n",
        "\n",
        "\n",
        "acc = history.history['binary_accuracy']\n",
        "val_acc = history.history['val_binary_accuracy']\n",
        "loss = history.history['loss']\n",
        "val_loss = history.history['val_loss']\n",
        "\n",
        "epochs = range(1, len(acc) + 1)\n",
        "\n",
        "# \"bo\" is for \"blue dot\"\n",
        "plt.plot(epochs, loss, 'bo', label='Training loss')\n",
        "# b is for \"solid blue line\"\n",
        "plt.plot(epochs, val_loss, 'b', label='Validation loss')\n",
        "plt.title('Training and validation loss')\n",
        "plt.xlabel('Epochs')\n",
        "plt.ylabel('Loss')\n",
        "plt.legend()\n",
        "\n",
        "plt.show()"
      ],
      "execution_count": null,
      "outputs": [
        {
          "output_type": "display_data",
          "data": {
            "image/png": "[encoded data removed]",
            "text/plain": [
              "<Figure size 432x288 with 1 Axes>"
            ]
          },
          "metadata": {
            "tags": [],
            "needs_background": "light"
          }
        }
      ]
    },
    {
      "cell_type": "code",
      "metadata": {
        "colab": {
          "base_uri": "https://localhost:8080/",
          "height": 295
        },
        "id": "JO2XW_FFtGUB",
        "outputId": "311073e5-0944-4971-e4c3-6111b5095e86"
      },
      "source": [
        "plt.clf()   # clear figure\n",
        "acc_values = history_dict['binary_accuracy']\n",
        "val_acc_values = history_dict['val_binary_accuracy']\n",
        "\n",
        "plt.plot(epochs, acc, 'bo', label='Training acc')\n",
        "plt.plot(epochs, val_acc, 'b', label='Validation acc')\n",
        "plt.title('Training and validation accuracy')\n",
        "plt.xlabel('Epochs')\n",
        "plt.ylabel('Loss')\n",
        "plt.legend()\n",
        "\n",
        "plt.show()"
      ],
      "execution_count": null,
      "outputs": [
        {
          "output_type": "display_data",
          "data": {
            "image/png": "[encoded data removed]",
            "text/plain": [
              "<Figure size 432x288 with 1 Axes>"
            ]
          },
          "metadata": {
            "tags": [],
            "needs_background": "light"
          }
        }
      ]
    },
    {
      "cell_type": "markdown",
      "metadata": {
        "id": "fe5rvX4rv-CL"
      },
      "source": [
        "# Developing BoW vectors model with learnable Embeddings\n"
      ]
    },
    {
      "cell_type": "code",
      "metadata": {
        "id": "r4DN6DNOhsT2"
      },
      "source": [
        "from keras.datasets import imdb\n",
        "vocab_size = 10000\n",
        "\n",
        "tok = Tokenizer(num_words=vocab_sz, oov_token='UNK')\n",
        "#tok = Tokenizer(oov_token='UNK')\n",
        "tok.fit_on_texts(trn_corpus + tst_corpus)\n",
        "#vocab_sz = len(tok.word_index) # If all possible vocab, else, it's the predefine vocab_sz. Remember we cannot always use the len(tok.word_index), since it's always the max.\n",
        "\n",
        "# Extract binary BoW features\n",
        "x_train = tok.texts_to_sequences(trn_corpus)\n",
        "y_train=train_data.sentiment\n",
        "\n",
        "y_train = np.asarray(y_train).astype('float32')\n",
        "\n",
        "max_length = 100\n",
        "x_train = pad_sequences(x_train, maxlen=max_length, padding='post')\n",
        "\n",
        "partial_x_train, x_val, partial_y_train, y_val = train_test_split(x_train, y_train, test_size=0.2, random_state=42)"
      ],
      "execution_count": null,
      "outputs": []
    },
    {
      "cell_type": "code",
      "metadata": {
        "colab": {
          "base_uri": "https://localhost:8080/"
        },
        "id": "V8qtWGlewIwY",
        "outputId": "45caa2b9-8f7a-46a6-940a-a199edb513a2"
      },
      "source": [
        "x_train"
      ],
      "execution_count": null,
      "outputs": [
        {
          "output_type": "execute_result",
          "data": {
            "text/plain": [
              "array([[4561,  451,  208, ...,    0,    0,    0],\n",
              "       [ 118,    4,  168, ...,    0,    0,    0],\n",
              "       [1271,  473, 1759, ...,    0,    0,    0],\n",
              "       ...,\n",
              "       [4126,  412, 1330, ...,    0,    0,    0],\n",
              "       [  34,  860, 3280, ...,    0,    0,    0],\n",
              "       [ 185,   41,  433, ...,    0,    0,    0]], dtype=int32)"
            ]
          },
          "metadata": {
            "tags": []
          },
          "execution_count": 69
        }
      ]
    },
    {
      "cell_type": "code",
      "metadata": {
        "colab": {
          "base_uri": "https://localhost:8080/"
        },
        "id": "PHLsKmcjvRt7",
        "outputId": "93675c64-3f03-47a4-8369-4f53a8400667"
      },
      "source": [
        "n_latent_factors = 25\n",
        "model = models.Sequential()\n",
        "model.add(layers.Embedding(vocab_sz+1, n_latent_factors, input_length=max_length))\n",
        "model.add(layers.Flatten())\n",
        "model.add(layers.Dense(16, activation='relu'))\n",
        "model.add(layers.Dense(16, activation='relu'))\n",
        "model.add(layers.Dense(1, activation='sigmoid'))\n",
        "model.summary()"
      ],
      "execution_count": null,
      "outputs": [
        {
          "output_type": "stream",
          "text": [
            "Model: \"sequential_6\"\n",
            "_________________________________________________________________\n",
            "Layer (type)                 Output Shape              Param #   \n",
            "=================================================================\n",
            "embedding_1 (Embedding)      (None, 100, 25)           250025    \n",
            "_________________________________________________________________\n",
            "flatten_1 (Flatten)          (None, 2500)              0         \n",
            "_________________________________________________________________\n",
            "dense_22 (Dense)             (None, 16)                40016     \n",
            "_________________________________________________________________\n",
            "dense_23 (Dense)             (None, 16)                272       \n",
            "_________________________________________________________________\n",
            "dense_24 (Dense)             (None, 1)                 17        \n",
            "=================================================================\n",
            "Total params: 290,330\n",
            "Trainable params: 290,330\n",
            "Non-trainable params: 0\n",
            "_________________________________________________________________\n"
          ],
          "name": "stdout"
        }
      ]
    },
    {
      "cell_type": "code",
      "metadata": {
        "colab": {
          "base_uri": "https://localhost:8080/"
        },
        "id": "-g8E3bWFv24w",
        "outputId": "e9bd76b0-d15e-4867-bbb2-154bd98fdcf2"
      },
      "source": [
        "model.compile(optimizer=optimizers.RMSprop(lr=0.001),\n",
        "              loss=losses.binary_crossentropy,\n",
        "              metrics=[metrics.binary_accuracy])\n",
        "\t\t\t  \n",
        "history = model.fit(x_train,\n",
        "                    y_train,\n",
        "                    epochs=20,\n",
        "                    batch_size=512,\n",
        "                    validation_data=(x_val, y_val))\n",
        "history_dict = history.history\n",
        "history_dict.keys()"
      ],
      "execution_count": null,
      "outputs": [
        {
          "output_type": "stream",
          "text": [
            "Epoch 1/20\n",
            "15/15 [==============================] - 1s 25ms/step - loss: 0.6841 - binary_accuracy: 0.5681 - val_loss: 0.6636 - val_binary_accuracy: 0.5739\n",
            "Epoch 2/20\n",
            "15/15 [==============================] - 0s 15ms/step - loss: 0.6581 - binary_accuracy: 0.5921 - val_loss: 0.6217 - val_binary_accuracy: 0.7623\n",
            "Epoch 3/20\n",
            "15/15 [==============================] - 0s 15ms/step - loss: 0.6103 - binary_accuracy: 0.7241 - val_loss: 0.5638 - val_binary_accuracy: 0.7295\n",
            "Epoch 4/20\n",
            "15/15 [==============================] - 0s 15ms/step - loss: 0.5556 - binary_accuracy: 0.7727 - val_loss: 0.4984 - val_binary_accuracy: 0.8207\n",
            "Epoch 5/20\n",
            "15/15 [==============================] - 0s 15ms/step - loss: 0.4878 - binary_accuracy: 0.8225 - val_loss: 0.4417 - val_binary_accuracy: 0.8450\n",
            "Epoch 6/20\n",
            "15/15 [==============================] - 0s 14ms/step - loss: 0.4403 - binary_accuracy: 0.8366 - val_loss: 0.3895 - val_binary_accuracy: 0.8674\n",
            "Epoch 7/20\n",
            "15/15 [==============================] - 0s 15ms/step - loss: 0.3848 - binary_accuracy: 0.8577 - val_loss: 0.3455 - val_binary_accuracy: 0.8864\n",
            "Epoch 8/20\n",
            "15/15 [==============================] - 0s 14ms/step - loss: 0.3445 - binary_accuracy: 0.8718 - val_loss: 0.3119 - val_binary_accuracy: 0.8969\n",
            "Epoch 9/20\n",
            "15/15 [==============================] - 0s 13ms/step - loss: 0.3139 - binary_accuracy: 0.8802 - val_loss: 0.2827 - val_binary_accuracy: 0.9002\n",
            "Epoch 10/20\n",
            "15/15 [==============================] - 0s 15ms/step - loss: 0.2775 - binary_accuracy: 0.8963 - val_loss: 0.2623 - val_binary_accuracy: 0.9081\n",
            "Epoch 11/20\n",
            "15/15 [==============================] - 0s 15ms/step - loss: 0.2550 - binary_accuracy: 0.9055 - val_loss: 0.2380 - val_binary_accuracy: 0.9146\n",
            "Epoch 12/20\n",
            "15/15 [==============================] - 0s 15ms/step - loss: 0.2263 - binary_accuracy: 0.9166 - val_loss: 0.2157 - val_binary_accuracy: 0.9238\n",
            "Epoch 13/20\n",
            "15/15 [==============================] - 0s 16ms/step - loss: 0.2139 - binary_accuracy: 0.9216 - val_loss: 0.1981 - val_binary_accuracy: 0.9304\n",
            "Epoch 14/20\n",
            "15/15 [==============================] - 0s 16ms/step - loss: 0.1830 - binary_accuracy: 0.9342 - val_loss: 0.1803 - val_binary_accuracy: 0.9357\n",
            "Epoch 15/20\n",
            "15/15 [==============================] - 0s 15ms/step - loss: 0.1730 - binary_accuracy: 0.9378 - val_loss: 0.1641 - val_binary_accuracy: 0.9448\n",
            "Epoch 16/20\n",
            "15/15 [==============================] - 0s 16ms/step - loss: 0.1553 - binary_accuracy: 0.9441 - val_loss: 0.1502 - val_binary_accuracy: 0.9514\n",
            "Epoch 17/20\n",
            "15/15 [==============================] - 0s 15ms/step - loss: 0.1421 - binary_accuracy: 0.9500 - val_loss: 0.1399 - val_binary_accuracy: 0.9560\n",
            "Epoch 18/20\n",
            "15/15 [==============================] - 0s 15ms/step - loss: 0.1315 - binary_accuracy: 0.9555 - val_loss: 0.1262 - val_binary_accuracy: 0.9599\n",
            "Epoch 19/20\n",
            "15/15 [==============================] - 0s 14ms/step - loss: 0.1223 - binary_accuracy: 0.9595 - val_loss: 0.1135 - val_binary_accuracy: 0.9613\n",
            "Epoch 20/20\n",
            "15/15 [==============================] - 0s 17ms/step - loss: 0.1068 - binary_accuracy: 0.9630 - val_loss: 0.1038 - val_binary_accuracy: 0.9632\n"
          ],
          "name": "stdout"
        },
        {
          "output_type": "execute_result",
          "data": {
            "text/plain": [
              "dict_keys(['loss', 'binary_accuracy', 'val_loss', 'val_binary_accuracy'])"
            ]
          },
          "metadata": {
            "tags": []
          },
          "execution_count": 73
        }
      ]
    },
    {
      "cell_type": "code",
      "metadata": {
        "id": "HcDkPYODv7o9"
      },
      "source": [
        ""
      ],
      "execution_count": null,
      "outputs": []
    }
  ]
}